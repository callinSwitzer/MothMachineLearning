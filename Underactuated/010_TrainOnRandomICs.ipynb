{
 "cells": [
  {
   "cell_type": "markdown",
   "metadata": {},
   "source": [
    "# Callin Switzer\n",
    "### 12 Dec 2018 -- Initial commit\n",
    "___\n",
    "### - Train Dense, Feedforward Neural Network with Keras\n",
    "### - Use data that was generated in Python"
   ]
  },
  {
   "cell_type": "markdown",
   "metadata": {},
   "source": [
    "___"
   ]
  },
  {
   "cell_type": "code",
   "execution_count": 67,
   "metadata": {},
   "outputs": [
    {
     "name": "stdout",
     "output_type": "stream",
     "text": [
      "TensorFlow successfully installed.\n",
      "The installed version of TensorFlow includes GPU support.\n",
      "3.6.4 |Anaconda custom (64-bit)| (default, Jan 16 2018, 10:22:32) [MSC v.1900 64 bit (AMD64)] \n",
      "\n",
      "last run on 2019-09-23 15:55:28.161433\n"
     ]
    }
   ],
   "source": [
    "import numpy as np\n",
    "from matplotlib import pyplot as plt\n",
    "%matplotlib inline\n",
    "from matplotlib.ticker import ScalarFormatter\n",
    "import os\n",
    "import pandas as pd\n",
    "import time\n",
    "from datetime import datetime\n",
    "import sys\n",
    "import seaborn as sns\n",
    "import scipy.io\n",
    "import subprocess\n",
    "import winsound\n",
    "import pickle\n",
    "import glob\n",
    "\n",
    "from sklearn.model_selection import train_test_split\n",
    "from sklearn.preprocessing import StandardScaler, MinMaxScaler\n",
    "from sklearn.metrics import mean_squared_error, r2_score\n",
    "import tensorflow as tf\n",
    "print(\"TensorFlow successfully installed.\")\n",
    "if tf.test.is_built_with_cuda():\n",
    "    print(\"The installed version of TensorFlow includes GPU support.\")\n",
    "print(sys.version, \"\\n\")\n",
    "now = datetime.now()\n",
    "print(\"last run on \" + str(now))\n",
    "\n",
    "# define directories\n",
    "baseDir = os.getcwd()\n",
    "dataDir = r'D:\\MothSimulations\\11c-AggressiveManeuver\\Qstore\\hws_am_con'\n",
    "figDir = r'D:\\Dropbox\\AcademiaDropbox\\mothMachineLearning_dataAndFigs\\Figs'\n",
    "dataOutput = r'D:\\Dropbox\\AcademiaDropbox\\mothMachineLearning_dataAndFigs\\DataOutput'\n",
    "savedModels = r'D:\\Dropbox\\AcademiaDropbox\\mothMachineLearning_dataAndFigs\\savedModels'\n",
    "dataDir = r'D:\\Dropbox\\AcademiaDropbox\\mothMachineLearning_dataAndFigs\\data'\n",
    "if not os.path.exists(figDir):\n",
    "    os.mkdir(figDir)\n",
    "\n",
    "if not os.path.exists(dataOutput):\n",
    "    os.mkdir(dataOutput)\n",
    "if not os.path.exists(savedModels):\n",
    "    os.mkdir(savedModels)\n"
   ]
  },
  {
   "cell_type": "code",
   "execution_count": 2,
   "metadata": {},
   "outputs": [
    {
     "name": "stderr",
     "output_type": "stream",
     "text": [
      "Using TensorFlow backend.\n"
     ]
    }
   ],
   "source": [
    "# import\n",
    "from keras.layers import Input, Dense, Dropout, BatchNormalization\n",
    "from keras.models import Model\n",
    "from keras import regularizers\n",
    "\n",
    "# Keras callcacks\n",
    "from keras.callbacks import EarlyStopping, ReduceLROnPlateau\n",
    "import keras.backend as K"
   ]
  },
  {
   "cell_type": "markdown",
   "metadata": {},
   "source": [
    "# Make training and test set"
   ]
  },
  {
   "cell_type": "code",
   "execution_count": 3,
   "metadata": {},
   "outputs": [
    {
     "name": "stdout",
     "output_type": "stream",
     "text": [
      "(500000, 19)\n"
     ]
    }
   ],
   "source": [
    "# concatenate all files (only need to do this once)\n",
    "# it takes a few minutes\n",
    "all_files = glob.glob(os.path.join(dataDir, \"*.csv\"))     \n",
    "df_from_each_file = (pd.read_csv(f) for f in all_files)\n",
    "concatenated_df   = pd.concat(df_from_each_file, ignore_index=True)\n",
    "\n",
    "# check for duplicates\n",
    "concatenated_df.drop_duplicates(inplace=True)\n",
    "concatenated_df.shape\n",
    "\n",
    "print(concatenated_df.shape)\n",
    "concatenated_df.tail()\n",
    "\n",
    "# save to hdf5\n",
    "concatenated_df.to_hdf(os.path.join(dataOutput, \"concatenatedRandomICs.h5\"), key = \"data\")"
   ]
  },
  {
   "cell_type": "code",
   "execution_count": 40,
   "metadata": {},
   "outputs": [],
   "source": [
    "# read in data\n",
    "trainDF = pd.read_hdf(os.path.join(dataOutput, \"concatenatedRandomICs.h5\"), key = \"data\")"
   ]
  },
  {
   "cell_type": "code",
   "execution_count": 41,
   "metadata": {},
   "outputs": [
    {
     "data": {
      "text/plain": [
       "0"
      ]
     },
     "execution_count": 41,
     "metadata": {},
     "output_type": "execute_result"
    }
   ],
   "source": [
    "# double check for repeats!\n",
    "np.sum(trainDF.iloc[:, [16,17,18]].duplicated()) # 0 means no repeats"
   ]
  },
  {
   "cell_type": "code",
   "execution_count": 42,
   "metadata": {},
   "outputs": [
    {
     "name": "stdout",
     "output_type": "stream",
     "text": [
      "(500000, 19)\n"
     ]
    },
    {
     "data": {
      "text/html": [
       "<div>\n",
       "<style scoped>\n",
       "    .dataframe tbody tr th:only-of-type {\n",
       "        vertical-align: middle;\n",
       "    }\n",
       "\n",
       "    .dataframe tbody tr th {\n",
       "        vertical-align: top;\n",
       "    }\n",
       "\n",
       "    .dataframe thead th {\n",
       "        text-align: right;\n",
       "    }\n",
       "</style>\n",
       "<table border=\"1\" class=\"dataframe\">\n",
       "  <thead>\n",
       "    <tr style=\"text-align: right;\">\n",
       "      <th></th>\n",
       "      <th>x0</th>\n",
       "      <th>xf</th>\n",
       "      <th>xd0</th>\n",
       "      <th>xdf</th>\n",
       "      <th>y0</th>\n",
       "      <th>yf</th>\n",
       "      <th>yd0</th>\n",
       "      <th>ydf</th>\n",
       "      <th>theta0</th>\n",
       "      <th>thetaf</th>\n",
       "      <th>thetad0</th>\n",
       "      <th>thetadf</th>\n",
       "      <th>phi0</th>\n",
       "      <th>phif</th>\n",
       "      <th>phid0</th>\n",
       "      <th>phidf</th>\n",
       "      <th>F</th>\n",
       "      <th>alpha</th>\n",
       "      <th>tau0</th>\n",
       "    </tr>\n",
       "  </thead>\n",
       "  <tbody>\n",
       "    <tr>\n",
       "      <th>0</th>\n",
       "      <td>0.0</td>\n",
       "      <td>-860.538764</td>\n",
       "      <td>-50122.042406</td>\n",
       "      <td>-37099.512049</td>\n",
       "      <td>0.0</td>\n",
       "      <td>1864.077658</td>\n",
       "      <td>112333.095649</td>\n",
       "      <td>78407.466199</td>\n",
       "      <td>1.124204</td>\n",
       "      <td>1.775187</td>\n",
       "      <td>-240.317688</td>\n",
       "      <td>-398.977940</td>\n",
       "      <td>1.676109</td>\n",
       "      <td>1.137340</td>\n",
       "      <td>223.908457</td>\n",
       "      <td>-460.120574</td>\n",
       "      <td>365925.417230</td>\n",
       "      <td>4.308596</td>\n",
       "      <td>905969.160686</td>\n",
       "    </tr>\n",
       "    <tr>\n",
       "      <th>1</th>\n",
       "      <td>0.0</td>\n",
       "      <td>1663.999327</td>\n",
       "      <td>98162.039550</td>\n",
       "      <td>70772.904894</td>\n",
       "      <td>0.0</td>\n",
       "      <td>-1578.437127</td>\n",
       "      <td>-91951.892590</td>\n",
       "      <td>-68471.287625</td>\n",
       "      <td>2.693406</td>\n",
       "      <td>4.812711</td>\n",
       "      <td>-200.894863</td>\n",
       "      <td>1400.049194</td>\n",
       "      <td>5.327012</td>\n",
       "      <td>8.650992</td>\n",
       "      <td>-22.632197</td>\n",
       "      <td>1415.053045</td>\n",
       "      <td>301963.993342</td>\n",
       "      <td>1.157471</td>\n",
       "      <td>-836862.125114</td>\n",
       "    </tr>\n",
       "    <tr>\n",
       "      <th>2</th>\n",
       "      <td>0.0</td>\n",
       "      <td>-2112.906211</td>\n",
       "      <td>-128322.658782</td>\n",
       "      <td>-88483.199912</td>\n",
       "      <td>0.0</td>\n",
       "      <td>1827.677469</td>\n",
       "      <td>108010.493730</td>\n",
       "      <td>78786.893601</td>\n",
       "      <td>0.268087</td>\n",
       "      <td>1.672884</td>\n",
       "      <td>-76.923640</td>\n",
       "      <td>463.565758</td>\n",
       "      <td>5.398761</td>\n",
       "      <td>6.408854</td>\n",
       "      <td>233.275667</td>\n",
       "      <td>427.271735</td>\n",
       "      <td>442563.311276</td>\n",
       "      <td>6.082598</td>\n",
       "      <td>-128736.343362</td>\n",
       "    </tr>\n",
       "    <tr>\n",
       "      <th>3</th>\n",
       "      <td>0.0</td>\n",
       "      <td>-1111.053471</td>\n",
       "      <td>-61945.461511</td>\n",
       "      <td>-51111.250941</td>\n",
       "      <td>0.0</td>\n",
       "      <td>-2178.117332</td>\n",
       "      <td>-134603.694224</td>\n",
       "      <td>-90142.071404</td>\n",
       "      <td>1.454196</td>\n",
       "      <td>5.328020</td>\n",
       "      <td>-143.582522</td>\n",
       "      <td>1517.591974</td>\n",
       "      <td>3.281781</td>\n",
       "      <td>7.010763</td>\n",
       "      <td>-243.190037</td>\n",
       "      <td>1546.588052</td>\n",
       "      <td>179536.991219</td>\n",
       "      <td>4.832508</td>\n",
       "      <td>567528.919560</td>\n",
       "    </tr>\n",
       "    <tr>\n",
       "      <th>4</th>\n",
       "      <td>0.0</td>\n",
       "      <td>-729.739726</td>\n",
       "      <td>-39285.280174</td>\n",
       "      <td>-34179.352246</td>\n",
       "      <td>0.0</td>\n",
       "      <td>-1031.910887</td>\n",
       "      <td>-56601.382912</td>\n",
       "      <td>-46818.328690</td>\n",
       "      <td>0.353609</td>\n",
       "      <td>-3.623116</td>\n",
       "      <td>-228.575046</td>\n",
       "      <td>389.104159</td>\n",
       "      <td>4.769991</td>\n",
       "      <td>-0.295224</td>\n",
       "      <td>-76.699950</td>\n",
       "      <td>321.156438</td>\n",
       "      <td>130307.280323</td>\n",
       "      <td>0.590567</td>\n",
       "      <td>684706.884762</td>\n",
       "    </tr>\n",
       "  </tbody>\n",
       "</table>\n",
       "</div>"
      ],
      "text/plain": [
       "    x0           xf            xd0           xdf   y0           yf  \\\n",
       "0  0.0  -860.538764  -50122.042406 -37099.512049  0.0  1864.077658   \n",
       "1  0.0  1663.999327   98162.039550  70772.904894  0.0 -1578.437127   \n",
       "2  0.0 -2112.906211 -128322.658782 -88483.199912  0.0  1827.677469   \n",
       "3  0.0 -1111.053471  -61945.461511 -51111.250941  0.0 -2178.117332   \n",
       "4  0.0  -729.739726  -39285.280174 -34179.352246  0.0 -1031.910887   \n",
       "\n",
       "             yd0           ydf    theta0    thetaf     thetad0      thetadf  \\\n",
       "0  112333.095649  78407.466199  1.124204  1.775187 -240.317688  -398.977940   \n",
       "1  -91951.892590 -68471.287625  2.693406  4.812711 -200.894863  1400.049194   \n",
       "2  108010.493730  78786.893601  0.268087  1.672884  -76.923640   463.565758   \n",
       "3 -134603.694224 -90142.071404  1.454196  5.328020 -143.582522  1517.591974   \n",
       "4  -56601.382912 -46818.328690  0.353609 -3.623116 -228.575046   389.104159   \n",
       "\n",
       "       phi0      phif       phid0        phidf              F     alpha  \\\n",
       "0  1.676109  1.137340  223.908457  -460.120574  365925.417230  4.308596   \n",
       "1  5.327012  8.650992  -22.632197  1415.053045  301963.993342  1.157471   \n",
       "2  5.398761  6.408854  233.275667   427.271735  442563.311276  6.082598   \n",
       "3  3.281781  7.010763 -243.190037  1546.588052  179536.991219  4.832508   \n",
       "4  4.769991 -0.295224  -76.699950   321.156438  130307.280323  0.590567   \n",
       "\n",
       "            tau0  \n",
       "0  905969.160686  \n",
       "1 -836862.125114  \n",
       "2 -128736.343362  \n",
       "3  567528.919560  \n",
       "4  684706.884762  "
      ]
     },
     "execution_count": 42,
     "metadata": {},
     "output_type": "execute_result"
    }
   ],
   "source": [
    "print(trainDF.shape)\n",
    "trainDF.head()"
   ]
  },
  {
   "cell_type": "code",
   "execution_count": 43,
   "metadata": {},
   "outputs": [],
   "source": [
    "# rename columns to be consistent with other code\n",
    "trainDF.rename(columns={\"x0\" : \"x_0\", \"y0\" : \"y_0\", \"phi0\" : \"phi_0\", \"theta0\" : \"theta_0\", \n",
    "                        \"xf\" : \"x_99\", \"yf\" : \"y_99\", \"phif\" : \"phi_99\", \"thetaf\" : \"theta_99\", \n",
    "                        \"xd0\" : \"x_dot_0\", \"yd0\" : \"y_dot_0\", \"phid0\" : \"phi_dot_0\", \"thetad0\": \"theta_dot_0\", \n",
    "                        \"xdf\" : \"x_dot_99\", \"ydf\": \"y_dot_99\", \"phidf\": \"phi_dot_99\", \"thetadf\": \"theta_dot_99\", \n",
    "                        \"tau0\" : \"tau\"}, inplace=True)"
   ]
  },
  {
   "cell_type": "code",
   "execution_count": 44,
   "metadata": {},
   "outputs": [],
   "source": [
    "# convert angles to sine and cosine\n",
    "# cosx = np.cos(angle)\n",
    "# sinx = np.sin(angle)\n",
    "\n",
    "# # print(angle, np.arctan2(sinx, cosx))\n",
    "\n",
    "# trainDF[\"cos_phi_0\"] = np.cos(trainDF.phi_0)\n",
    "# trainDF[\"sin_phi_0\"] = np.sin(trainDF.phi_0)\n",
    "# trainDF[\"cos_phi_99\"] = np.cos(trainDF.phi_99)\n",
    "# trainDF[\"sin_phi_99\"] = np.sin(trainDF.phi_99)\n",
    "\n",
    "# trainDF[\"sin_theta_0\"] = np.sin(trainDF.theta_0)\n",
    "# trainDF[\"cos_theta_0\"] = np.cos(trainDF.theta_0)\n",
    "# trainDF[\"sin_theta_99\"] = np.sin(trainDF.theta_99)\n",
    "# trainDF[\"cos_theta_99\"] = np.cos(trainDF.theta_99)\n",
    "\n",
    "# convert to fx and fy\n",
    "trainDF[\"Fx\"] = trainDF.F * np.cos(trainDF.alpha)\n",
    "trainDF[\"Fy\"] = trainDF.F * np.sin(trainDF.alpha)\n"
   ]
  },
  {
   "cell_type": "code",
   "execution_count": null,
   "metadata": {},
   "outputs": [],
   "source": []
  },
  {
   "cell_type": "code",
   "execution_count": 45,
   "metadata": {},
   "outputs": [],
   "source": [
    "# make dataset\n",
    "X = trainDF.loc[:, [ \"phi_0\", \"theta_0\", \n",
    "                    \"x_99\", \"y_99\", \"phi_99\", \"theta_99\", \n",
    "                   \"x_dot_0\", \"y_dot_0\", \"phi_dot_0\", \"theta_dot_0\"]]\n",
    "\n",
    "Y = trainDF.loc[:, [\"Fx\", \"Fy\", \"tau\", \"x_dot_99\", \"y_dot_99\", \n",
    "                    \"phi_dot_99\", \"theta_dot_99\"] ]"
   ]
  },
  {
   "cell_type": "code",
   "execution_count": 46,
   "metadata": {},
   "outputs": [
    {
     "data": {
      "text/html": [
       "<div>\n",
       "<style scoped>\n",
       "    .dataframe tbody tr th:only-of-type {\n",
       "        vertical-align: middle;\n",
       "    }\n",
       "\n",
       "    .dataframe tbody tr th {\n",
       "        vertical-align: top;\n",
       "    }\n",
       "\n",
       "    .dataframe thead th {\n",
       "        text-align: right;\n",
       "    }\n",
       "</style>\n",
       "<table border=\"1\" class=\"dataframe\">\n",
       "  <thead>\n",
       "    <tr style=\"text-align: right;\">\n",
       "      <th></th>\n",
       "      <th>phi_0</th>\n",
       "      <th>theta_0</th>\n",
       "      <th>x_99</th>\n",
       "      <th>y_99</th>\n",
       "      <th>phi_99</th>\n",
       "      <th>theta_99</th>\n",
       "      <th>x_dot_0</th>\n",
       "      <th>y_dot_0</th>\n",
       "      <th>phi_dot_0</th>\n",
       "      <th>theta_dot_0</th>\n",
       "    </tr>\n",
       "  </thead>\n",
       "  <tbody>\n",
       "    <tr>\n",
       "      <th>0</th>\n",
       "      <td>1.676109</td>\n",
       "      <td>1.124204</td>\n",
       "      <td>-860.538764</td>\n",
       "      <td>1864.077658</td>\n",
       "      <td>1.137340</td>\n",
       "      <td>1.775187</td>\n",
       "      <td>-50122.042406</td>\n",
       "      <td>112333.095649</td>\n",
       "      <td>223.908457</td>\n",
       "      <td>-240.317688</td>\n",
       "    </tr>\n",
       "    <tr>\n",
       "      <th>1</th>\n",
       "      <td>5.327012</td>\n",
       "      <td>2.693406</td>\n",
       "      <td>1663.999327</td>\n",
       "      <td>-1578.437127</td>\n",
       "      <td>8.650992</td>\n",
       "      <td>4.812711</td>\n",
       "      <td>98162.039550</td>\n",
       "      <td>-91951.892590</td>\n",
       "      <td>-22.632197</td>\n",
       "      <td>-200.894863</td>\n",
       "    </tr>\n",
       "    <tr>\n",
       "      <th>2</th>\n",
       "      <td>5.398761</td>\n",
       "      <td>0.268087</td>\n",
       "      <td>-2112.906211</td>\n",
       "      <td>1827.677469</td>\n",
       "      <td>6.408854</td>\n",
       "      <td>1.672884</td>\n",
       "      <td>-128322.658782</td>\n",
       "      <td>108010.493730</td>\n",
       "      <td>233.275667</td>\n",
       "      <td>-76.923640</td>\n",
       "    </tr>\n",
       "    <tr>\n",
       "      <th>3</th>\n",
       "      <td>3.281781</td>\n",
       "      <td>1.454196</td>\n",
       "      <td>-1111.053471</td>\n",
       "      <td>-2178.117332</td>\n",
       "      <td>7.010763</td>\n",
       "      <td>5.328020</td>\n",
       "      <td>-61945.461511</td>\n",
       "      <td>-134603.694224</td>\n",
       "      <td>-243.190037</td>\n",
       "      <td>-143.582522</td>\n",
       "    </tr>\n",
       "    <tr>\n",
       "      <th>4</th>\n",
       "      <td>4.769991</td>\n",
       "      <td>0.353609</td>\n",
       "      <td>-729.739726</td>\n",
       "      <td>-1031.910887</td>\n",
       "      <td>-0.295224</td>\n",
       "      <td>-3.623116</td>\n",
       "      <td>-39285.280174</td>\n",
       "      <td>-56601.382912</td>\n",
       "      <td>-76.699950</td>\n",
       "      <td>-228.575046</td>\n",
       "    </tr>\n",
       "  </tbody>\n",
       "</table>\n",
       "</div>"
      ],
      "text/plain": [
       "      phi_0   theta_0         x_99         y_99    phi_99  theta_99  \\\n",
       "0  1.676109  1.124204  -860.538764  1864.077658  1.137340  1.775187   \n",
       "1  5.327012  2.693406  1663.999327 -1578.437127  8.650992  4.812711   \n",
       "2  5.398761  0.268087 -2112.906211  1827.677469  6.408854  1.672884   \n",
       "3  3.281781  1.454196 -1111.053471 -2178.117332  7.010763  5.328020   \n",
       "4  4.769991  0.353609  -729.739726 -1031.910887 -0.295224 -3.623116   \n",
       "\n",
       "         x_dot_0        y_dot_0   phi_dot_0  theta_dot_0  \n",
       "0  -50122.042406  112333.095649  223.908457  -240.317688  \n",
       "1   98162.039550  -91951.892590  -22.632197  -200.894863  \n",
       "2 -128322.658782  108010.493730  233.275667   -76.923640  \n",
       "3  -61945.461511 -134603.694224 -243.190037  -143.582522  \n",
       "4  -39285.280174  -56601.382912  -76.699950  -228.575046  "
      ]
     },
     "execution_count": 46,
     "metadata": {},
     "output_type": "execute_result"
    }
   ],
   "source": [
    "X.head()"
   ]
  },
  {
   "cell_type": "code",
   "execution_count": 47,
   "metadata": {},
   "outputs": [
    {
     "data": {
      "text/html": [
       "<div>\n",
       "<style scoped>\n",
       "    .dataframe tbody tr th:only-of-type {\n",
       "        vertical-align: middle;\n",
       "    }\n",
       "\n",
       "    .dataframe tbody tr th {\n",
       "        vertical-align: top;\n",
       "    }\n",
       "\n",
       "    .dataframe thead th {\n",
       "        text-align: right;\n",
       "    }\n",
       "</style>\n",
       "<table border=\"1\" class=\"dataframe\">\n",
       "  <thead>\n",
       "    <tr style=\"text-align: right;\">\n",
       "      <th></th>\n",
       "      <th>Fx</th>\n",
       "      <th>Fy</th>\n",
       "      <th>tau</th>\n",
       "      <th>x_dot_99</th>\n",
       "      <th>y_dot_99</th>\n",
       "      <th>phi_dot_99</th>\n",
       "      <th>theta_dot_99</th>\n",
       "    </tr>\n",
       "  </thead>\n",
       "  <tbody>\n",
       "    <tr>\n",
       "      <th>0</th>\n",
       "      <td>-143775.519045</td>\n",
       "      <td>-336496.673235</td>\n",
       "      <td>905969.160686</td>\n",
       "      <td>-37099.512049</td>\n",
       "      <td>78407.466199</td>\n",
       "      <td>-460.120574</td>\n",
       "      <td>-398.977940</td>\n",
       "    </tr>\n",
       "    <tr>\n",
       "      <th>1</th>\n",
       "      <td>121285.802738</td>\n",
       "      <td>276535.725231</td>\n",
       "      <td>-836862.125114</td>\n",
       "      <td>70772.904894</td>\n",
       "      <td>-68471.287625</td>\n",
       "      <td>1415.053045</td>\n",
       "      <td>1400.049194</td>\n",
       "    </tr>\n",
       "    <tr>\n",
       "      <th>2</th>\n",
       "      <td>433689.765168</td>\n",
       "      <td>-88178.637303</td>\n",
       "      <td>-128736.343362</td>\n",
       "      <td>-88483.199912</td>\n",
       "      <td>78786.893601</td>\n",
       "      <td>427.271735</td>\n",
       "      <td>463.565758</td>\n",
       "    </tr>\n",
       "    <tr>\n",
       "      <th>3</th>\n",
       "      <td>21514.002933</td>\n",
       "      <td>-178243.313742</td>\n",
       "      <td>567528.919560</td>\n",
       "      <td>-51111.250941</td>\n",
       "      <td>-90142.071404</td>\n",
       "      <td>1546.588052</td>\n",
       "      <td>1517.591974</td>\n",
       "    </tr>\n",
       "    <tr>\n",
       "      <th>4</th>\n",
       "      <td>108236.510499</td>\n",
       "      <td>72559.252341</td>\n",
       "      <td>684706.884762</td>\n",
       "      <td>-34179.352246</td>\n",
       "      <td>-46818.328690</td>\n",
       "      <td>321.156438</td>\n",
       "      <td>389.104159</td>\n",
       "    </tr>\n",
       "  </tbody>\n",
       "</table>\n",
       "</div>"
      ],
      "text/plain": [
       "              Fx             Fy            tau      x_dot_99      y_dot_99  \\\n",
       "0 -143775.519045 -336496.673235  905969.160686 -37099.512049  78407.466199   \n",
       "1  121285.802738  276535.725231 -836862.125114  70772.904894 -68471.287625   \n",
       "2  433689.765168  -88178.637303 -128736.343362 -88483.199912  78786.893601   \n",
       "3   21514.002933 -178243.313742  567528.919560 -51111.250941 -90142.071404   \n",
       "4  108236.510499   72559.252341  684706.884762 -34179.352246 -46818.328690   \n",
       "\n",
       "    phi_dot_99  theta_dot_99  \n",
       "0  -460.120574   -398.977940  \n",
       "1  1415.053045   1400.049194  \n",
       "2   427.271735    463.565758  \n",
       "3  1546.588052   1517.591974  \n",
       "4   321.156438    389.104159  "
      ]
     },
     "execution_count": 47,
     "metadata": {},
     "output_type": "execute_result"
    }
   ],
   "source": [
    "Y.head()"
   ]
  },
  {
   "cell_type": "code",
   "execution_count": 48,
   "metadata": {},
   "outputs": [],
   "source": [
    "# test train split\n",
    "Xtrain, Xtest, Ytrain, Ytest = train_test_split(X, Y, test_size=0.2, random_state = 123)"
   ]
  },
  {
   "cell_type": "raw",
   "metadata": {},
   "source": [
    "# scale data \n",
    "scalerX = StandardScaler()  \n",
    "scalerY = StandardScaler()  \n",
    "\n",
    "# Don't cheat - fit only on training data\n",
    "scalerX.fit(Xtrain)  \n",
    "scalerY.fit(Ytrain) \n",
    "\n",
    "Xtrain_scaled = scalerX.transform(Xtrain)  \n",
    "Ytrain_scaled = scalerY.transform(Ytrain)  \n",
    "\n",
    "# apply same transformation to test data\n",
    "Xtest_scaled = scalerX.transform(Xtest)\n",
    "Ytest_scaled = scalerY.transform(Ytest)"
   ]
  },
  {
   "cell_type": "code",
   "execution_count": 49,
   "metadata": {},
   "outputs": [],
   "source": [
    "# scale data \n",
    "scalerX = MinMaxScaler([-0.5, 0.5])  \n",
    "scalerY = MinMaxScaler([-0.5, 0.5])  \n",
    "\n",
    "# Don't cheat - fit only on training data\n",
    "scalerX.fit(Xtrain)  \n",
    "scalerY.fit(Ytrain) \n",
    "\n",
    "Xtrain_scaled = scalerX.transform(Xtrain)  \n",
    "Ytrain_scaled = scalerY.transform(Ytrain)  \n",
    "\n",
    "# apply same transformation to test data\n",
    "Xtest_scaled = scalerX.transform(Xtest)\n",
    "Ytest_scaled = scalerY.transform(Ytest)"
   ]
  },
  {
   "cell_type": "code",
   "execution_count": 50,
   "metadata": {},
   "outputs": [
    {
     "data": {
      "text/html": [
       "<div>\n",
       "<style scoped>\n",
       "    .dataframe tbody tr th:only-of-type {\n",
       "        vertical-align: middle;\n",
       "    }\n",
       "\n",
       "    .dataframe tbody tr th {\n",
       "        vertical-align: top;\n",
       "    }\n",
       "\n",
       "    .dataframe thead th {\n",
       "        text-align: right;\n",
       "    }\n",
       "</style>\n",
       "<table border=\"1\" class=\"dataframe\">\n",
       "  <thead>\n",
       "    <tr style=\"text-align: right;\">\n",
       "      <th></th>\n",
       "      <th>phi_0</th>\n",
       "      <th>theta_0</th>\n",
       "      <th>x_99</th>\n",
       "      <th>y_99</th>\n",
       "      <th>phi_99</th>\n",
       "      <th>theta_99</th>\n",
       "      <th>x_dot_0</th>\n",
       "      <th>y_dot_0</th>\n",
       "      <th>phi_dot_0</th>\n",
       "      <th>theta_dot_0</th>\n",
       "    </tr>\n",
       "  </thead>\n",
       "  <tbody>\n",
       "    <tr>\n",
       "      <th>0</th>\n",
       "      <td>-0.044459</td>\n",
       "      <td>-0.077471</td>\n",
       "      <td>-0.378135</td>\n",
       "      <td>-0.276599</td>\n",
       "      <td>0.011725</td>\n",
       "      <td>0.012436</td>\n",
       "      <td>-0.363804</td>\n",
       "      <td>-0.246997</td>\n",
       "      <td>0.166977</td>\n",
       "      <td>0.463921</td>\n",
       "    </tr>\n",
       "    <tr>\n",
       "      <th>1</th>\n",
       "      <td>-0.296392</td>\n",
       "      <td>0.033915</td>\n",
       "      <td>0.229830</td>\n",
       "      <td>-0.288629</td>\n",
       "      <td>-0.011401</td>\n",
       "      <td>0.013935</td>\n",
       "      <td>0.209107</td>\n",
       "      <td>-0.268205</td>\n",
       "      <td>0.290953</td>\n",
       "      <td>0.184129</td>\n",
       "    </tr>\n",
       "    <tr>\n",
       "      <th>2</th>\n",
       "      <td>0.462941</td>\n",
       "      <td>-0.375731</td>\n",
       "      <td>0.171034</td>\n",
       "      <td>0.140524</td>\n",
       "      <td>0.026247</td>\n",
       "      <td>-0.011535</td>\n",
       "      <td>0.151930</td>\n",
       "      <td>0.117742</td>\n",
       "      <td>0.232862</td>\n",
       "      <td>0.146800</td>\n",
       "    </tr>\n",
       "    <tr>\n",
       "      <th>3</th>\n",
       "      <td>0.131530</td>\n",
       "      <td>0.404820</td>\n",
       "      <td>0.036584</td>\n",
       "      <td>-0.332834</td>\n",
       "      <td>0.002561</td>\n",
       "      <td>0.019010</td>\n",
       "      <td>0.026978</td>\n",
       "      <td>-0.323603</td>\n",
       "      <td>-0.453282</td>\n",
       "      <td>0.353115</td>\n",
       "    </tr>\n",
       "    <tr>\n",
       "      <th>4</th>\n",
       "      <td>0.137024</td>\n",
       "      <td>0.151784</td>\n",
       "      <td>0.430877</td>\n",
       "      <td>0.107266</td>\n",
       "      <td>0.045268</td>\n",
       "      <td>0.039668</td>\n",
       "      <td>0.429445</td>\n",
       "      <td>0.087003</td>\n",
       "      <td>-0.308493</td>\n",
       "      <td>0.173367</td>\n",
       "    </tr>\n",
       "  </tbody>\n",
       "</table>\n",
       "</div>"
      ],
      "text/plain": [
       "      phi_0   theta_0      x_99      y_99    phi_99  theta_99   x_dot_0  \\\n",
       "0 -0.044459 -0.077471 -0.378135 -0.276599  0.011725  0.012436 -0.363804   \n",
       "1 -0.296392  0.033915  0.229830 -0.288629 -0.011401  0.013935  0.209107   \n",
       "2  0.462941 -0.375731  0.171034  0.140524  0.026247 -0.011535  0.151930   \n",
       "3  0.131530  0.404820  0.036584 -0.332834  0.002561  0.019010  0.026978   \n",
       "4  0.137024  0.151784  0.430877  0.107266  0.045268  0.039668  0.429445   \n",
       "\n",
       "    y_dot_0  phi_dot_0  theta_dot_0  \n",
       "0 -0.246997   0.166977     0.463921  \n",
       "1 -0.268205   0.290953     0.184129  \n",
       "2  0.117742   0.232862     0.146800  \n",
       "3 -0.323603  -0.453282     0.353115  \n",
       "4  0.087003  -0.308493     0.173367  "
      ]
     },
     "execution_count": 50,
     "metadata": {},
     "output_type": "execute_result"
    }
   ],
   "source": [
    "pd.DataFrame(Xtrain_scaled, columns = X.columns).head()"
   ]
  },
  {
   "cell_type": "code",
   "execution_count": 52,
   "metadata": {},
   "outputs": [],
   "source": [
    "# save scalers, to be used on test set\n",
    "scalerfileX = 'scalerX.pkl'\n",
    "pickle.dump(scalerX, open(os.path.join(dataOutput, scalerfileX), 'wb'))\n",
    "\n",
    "scalerfileY = 'scalerY.pkl'\n",
    "pickle.dump(scalerY, open(os.path.join(dataOutput, scalerfileY), 'wb'))"
   ]
  },
  {
   "cell_type": "markdown",
   "metadata": {},
   "source": [
    "# Keras models"
   ]
  },
  {
   "cell_type": "code",
   "execution_count": 53,
   "metadata": {},
   "outputs": [],
   "source": [
    "from keras.wrappers.scikit_learn import KerasRegressor\n",
    "from sklearn.model_selection import RandomizedSearchCV"
   ]
  },
  {
   "cell_type": "code",
   "execution_count": 54,
   "metadata": {},
   "outputs": [],
   "source": [
    "K.clear_session()"
   ]
  },
  {
   "cell_type": "code",
   "execution_count": 58,
   "metadata": {},
   "outputs": [],
   "source": [
    "# create network\n",
    "def create_network(optimizer = 'rmsprop', \n",
    "                    numUnits = [400, 16], \n",
    "                    weightRegularization = 0.0, \n",
    "                    dropout_rate=0.1):\n",
    "    \n",
    "    '''\n",
    "    Create a feed forward network.  Assumes Xtrain & Ytrain have been created and scaled\n",
    "    \n",
    "    Params: \n",
    "    optimizer (str): choice of optimizer\n",
    "    numUnits (list): number of units in each hidden\n",
    "    weightRegularization (float): between 0 and 1\n",
    "    dropout_rate (float): between 0 and 1\n",
    "    \n",
    "    '''\n",
    "    K.clear_session()\n",
    "    inputs = Input(shape=(Xtrain_scaled.shape[1],))    \n",
    "    \n",
    "    # add layers\n",
    "    for ii in np.arange(0, len(numUnits)):\n",
    "        if ii >= 1: \n",
    "            x = Dense(numUnits[ii], activation='tanh', \n",
    "                      kernel_regularizer=regularizers.l1(weightRegularization))(x)\n",
    "\n",
    "        else: \n",
    "            x = Dense(numUnits[ii], activation='tanh')(inputs)\n",
    "\n",
    "\n",
    "        # add dropout\n",
    "        if dropout_rate > 0: \n",
    "            x = Dropout(dropout_rate)(x)\n",
    "    \n",
    "    predictions = Dense(Ytrain_scaled.shape[1], activation='linear')(x)\n",
    "\n",
    "    # create model\n",
    "    model = Model(inputs=inputs, outputs=predictions)\n",
    "    model.compile(loss=\"mean_squared_error\", optimizer = optimizer, metrics = ['mse'])\n",
    "\n",
    "    return(model)"
   ]
  },
  {
   "cell_type": "code",
   "execution_count": 59,
   "metadata": {},
   "outputs": [
    {
     "name": "stdout",
     "output_type": "stream",
     "text": [
      "Opt_rmsprop__Dro_0.0__Num_400_400_400_16__Wei_0.0\n",
      "_________________________________________________________________\n",
      "Layer (type)                 Output Shape              Param #   \n",
      "=================================================================\n",
      "input_1 (InputLayer)         (None, 10)                0         \n",
      "_________________________________________________________________\n",
      "dense_1 (Dense)              (None, 400)               4400      \n",
      "_________________________________________________________________\n",
      "dense_2 (Dense)              (None, 400)               160400    \n",
      "_________________________________________________________________\n",
      "dense_3 (Dense)              (None, 400)               160400    \n",
      "_________________________________________________________________\n",
      "dense_4 (Dense)              (None, 16)                6416      \n",
      "_________________________________________________________________\n",
      "dense_5 (Dense)              (None, 7)                 119       \n",
      "=================================================================\n",
      "Total params: 331,735\n",
      "Trainable params: 331,735\n",
      "Non-trainable params: 0\n",
      "_________________________________________________________________\n"
     ]
    }
   ],
   "source": [
    "modelParams = {\"optimizer\": \"rmsprop\", \n",
    "              \"dropout_rate\" : 0.0, \n",
    "               \"numUnits\": [400, 400, 400, 16],\n",
    "               \"weightRegularization\": 0.0\n",
    "              }\n",
    "\n",
    "\n",
    "model = create_network(**modelParams)\n",
    "\n",
    "modelName = ''.join('{}_{}__'.format(key[0:3].capitalize(), val) for  key, val in modelParams.items()).replace(\"[\", \"\").replace(\"]\", \"\").replace(\", \", \"_\")[0:-2]\n",
    "print(modelName)\n",
    "\n",
    "model.summary()"
   ]
  },
  {
   "cell_type": "code",
   "execution_count": 60,
   "metadata": {},
   "outputs": [],
   "source": [
    "#model.get_config()\n",
    "earlystop = EarlyStopping(monitor='val_mean_squared_error', patience=15, \n",
    "                          verbose=1, mode='auto', min_delta = 0.000001)"
   ]
  },
  {
   "cell_type": "code",
   "execution_count": 61,
   "metadata": {},
   "outputs": [
    {
     "name": "stdout",
     "output_type": "stream",
     "text": [
      "Train on 280000 samples, validate on 120000 samples\n",
      "Epoch 1/150\n",
      " - 9s - loss: 0.0263 - mean_squared_error: 0.0263 - val_loss: 0.0216 - val_mean_squared_error: 0.0216\n",
      "Epoch 2/150\n",
      " - 1s - loss: 0.0189 - mean_squared_error: 0.0189 - val_loss: 0.0186 - val_mean_squared_error: 0.0186\n",
      "Epoch 3/150\n",
      " - 1s - loss: 0.0173 - mean_squared_error: 0.0173 - val_loss: 0.0172 - val_mean_squared_error: 0.0172\n",
      "Epoch 4/150\n",
      " - 1s - loss: 0.0166 - mean_squared_error: 0.0166 - val_loss: 0.0163 - val_mean_squared_error: 0.0163\n",
      "Epoch 5/150\n",
      " - 1s - loss: 0.0163 - mean_squared_error: 0.0163 - val_loss: 0.0162 - val_mean_squared_error: 0.0162\n",
      "Epoch 6/150\n",
      " - 1s - loss: 0.0161 - mean_squared_error: 0.0161 - val_loss: 0.0160 - val_mean_squared_error: 0.0160\n",
      "Epoch 7/150\n",
      " - 1s - loss: 0.0160 - mean_squared_error: 0.0160 - val_loss: 0.0159 - val_mean_squared_error: 0.0159\n",
      "Epoch 8/150\n",
      " - 1s - loss: 0.0158 - mean_squared_error: 0.0158 - val_loss: 0.0163 - val_mean_squared_error: 0.0163\n",
      "Epoch 9/150\n",
      " - 1s - loss: 0.0157 - mean_squared_error: 0.0157 - val_loss: 0.0160 - val_mean_squared_error: 0.0160\n",
      "Epoch 10/150\n",
      " - 1s - loss: 0.0157 - mean_squared_error: 0.0157 - val_loss: 0.0156 - val_mean_squared_error: 0.0156\n",
      "Epoch 11/150\n",
      " - 1s - loss: 0.0156 - mean_squared_error: 0.0156 - val_loss: 0.0158 - val_mean_squared_error: 0.0158\n",
      "Epoch 12/150\n",
      " - 1s - loss: 0.0155 - mean_squared_error: 0.0155 - val_loss: 0.0154 - val_mean_squared_error: 0.0154\n",
      "Epoch 13/150\n",
      " - 1s - loss: 0.0154 - mean_squared_error: 0.0154 - val_loss: 0.0159 - val_mean_squared_error: 0.0159\n",
      "Epoch 14/150\n",
      " - 1s - loss: 0.0153 - mean_squared_error: 0.0153 - val_loss: 0.0153 - val_mean_squared_error: 0.0153\n",
      "Epoch 15/150\n",
      " - 1s - loss: 0.0153 - mean_squared_error: 0.0153 - val_loss: 0.0153 - val_mean_squared_error: 0.0153\n",
      "Epoch 16/150\n",
      " - 1s - loss: 0.0152 - mean_squared_error: 0.0152 - val_loss: 0.0152 - val_mean_squared_error: 0.0152\n",
      "Epoch 17/150\n",
      " - 1s - loss: 0.0152 - mean_squared_error: 0.0152 - val_loss: 0.0158 - val_mean_squared_error: 0.0158\n",
      "Epoch 18/150\n",
      " - 1s - loss: 0.0152 - mean_squared_error: 0.0152 - val_loss: 0.0152 - val_mean_squared_error: 0.0152\n",
      "Epoch 19/150\n",
      " - 1s - loss: 0.0151 - mean_squared_error: 0.0151 - val_loss: 0.0154 - val_mean_squared_error: 0.0154\n",
      "Epoch 20/150\n",
      " - 1s - loss: 0.0151 - mean_squared_error: 0.0151 - val_loss: 0.0153 - val_mean_squared_error: 0.0153\n",
      "Epoch 21/150\n",
      " - 1s - loss: 0.0150 - mean_squared_error: 0.0150 - val_loss: 0.0153 - val_mean_squared_error: 0.0153\n",
      "Epoch 22/150\n",
      " - 1s - loss: 0.0150 - mean_squared_error: 0.0150 - val_loss: 0.0150 - val_mean_squared_error: 0.0150\n",
      "Epoch 23/150\n",
      " - 1s - loss: 0.0150 - mean_squared_error: 0.0150 - val_loss: 0.0152 - val_mean_squared_error: 0.0152\n",
      "Epoch 24/150\n",
      " - 1s - loss: 0.0149 - mean_squared_error: 0.0149 - val_loss: 0.0151 - val_mean_squared_error: 0.0151\n",
      "Epoch 25/150\n",
      " - 1s - loss: 0.0149 - mean_squared_error: 0.0149 - val_loss: 0.0149 - val_mean_squared_error: 0.0149\n",
      "Epoch 26/150\n",
      " - 1s - loss: 0.0148 - mean_squared_error: 0.0148 - val_loss: 0.0149 - val_mean_squared_error: 0.0149\n",
      "Epoch 27/150\n",
      " - 1s - loss: 0.0148 - mean_squared_error: 0.0148 - val_loss: 0.0151 - val_mean_squared_error: 0.0151\n",
      "Epoch 28/150\n",
      " - 1s - loss: 0.0147 - mean_squared_error: 0.0147 - val_loss: 0.0151 - val_mean_squared_error: 0.0151\n",
      "Epoch 29/150\n",
      " - 1s - loss: 0.0146 - mean_squared_error: 0.0146 - val_loss: 0.0147 - val_mean_squared_error: 0.0147\n",
      "Epoch 30/150\n",
      " - 1s - loss: 0.0145 - mean_squared_error: 0.0145 - val_loss: 0.0147 - val_mean_squared_error: 0.0147\n",
      "Epoch 31/150\n",
      " - 1s - loss: 0.0145 - mean_squared_error: 0.0145 - val_loss: 0.0147 - val_mean_squared_error: 0.0147\n",
      "Epoch 32/150\n",
      " - 1s - loss: 0.0145 - mean_squared_error: 0.0145 - val_loss: 0.0148 - val_mean_squared_error: 0.0148\n",
      "Epoch 33/150\n",
      " - 1s - loss: 0.0144 - mean_squared_error: 0.0144 - val_loss: 0.0147 - val_mean_squared_error: 0.0147\n",
      "Epoch 34/150\n",
      " - 1s - loss: 0.0143 - mean_squared_error: 0.0143 - val_loss: 0.0145 - val_mean_squared_error: 0.0145\n",
      "Epoch 35/150\n",
      " - 1s - loss: 0.0142 - mean_squared_error: 0.0142 - val_loss: 0.0143 - val_mean_squared_error: 0.0143\n",
      "Epoch 36/150\n",
      " - 1s - loss: 0.0141 - mean_squared_error: 0.0141 - val_loss: 0.0142 - val_mean_squared_error: 0.0142\n",
      "Epoch 37/150\n",
      " - 1s - loss: 0.0140 - mean_squared_error: 0.0140 - val_loss: 0.0142 - val_mean_squared_error: 0.0142\n",
      "Epoch 38/150\n",
      " - 1s - loss: 0.0139 - mean_squared_error: 0.0139 - val_loss: 0.0139 - val_mean_squared_error: 0.0139\n",
      "Epoch 39/150\n",
      " - 1s - loss: 0.0139 - mean_squared_error: 0.0139 - val_loss: 0.0140 - val_mean_squared_error: 0.0140\n",
      "Epoch 40/150\n",
      " - 1s - loss: 0.0137 - mean_squared_error: 0.0137 - val_loss: 0.0138 - val_mean_squared_error: 0.0138\n",
      "Epoch 41/150\n",
      " - 1s - loss: 0.0136 - mean_squared_error: 0.0136 - val_loss: 0.0137 - val_mean_squared_error: 0.0137\n",
      "Epoch 42/150\n",
      " - 1s - loss: 0.0134 - mean_squared_error: 0.0134 - val_loss: 0.0135 - val_mean_squared_error: 0.0135\n",
      "Epoch 43/150\n",
      " - 1s - loss: 0.0133 - mean_squared_error: 0.0133 - val_loss: 0.0133 - val_mean_squared_error: 0.0133\n",
      "Epoch 44/150\n",
      " - 1s - loss: 0.0131 - mean_squared_error: 0.0131 - val_loss: 0.0129 - val_mean_squared_error: 0.0129\n",
      "Epoch 45/150\n",
      " - 1s - loss: 0.0129 - mean_squared_error: 0.0129 - val_loss: 0.0128 - val_mean_squared_error: 0.0128\n",
      "Epoch 46/150\n",
      " - 1s - loss: 0.0128 - mean_squared_error: 0.0128 - val_loss: 0.0134 - val_mean_squared_error: 0.0134\n",
      "Epoch 47/150\n",
      " - 1s - loss: 0.0127 - mean_squared_error: 0.0127 - val_loss: 0.0130 - val_mean_squared_error: 0.0130\n",
      "Epoch 48/150\n",
      " - 1s - loss: 0.0125 - mean_squared_error: 0.0125 - val_loss: 0.0123 - val_mean_squared_error: 0.0123\n",
      "Epoch 49/150\n",
      " - 1s - loss: 0.0124 - mean_squared_error: 0.0124 - val_loss: 0.0126 - val_mean_squared_error: 0.0126\n",
      "Epoch 50/150\n",
      " - 1s - loss: 0.0123 - mean_squared_error: 0.0123 - val_loss: 0.0127 - val_mean_squared_error: 0.0127\n",
      "Epoch 51/150\n",
      " - 1s - loss: 0.0122 - mean_squared_error: 0.0122 - val_loss: 0.0121 - val_mean_squared_error: 0.0121\n",
      "Epoch 52/150\n",
      " - 1s - loss: 0.0121 - mean_squared_error: 0.0121 - val_loss: 0.0123 - val_mean_squared_error: 0.0123\n",
      "Epoch 53/150\n",
      " - 1s - loss: 0.0120 - mean_squared_error: 0.0120 - val_loss: 0.0118 - val_mean_squared_error: 0.0118\n",
      "Epoch 54/150\n",
      " - 1s - loss: 0.0119 - mean_squared_error: 0.0119 - val_loss: 0.0119 - val_mean_squared_error: 0.0119\n",
      "Epoch 55/150\n",
      " - 1s - loss: 0.0117 - mean_squared_error: 0.0117 - val_loss: 0.0131 - val_mean_squared_error: 0.0131\n",
      "Epoch 56/150\n",
      " - 1s - loss: 0.0116 - mean_squared_error: 0.0116 - val_loss: 0.0114 - val_mean_squared_error: 0.0114\n",
      "Epoch 57/150\n",
      " - 1s - loss: 0.0115 - mean_squared_error: 0.0115 - val_loss: 0.0113 - val_mean_squared_error: 0.0113\n",
      "Epoch 58/150\n",
      " - 1s - loss: 0.0114 - mean_squared_error: 0.0114 - val_loss: 0.0111 - val_mean_squared_error: 0.0111\n",
      "Epoch 59/150\n",
      " - 1s - loss: 0.0113 - mean_squared_error: 0.0113 - val_loss: 0.0110 - val_mean_squared_error: 0.0110\n",
      "Epoch 60/150\n",
      " - 1s - loss: 0.0112 - mean_squared_error: 0.0112 - val_loss: 0.0114 - val_mean_squared_error: 0.0114\n",
      "Epoch 61/150\n",
      " - 1s - loss: 0.0111 - mean_squared_error: 0.0111 - val_loss: 0.0106 - val_mean_squared_error: 0.0106\n",
      "Epoch 62/150\n",
      " - 1s - loss: 0.0110 - mean_squared_error: 0.0110 - val_loss: 0.0109 - val_mean_squared_error: 0.0109\n",
      "Epoch 63/150\n",
      " - 1s - loss: 0.0109 - mean_squared_error: 0.0109 - val_loss: 0.0120 - val_mean_squared_error: 0.0120\n",
      "Epoch 64/150\n",
      " - 1s - loss: 0.0108 - mean_squared_error: 0.0108 - val_loss: 0.0111 - val_mean_squared_error: 0.0111\n",
      "Epoch 65/150\n",
      " - 1s - loss: 0.0107 - mean_squared_error: 0.0107 - val_loss: 0.0109 - val_mean_squared_error: 0.0109\n",
      "Epoch 66/150\n",
      " - 1s - loss: 0.0107 - mean_squared_error: 0.0107 - val_loss: 0.0107 - val_mean_squared_error: 0.0107\n",
      "Epoch 67/150\n",
      " - 1s - loss: 0.0106 - mean_squared_error: 0.0106 - val_loss: 0.0112 - val_mean_squared_error: 0.0112\n",
      "Epoch 68/150\n",
      " - 1s - loss: 0.0106 - mean_squared_error: 0.0106 - val_loss: 0.0101 - val_mean_squared_error: 0.0101\n",
      "Epoch 69/150\n",
      " - 1s - loss: 0.0105 - mean_squared_error: 0.0105 - val_loss: 0.0114 - val_mean_squared_error: 0.0114\n",
      "Epoch 70/150\n",
      " - 1s - loss: 0.0104 - mean_squared_error: 0.0104 - val_loss: 0.0109 - val_mean_squared_error: 0.0109\n",
      "Epoch 71/150\n",
      " - 1s - loss: 0.0104 - mean_squared_error: 0.0104 - val_loss: 0.0103 - val_mean_squared_error: 0.0103\n",
      "Epoch 72/150\n",
      " - 1s - loss: 0.0103 - mean_squared_error: 0.0103 - val_loss: 0.0097 - val_mean_squared_error: 0.0097\n",
      "Epoch 73/150\n",
      " - 1s - loss: 0.0103 - mean_squared_error: 0.0103 - val_loss: 0.0103 - val_mean_squared_error: 0.0103\n",
      "Epoch 74/150\n",
      " - 1s - loss: 0.0102 - mean_squared_error: 0.0102 - val_loss: 0.0111 - val_mean_squared_error: 0.0111\n",
      "Epoch 75/150\n",
      " - 1s - loss: 0.0102 - mean_squared_error: 0.0102 - val_loss: 0.0100 - val_mean_squared_error: 0.0100\n",
      "Epoch 76/150\n",
      " - 1s - loss: 0.0101 - mean_squared_error: 0.0101 - val_loss: 0.0097 - val_mean_squared_error: 0.0097\n",
      "Epoch 77/150\n",
      " - 1s - loss: 0.0101 - mean_squared_error: 0.0101 - val_loss: 0.0102 - val_mean_squared_error: 0.0102\n",
      "Epoch 78/150\n",
      " - 1s - loss: 0.0100 - mean_squared_error: 0.0100 - val_loss: 0.0104 - val_mean_squared_error: 0.0104\n",
      "Epoch 79/150\n",
      " - 1s - loss: 0.0100 - mean_squared_error: 0.0100 - val_loss: 0.0102 - val_mean_squared_error: 0.0102\n",
      "Epoch 80/150\n",
      " - 1s - loss: 0.0100 - mean_squared_error: 0.0100 - val_loss: 0.0107 - val_mean_squared_error: 0.0107\n",
      "Epoch 81/150\n",
      " - 1s - loss: 0.0099 - mean_squared_error: 0.0099 - val_loss: 0.0099 - val_mean_squared_error: 0.0099\n",
      "Epoch 82/150\n",
      " - 1s - loss: 0.0099 - mean_squared_error: 0.0099 - val_loss: 0.0098 - val_mean_squared_error: 0.0098\n",
      "Epoch 83/150\n",
      " - 1s - loss: 0.0098 - mean_squared_error: 0.0098 - val_loss: 0.0104 - val_mean_squared_error: 0.0104\n",
      "Epoch 84/150\n",
      " - 1s - loss: 0.0098 - mean_squared_error: 0.0098 - val_loss: 0.0101 - val_mean_squared_error: 0.0101\n",
      "Epoch 85/150\n",
      " - 1s - loss: 0.0098 - mean_squared_error: 0.0098 - val_loss: 0.0110 - val_mean_squared_error: 0.0110\n",
      "Epoch 86/150\n",
      " - 1s - loss: 0.0097 - mean_squared_error: 0.0097 - val_loss: 0.0093 - val_mean_squared_error: 0.0093\n",
      "Epoch 87/150\n",
      " - 1s - loss: 0.0097 - mean_squared_error: 0.0097 - val_loss: 0.0098 - val_mean_squared_error: 0.0098\n",
      "Epoch 88/150\n",
      " - 1s - loss: 0.0097 - mean_squared_error: 0.0097 - val_loss: 0.0100 - val_mean_squared_error: 0.0100\n",
      "Epoch 89/150\n",
      " - 1s - loss: 0.0096 - mean_squared_error: 0.0096 - val_loss: 0.0095 - val_mean_squared_error: 0.0095\n",
      "Epoch 90/150\n",
      " - 1s - loss: 0.0096 - mean_squared_error: 0.0096 - val_loss: 0.0096 - val_mean_squared_error: 0.0096\n",
      "Epoch 91/150\n",
      " - 1s - loss: 0.0096 - mean_squared_error: 0.0096 - val_loss: 0.0104 - val_mean_squared_error: 0.0104\n",
      "Epoch 92/150\n",
      " - 1s - loss: 0.0096 - mean_squared_error: 0.0096 - val_loss: 0.0096 - val_mean_squared_error: 0.0096\n",
      "Epoch 93/150\n",
      " - 1s - loss: 0.0095 - mean_squared_error: 0.0095 - val_loss: 0.0094 - val_mean_squared_error: 0.0094\n",
      "Epoch 94/150\n",
      " - 1s - loss: 0.0095 - mean_squared_error: 0.0095 - val_loss: 0.0099 - val_mean_squared_error: 0.0099\n",
      "Epoch 95/150\n",
      " - 1s - loss: 0.0095 - mean_squared_error: 0.0095 - val_loss: 0.0093 - val_mean_squared_error: 0.0093\n",
      "Epoch 96/150\n",
      " - 1s - loss: 0.0094 - mean_squared_error: 0.0094 - val_loss: 0.0095 - val_mean_squared_error: 0.0095\n",
      "Epoch 97/150\n",
      " - 1s - loss: 0.0094 - mean_squared_error: 0.0094 - val_loss: 0.0096 - val_mean_squared_error: 0.0096\n",
      "Epoch 98/150\n",
      " - 1s - loss: 0.0094 - mean_squared_error: 0.0094 - val_loss: 0.0097 - val_mean_squared_error: 0.0097\n",
      "Epoch 99/150\n",
      " - 1s - loss: 0.0093 - mean_squared_error: 0.0093 - val_loss: 0.0090 - val_mean_squared_error: 0.0090\n",
      "Epoch 100/150\n",
      " - 1s - loss: 0.0093 - mean_squared_error: 0.0093 - val_loss: 0.0085 - val_mean_squared_error: 0.0085\n",
      "Epoch 101/150\n",
      " - 1s - loss: 0.0093 - mean_squared_error: 0.0093 - val_loss: 0.0100 - val_mean_squared_error: 0.0100\n",
      "Epoch 102/150\n",
      " - 1s - loss: 0.0093 - mean_squared_error: 0.0093 - val_loss: 0.0094 - val_mean_squared_error: 0.0094\n",
      "Epoch 103/150\n",
      " - 1s - loss: 0.0092 - mean_squared_error: 0.0092 - val_loss: 0.0101 - val_mean_squared_error: 0.0101\n",
      "Epoch 104/150\n",
      " - 1s - loss: 0.0092 - mean_squared_error: 0.0092 - val_loss: 0.0100 - val_mean_squared_error: 0.0100\n",
      "Epoch 105/150\n",
      " - 1s - loss: 0.0092 - mean_squared_error: 0.0092 - val_loss: 0.0093 - val_mean_squared_error: 0.0093\n",
      "Epoch 106/150\n",
      " - 1s - loss: 0.0092 - mean_squared_error: 0.0092 - val_loss: 0.0096 - val_mean_squared_error: 0.0096\n",
      "Epoch 107/150\n",
      " - 1s - loss: 0.0092 - mean_squared_error: 0.0092 - val_loss: 0.0087 - val_mean_squared_error: 0.0087\n",
      "Epoch 108/150\n",
      " - 1s - loss: 0.0091 - mean_squared_error: 0.0091 - val_loss: 0.0090 - val_mean_squared_error: 0.0090\n",
      "Epoch 109/150\n",
      " - 1s - loss: 0.0091 - mean_squared_error: 0.0091 - val_loss: 0.0090 - val_mean_squared_error: 0.0090\n",
      "Epoch 110/150\n",
      " - 1s - loss: 0.0091 - mean_squared_error: 0.0091 - val_loss: 0.0091 - val_mean_squared_error: 0.0091\n",
      "Epoch 111/150\n",
      " - 1s - loss: 0.0091 - mean_squared_error: 0.0091 - val_loss: 0.0094 - val_mean_squared_error: 0.0094\n",
      "Epoch 112/150\n",
      " - 1s - loss: 0.0091 - mean_squared_error: 0.0091 - val_loss: 0.0086 - val_mean_squared_error: 0.0086\n",
      "Epoch 113/150\n",
      " - 1s - loss: 0.0090 - mean_squared_error: 0.0090 - val_loss: 0.0088 - val_mean_squared_error: 0.0088\n",
      "Epoch 114/150\n",
      " - 1s - loss: 0.0090 - mean_squared_error: 0.0090 - val_loss: 0.0086 - val_mean_squared_error: 0.0086\n",
      "Epoch 115/150\n",
      " - 1s - loss: 0.0090 - mean_squared_error: 0.0090 - val_loss: 0.0097 - val_mean_squared_error: 0.0097\n",
      "Epoch 00115: early stopping\n",
      "146.5276370048523\n"
     ]
    }
   ],
   "source": [
    "# fit model without regularization\n",
    "stt = time.time()\n",
    "history = model.fit(Xtrain_scaled, Ytrain_scaled, epochs = 150, verbose = 2, \n",
    "                        batch_size=2**10, callbacks = [earlystop], validation_split = 0.3)\n",
    "winsound.PlaySound(\"*\", winsound.SND_ALIAS)\n",
    "endd = time.time() - stt\n",
    "print(endd)"
   ]
  },
  {
   "cell_type": "code",
   "execution_count": 62,
   "metadata": {},
   "outputs": [
    {
     "data": {
      "text/plain": [
       "0.00965961221208175"
      ]
     },
     "execution_count": 62,
     "metadata": {},
     "output_type": "execute_result"
    }
   ],
   "source": [
    "history.history['val_loss'][-1]# MSE for final epoch testing\n",
    "# why are val MSE vs. loss different????  answer : I think loss incorporates regularization. "
   ]
  },
  {
   "cell_type": "code",
   "execution_count": 63,
   "metadata": {},
   "outputs": [
    {
     "data": {
      "text/plain": [
       "0.00965961221208175"
      ]
     },
     "execution_count": 63,
     "metadata": {},
     "output_type": "execute_result"
    }
   ],
   "source": [
    "history.history['val_mean_squared_error'][-1] # it is the same when there is no regularization"
   ]
  },
  {
   "cell_type": "code",
   "execution_count": 64,
   "metadata": {},
   "outputs": [
    {
     "data": {
      "text/plain": [
       "0.00897613024839333"
      ]
     },
     "execution_count": 64,
     "metadata": {},
     "output_type": "execute_result"
    }
   ],
   "source": [
    "history.history['loss'][-1]# MSE for final epoch training"
   ]
  },
  {
   "cell_type": "code",
   "execution_count": 65,
   "metadata": {},
   "outputs": [],
   "source": [
    "def format_e(n):\n",
    "    a = '%E' % n\n",
    "    return a.split('E')[0].rstrip('0').rstrip('.') + 'E' + a.split('E')[1]\n"
   ]
  },
  {
   "cell_type": "code",
   "execution_count": 68,
   "metadata": {},
   "outputs": [
    {
     "data": {
      "image/png": "[encoded data removed]",
      "text/plain": [
       "<matplotlib.figure.Figure at 0x1a1a85cd9e8>"
      ]
     },
     "metadata": {},
     "output_type": "display_data"
    }
   ],
   "source": [
    "def plot_model_history(model_history, saveFig = False):\n",
    "    fig, axs = plt.subplots(1,1,figsize=(10,5))\n",
    "    # summarize history for accuracy\n",
    "    axs.plot(range(1,len(model_history.history['mean_squared_error'])+1),\n",
    "             model_history.history['mean_squared_error'])\n",
    "    axs.plot(range(1,len(model_history.history['val_mean_squared_error'])+1),\n",
    "             model_history.history['val_mean_squared_error'])\n",
    "    axs.set_title('Model MSE = '+ str(format_e(model_history.history['val_mean_squared_error'][-1])))\n",
    "    axs.set_ylabel('mean_squared_error')\n",
    "    axs.set_xlabel('Epoch')\n",
    "    axs.set_xticks(np.arange(1,len(model_history.history['val_mean_squared_error'])+1),\n",
    "                   len(model_history.history['val_mean_squared_error'])/10)\n",
    "    axs.legend(['train', 'val'], loc='best')\n",
    "    plt.yscale('log') #logarithmic scale for y axis\n",
    "    if saveFig:\n",
    "        fig.savefig(os.path.join(figDir, \"ModelTraining_\" + modelName + \".png\"), dpi = 120, bbox_inches='tight')\n",
    "    \n",
    "    plt.show()\n",
    "    \n",
    "plot_model_history(history, saveFig=True)"
   ]
  },
  {
   "cell_type": "code",
   "execution_count": 71,
   "metadata": {},
   "outputs": [],
   "source": [
    "# save model\n",
    "model.save(os.path.join(savedModels,  modelName + '.h5'))"
   ]
  },
  {
   "cell_type": "code",
   "execution_count": 72,
   "metadata": {},
   "outputs": [],
   "source": [
    "# save weights\n",
    "wts = model.get_weights().copy()\n",
    "\n",
    "wtsFile = modelName + '_wts.pkl'\n",
    "pickle.dump(wts, open(os.path.join(dataOutput, wtsFile), 'wb'))"
   ]
  },
  {
   "cell_type": "code",
   "execution_count": 73,
   "metadata": {},
   "outputs": [],
   "source": [
    "# read file back in \n",
    "wt2 = pickle.load(open(os.path.join(dataOutput, wtsFile), 'rb'))"
   ]
  },
  {
   "cell_type": "code",
   "execution_count": 74,
   "metadata": {},
   "outputs": [
    {
     "data": {
      "text/plain": [
       "'D:\\\\Dropbox\\\\AcademiaDropbox\\\\mothMachineLearning_dataAndFigs\\\\DataOutput\\\\Opt_rmsprop__Dro_0.0__Num_20_20_16__Wei_0_wts.pkl'"
      ]
     },
     "execution_count": 74,
     "metadata": {},
     "output_type": "execute_result"
    }
   ],
   "source": [
    "# END\n",
    "os.path.join(dataOutput, wtsFile)"
   ]
  },
  {
   "cell_type": "code",
   "execution_count": null,
   "metadata": {},
   "outputs": [],
   "source": []
  },
  {
   "cell_type": "markdown",
   "metadata": {},
   "source": [
    "___"
   ]
  },
  {
   "cell_type": "code",
   "execution_count": null,
   "metadata": {},
   "outputs": [],
   "source": [
    "## START NEW ITEM: train and trim weights"
   ]
  },
  {
   "cell_type": "code",
   "execution_count": null,
   "metadata": {},
   "outputs": [],
   "source": [
    "# train and trim weights"
   ]
  },
  {
   "cell_type": "code",
   "execution_count": 75,
   "metadata": {},
   "outputs": [
    {
     "name": "stdout",
     "output_type": "stream",
     "text": [
      "Opt_rmsprop__Dro_0.0__Num_20_20_16__Wei_0\n",
      "_________________________________________________________________\n",
      "Layer (type)                 Output Shape              Param #   \n",
      "=================================================================\n",
      "input_1 (InputLayer)         (None, 10)                0         \n",
      "_________________________________________________________________\n",
      "dense_1 (Dense)              (None, 20)                220       \n",
      "_________________________________________________________________\n",
      "dense_2 (Dense)              (None, 20)                420       \n",
      "_________________________________________________________________\n",
      "dense_3 (Dense)              (None, 16)                336       \n",
      "_________________________________________________________________\n",
      "dense_4 (Dense)              (None, 7)                 119       \n",
      "=================================================================\n",
      "Total params: 1,095\n",
      "Trainable params: 1,095\n",
      "Non-trainable params: 0\n",
      "_________________________________________________________________\n"
     ]
    }
   ],
   "source": [
    "modelParams = {\"optimizer\": \"rmsprop\", \n",
    "              \"dropout_rate\" : 0.0, \n",
    "               \"numUnits\": [20, 20, 16],\n",
    "               \"weightRegularization\": 0\n",
    "              }\n",
    "\n",
    "\n",
    "model = create_network(**modelParams)\n",
    "\n",
    "modelName = ''.join('{}_{}__'.format(key[0:3].capitalize(), val) for  key, val in modelParams.items()).replace(\"[\", \"\").replace(\"]\", \"\").replace(\", \", \"_\")[0:-2]\n",
    "print(modelName)\n",
    "\n",
    "model.summary()"
   ]
  },
  {
   "cell_type": "code",
   "execution_count": 76,
   "metadata": {},
   "outputs": [
    {
     "data": {
      "text/plain": [
       "'D:\\\\Dropbox\\\\AcademiaDropbox\\\\mothMachineLearning_dataAndFigs\\\\DataOutput\\\\Opt_rmsprop__Dro_0.0__Num_20_20_16__Wei_0_wts.pkl'"
      ]
     },
     "execution_count": 76,
     "metadata": {},
     "output_type": "execute_result"
    }
   ],
   "source": [
    "path_to_wts_file = os.path.join(dataOutput, wtsFile)\n",
    "path_to_wts_file"
   ]
  },
  {
   "cell_type": "code",
   "execution_count": 78,
   "metadata": {},
   "outputs": [
    {
     "name": "stdout",
     "output_type": "stream",
     "text": [
      "(10, 20)\n",
      "(20,)\n",
      "(20, 20)\n",
      "(20,)\n",
      "(20, 16)\n",
      "(16,)\n",
      "(16, 7)\n",
      "(7,)\n",
      "1095 total weights\n"
     ]
    }
   ],
   "source": [
    "# read in data\n",
    "import pickle\n",
    "import numpy as np\n",
    "\n",
    "wts =  pickle.load(open(path_to_wts_file, 'rb'))\n",
    "\n",
    "# print sizes of each weight matrix\n",
    "wtLengths = []\n",
    "for ii in range(len(wts)):\n",
    "    print(wts[ii].shape)\n",
    "    wtLengths.append(np.prod(wts[ii].shape))\n",
    "\n",
    "print(np.sum(wtLengths), \"total weights\")"
   ]
  },
  {
   "cell_type": "code",
   "execution_count": 79,
   "metadata": {},
   "outputs": [
    {
     "name": "stdout",
     "output_type": "stream",
     "text": [
      "(10, 20)\n",
      "(20,)\n",
      "(20, 20)\n",
      "(20,)\n",
      "(20, 16)\n",
      "(16,)\n",
      "(16, 7)\n",
      "(7,)\n",
      "1095 total weights\n"
     ]
    }
   ],
   "source": [
    "# print sizes of each weight matrix\n",
    "wtLengths = []\n",
    "\n",
    "wts = model.get_weights().copy()\n",
    "\n",
    "for ii in range(len(wts)):\n",
    "    print(wts[ii].shape)\n",
    "    wtLengths.append(np.prod(wts[ii].shape))\n",
    "print(np.sum(wtLengths), \"total weights\")"
   ]
  },
  {
   "cell_type": "code",
   "execution_count": 80,
   "metadata": {},
   "outputs": [],
   "source": [
    "# start training\n",
    "historyDict = {\"mean_squared_error\": [], \n",
    "               \"val_mean_squared_error\": []}"
   ]
  },
  {
   "cell_type": "code",
   "execution_count": 81,
   "metadata": {},
   "outputs": [
    {
     "name": "stdout",
     "output_type": "stream",
     "text": [
      "Train on 280000 samples, validate on 120000 samples\n",
      "Epoch 1/1\n",
      " - 0s - loss: 0.0818 - mean_squared_error: 0.0818 - val_loss: 0.0488 - val_mean_squared_error: 0.0488\n",
      "373 of 1095 weights retained\n",
      "Train on 280000 samples, validate on 120000 samples\n",
      "Epoch 1/1\n",
      " - 0s - loss: 0.0482 - mean_squared_error: 0.0482 - val_loss: 0.0391 - val_mean_squared_error: 0.0391\n",
      "373 of 1095 weights retained\n",
      "Train on 280000 samples, validate on 120000 samples\n",
      "Epoch 1/1\n",
      " - 0s - loss: 0.0431 - mean_squared_error: 0.0431 - val_loss: 0.0352 - val_mean_squared_error: 0.0352\n",
      "373 of 1095 weights retained\n",
      "Train on 280000 samples, validate on 120000 samples\n",
      "Epoch 1/1\n",
      " - 0s - loss: 0.0382 - mean_squared_error: 0.0382 - val_loss: 0.0318 - val_mean_squared_error: 0.0318\n",
      "373 of 1095 weights retained\n",
      "Train on 280000 samples, validate on 120000 samples\n",
      "Epoch 1/1\n",
      " - 0s - loss: 0.0343 - mean_squared_error: 0.0343 - val_loss: 0.0295 - val_mean_squared_error: 0.0295\n",
      "373 of 1095 weights retained\n",
      "Train on 280000 samples, validate on 120000 samples\n",
      "Epoch 1/1\n",
      " - 0s - loss: 0.0315 - mean_squared_error: 0.0315 - val_loss: 0.0279 - val_mean_squared_error: 0.0279\n",
      "373 of 1095 weights retained\n",
      "Train on 280000 samples, validate on 120000 samples\n",
      "Epoch 1/1\n",
      " - 0s - loss: 0.0294 - mean_squared_error: 0.0294 - val_loss: 0.0268 - val_mean_squared_error: 0.0268\n",
      "373 of 1095 weights retained\n",
      "Train on 280000 samples, validate on 120000 samples\n",
      "Epoch 1/1\n",
      " - 0s - loss: 0.0278 - mean_squared_error: 0.0278 - val_loss: 0.0261 - val_mean_squared_error: 0.0261\n",
      "373 of 1095 weights retained\n",
      "Train on 280000 samples, validate on 120000 samples\n",
      "Epoch 1/1\n",
      " - 0s - loss: 0.0268 - mean_squared_error: 0.0268 - val_loss: 0.0259 - val_mean_squared_error: 0.0259\n",
      "373 of 1095 weights retained\n",
      "Train on 280000 samples, validate on 120000 samples\n",
      "Epoch 1/1\n",
      " - 0s - loss: 0.0262 - mean_squared_error: 0.0262 - val_loss: 0.0258 - val_mean_squared_error: 0.0258\n",
      "373 of 1095 weights retained\n",
      "Train on 280000 samples, validate on 120000 samples\n",
      "Epoch 1/1\n",
      " - 0s - loss: 0.0259 - mean_squared_error: 0.0259 - val_loss: 0.0258 - val_mean_squared_error: 0.0258\n",
      "373 of 1095 weights retained\n",
      "Train on 280000 samples, validate on 120000 samples\n",
      "Epoch 1/1\n",
      " - 0s - loss: 0.0258 - mean_squared_error: 0.0258 - val_loss: 0.0257 - val_mean_squared_error: 0.0257\n",
      "373 of 1095 weights retained\n",
      "Train on 280000 samples, validate on 120000 samples\n",
      "Epoch 1/1\n",
      " - 0s - loss: 0.0257 - mean_squared_error: 0.0257 - val_loss: 0.0257 - val_mean_squared_error: 0.0257\n",
      "373 of 1095 weights retained\n",
      "Train on 280000 samples, validate on 120000 samples\n",
      "Epoch 1/1\n",
      " - 0s - loss: 0.0257 - mean_squared_error: 0.0257 - val_loss: 0.0257 - val_mean_squared_error: 0.0257\n",
      "373 of 1095 weights retained\n",
      "Train on 280000 samples, validate on 120000 samples\n",
      "Epoch 1/1\n",
      " - 0s - loss: 0.0257 - mean_squared_error: 0.0257 - val_loss: 0.0257 - val_mean_squared_error: 0.0257\n",
      "373 of 1095 weights retained\n",
      "Train on 280000 samples, validate on 120000 samples\n",
      "Epoch 1/1\n",
      " - 0s - loss: 0.0256 - mean_squared_error: 0.0256 - val_loss: 0.0256 - val_mean_squared_error: 0.0256\n",
      "373 of 1095 weights retained\n",
      "Train on 280000 samples, validate on 120000 samples\n",
      "Epoch 1/1\n",
      " - 0s - loss: 0.0256 - mean_squared_error: 0.0256 - val_loss: 0.0256 - val_mean_squared_error: 0.0256\n",
      "373 of 1095 weights retained\n",
      "Train on 280000 samples, validate on 120000 samples\n",
      "Epoch 1/1\n",
      " - 0s - loss: 0.0256 - mean_squared_error: 0.0256 - val_loss: 0.0256 - val_mean_squared_error: 0.0256\n",
      "373 of 1095 weights retained\n",
      "Train on 280000 samples, validate on 120000 samples\n",
      "Epoch 1/1\n",
      " - 0s - loss: 0.0255 - mean_squared_error: 0.0255 - val_loss: 0.0255 - val_mean_squared_error: 0.0255\n",
      "373 of 1095 weights retained\n",
      "Train on 280000 samples, validate on 120000 samples\n",
      "Epoch 1/1\n",
      " - 0s - loss: 0.0255 - mean_squared_error: 0.0255 - val_loss: 0.0254 - val_mean_squared_error: 0.0254\n",
      "373 of 1095 weights retained\n",
      "Train on 280000 samples, validate on 120000 samples\n",
      "Epoch 1/1\n",
      " - 0s - loss: 0.0254 - mean_squared_error: 0.0254 - val_loss: 0.0254 - val_mean_squared_error: 0.0254\n",
      "373 of 1095 weights retained\n",
      "Train on 280000 samples, validate on 120000 samples\n",
      "Epoch 1/1\n",
      " - 0s - loss: 0.0254 - mean_squared_error: 0.0254 - val_loss: 0.0254 - val_mean_squared_error: 0.0254\n",
      "373 of 1095 weights retained\n",
      "Train on 280000 samples, validate on 120000 samples\n",
      "Epoch 1/1\n",
      " - 0s - loss: 0.0253 - mean_squared_error: 0.0253 - val_loss: 0.0253 - val_mean_squared_error: 0.0253\n",
      "373 of 1095 weights retained\n",
      "Train on 280000 samples, validate on 120000 samples\n",
      "Epoch 1/1\n",
      " - 0s - loss: 0.0253 - mean_squared_error: 0.0253 - val_loss: 0.0253 - val_mean_squared_error: 0.0253\n",
      "373 of 1095 weights retained\n",
      "Train on 280000 samples, validate on 120000 samples\n",
      "Epoch 1/1\n",
      " - 0s - loss: 0.0252 - mean_squared_error: 0.0252 - val_loss: 0.0252 - val_mean_squared_error: 0.0252\n",
      "373 of 1095 weights retained\n",
      "Train on 280000 samples, validate on 120000 samples\n",
      "Epoch 1/1\n",
      " - 0s - loss: 0.0252 - mean_squared_error: 0.0252 - val_loss: 0.0251 - val_mean_squared_error: 0.0251\n",
      "373 of 1095 weights retained\n",
      "Train on 280000 samples, validate on 120000 samples\n",
      "Epoch 1/1\n",
      " - 0s - loss: 0.0251 - mean_squared_error: 0.0251 - val_loss: 0.0251 - val_mean_squared_error: 0.0251\n",
      "373 of 1095 weights retained\n",
      "Train on 280000 samples, validate on 120000 samples\n",
      "Epoch 1/1\n",
      " - 0s - loss: 0.0251 - mean_squared_error: 0.0251 - val_loss: 0.0250 - val_mean_squared_error: 0.0250\n",
      "373 of 1095 weights retained\n",
      "Train on 280000 samples, validate on 120000 samples\n",
      "Epoch 1/1\n",
      " - 0s - loss: 0.0250 - mean_squared_error: 0.0250 - val_loss: 0.0249 - val_mean_squared_error: 0.0249\n",
      "373 of 1095 weights retained\n",
      "Train on 280000 samples, validate on 120000 samples\n",
      "Epoch 1/1\n",
      " - 0s - loss: 0.0249 - mean_squared_error: 0.0249 - val_loss: 0.0249 - val_mean_squared_error: 0.0249\n",
      "373 of 1095 weights retained\n",
      "Train on 280000 samples, validate on 120000 samples\n",
      "Epoch 1/1\n",
      " - 0s - loss: 0.0248 - mean_squared_error: 0.0248 - val_loss: 0.0247 - val_mean_squared_error: 0.0247\n",
      "373 of 1095 weights retained\n",
      "Train on 280000 samples, validate on 120000 samples\n",
      "Epoch 1/1\n",
      " - 0s - loss: 0.0248 - mean_squared_error: 0.0248 - val_loss: 0.0247 - val_mean_squared_error: 0.0247\n",
      "373 of 1095 weights retained\n",
      "Train on 280000 samples, validate on 120000 samples\n",
      "Epoch 1/1\n",
      " - 0s - loss: 0.0247 - mean_squared_error: 0.0247 - val_loss: 0.0247 - val_mean_squared_error: 0.0247\n",
      "373 of 1095 weights retained\n",
      "Train on 280000 samples, validate on 120000 samples\n",
      "Epoch 1/1\n",
      " - 0s - loss: 0.0246 - mean_squared_error: 0.0246 - val_loss: 0.0245 - val_mean_squared_error: 0.0245\n",
      "373 of 1095 weights retained\n",
      "Train on 280000 samples, validate on 120000 samples\n",
      "Epoch 1/1\n",
      " - 0s - loss: 0.0245 - mean_squared_error: 0.0245 - val_loss: 0.0245 - val_mean_squared_error: 0.0245\n",
      "373 of 1095 weights retained\n",
      "Train on 280000 samples, validate on 120000 samples\n",
      "Epoch 1/1\n",
      " - 0s - loss: 0.0244 - mean_squared_error: 0.0244 - val_loss: 0.0243 - val_mean_squared_error: 0.0243\n",
      "373 of 1095 weights retained\n",
      "Train on 280000 samples, validate on 120000 samples\n",
      "Epoch 1/1\n",
      " - 0s - loss: 0.0243 - mean_squared_error: 0.0243 - val_loss: 0.0244 - val_mean_squared_error: 0.0244\n",
      "373 of 1095 weights retained\n",
      "Train on 280000 samples, validate on 120000 samples\n",
      "Epoch 1/1\n",
      " - 0s - loss: 0.0242 - mean_squared_error: 0.0242 - val_loss: 0.0242 - val_mean_squared_error: 0.0242\n",
      "373 of 1095 weights retained\n",
      "Train on 280000 samples, validate on 120000 samples\n",
      "Epoch 1/1\n",
      " - 0s - loss: 0.0241 - mean_squared_error: 0.0241 - val_loss: 0.0240 - val_mean_squared_error: 0.0240\n",
      "373 of 1095 weights retained\n",
      "Train on 280000 samples, validate on 120000 samples\n",
      "Epoch 1/1\n",
      " - 0s - loss: 0.0240 - mean_squared_error: 0.0240 - val_loss: 0.0238 - val_mean_squared_error: 0.0238\n",
      "373 of 1095 weights retained\n"
     ]
    }
   ],
   "source": [
    "for numEpocs in range(40):\n",
    "\n",
    "    history = model.fit(Xtrain_scaled, Ytrain_scaled, validation_split = 0.3, \n",
    "                        verbose = 2, batch_size=2**14, epochs = 1, \n",
    "                        callbacks = [earlystop])\n",
    "    # save history\n",
    "    historyDict[\"mean_squared_error\"].append(history.history[\"mean_squared_error\"][0])\n",
    "    historyDict[\"val_mean_squared_error\"].append(history.history[\"val_mean_squared_error\"][0])\n",
    "    \n",
    "    # set weights that are close to 0 all the way back to 0, and then retrain for one epoch\n",
    "    # get nonzero weights\n",
    "    wts = model.get_weights().copy()\n",
    "    \n",
    "    # set weights close to 0 to 0 (but ignore biases)\n",
    "    for ii in np.arange(0, len(wts), 2):\n",
    "        qants = np.percentile(np.reshape(wts[ii], -1), q = (15, 85), )\n",
    "        wts[ii][(wts[ii] > qants[0]) & (wts[ii] < qants[1])] = 0\n",
    "        \n",
    "    # print nonzero weights\n",
    "    # calculate number of nonzero weights\n",
    "    nzwts = np.sum([np.nonzero(wts[ii].reshape(-1))[0].shape[0] for ii in range(len(wts))])\n",
    "    print(nzwts, \"of\", np.sum(wtLengths), \"weights retained\")\n",
    "\n",
    "    # set new weights and calculate new loss\n",
    "    model.set_weights(wts)"
   ]
  },
  {
   "cell_type": "code",
   "execution_count": 82,
   "metadata": {},
   "outputs": [
    {
     "name": "stdout",
     "output_type": "stream",
     "text": [
      "D:\\Dropbox\\AcademiaDropbox\\mothMachineLearning_dataAndFigs\\Figs\\ModelTraining_Opt_rmsprop__Dro_0.0__Num_20_20_16__Wei_0_pruned.png\n"
     ]
    },
    {
     "data": {
      "image/png": "[encoded data removed]",
      "text/plain": [
       "<matplotlib.figure.Figure at 0x1a1a85cd160>"
      ]
     },
     "metadata": {},
     "output_type": "display_data"
    }
   ],
   "source": [
    "def plot_model_history_fromDict(model_history_dictionary, saveFig = False):\n",
    "    fig, axs = plt.subplots(1,1,figsize=(10,5))\n",
    "    # summarize history for accuracy\n",
    "    axs.plot(range(1,len(model_history_dictionary['mean_squared_error'])+1),\n",
    "             model_history_dictionary['mean_squared_error'])\n",
    "    axs.plot(range(1,len(model_history_dictionary['val_mean_squared_error'])+1),\n",
    "             model_history_dictionary['val_mean_squared_error'])\n",
    "    axs.set_title('Model MSE = '+ str(format_e(model_history_dictionary['val_mean_squared_error'][-1])) + \"\\n\" +  str(nzwts) + \" non-zero weights\")\n",
    "    axs.set_ylabel('mean_squared_error')\n",
    "    axs.set_xlabel('Epoch')\n",
    "    axs.set_xticks(np.arange(1,len(model_history_dictionary['val_mean_squared_error'])+1),\n",
    "                   len(model_history_dictionary['val_mean_squared_error'])/10)\n",
    "    axs.legend(['train', 'val'], loc='best')\n",
    "    plt.yscale('log') #logarithmic scale for y axis\n",
    "    if saveFig:\n",
    "        fig.savefig(os.path.join(figDir, \"ModelTraining_\" + modelName + \"_pruned.png\"), dpi = 120, bbox_inches='tight')\n",
    "        print(os.path.join(figDir, \"ModelTraining_\" + modelName + \"_pruned.png\"))\n",
    "    plt.show()\n",
    "    \n",
    "plot_model_history_fromDict(historyDict, saveFig = True)"
   ]
  },
  {
   "cell_type": "code",
   "execution_count": null,
   "metadata": {},
   "outputs": [],
   "source": [
    "# how good can I get without trimming\n"
   ]
  },
  {
   "cell_type": "code",
   "execution_count": null,
   "metadata": {},
   "outputs": [],
   "source": [
    "# plot matrices\n",
    "wts = model.get_weights().copy()\n",
    "for ii in np.arange(0, len(wts), 2):\n",
    "    plt.matshow(wts[ii], cmap = \"PRGn\")\n",
    "    plt.colorbar()\n",
    "    plt.show()"
   ]
  },
  {
   "cell_type": "code",
   "execution_count": null,
   "metadata": {},
   "outputs": [],
   "source": [
    "# refref: save weights and model\n",
    "model.save(os.path.join(savedModels,  modelName + '_pruned.h5'))\n",
    "\n",
    "# save weights\n",
    "wts = model.get_weights().copy()\n",
    "\n",
    "wtsFile = modelName + '_pruned_wts.pkl'\n",
    "pickle.dump(wts, open(os.path.join(dataOutput, wtsFile), 'wb'))"
   ]
  },
  {
   "cell_type": "code",
   "execution_count": null,
   "metadata": {},
   "outputs": [],
   "source": [
    "# refref: if whole node is basically 0, then remove the node. "
   ]
  },
  {
   "cell_type": "code",
   "execution_count": null,
   "metadata": {},
   "outputs": [],
   "source": [
    "np.std(wts[2].reshape(-1,))"
   ]
  },
  {
   "cell_type": "code",
   "execution_count": null,
   "metadata": {},
   "outputs": [],
   "source": [
    "model = create_network(**modelParams)\n",
    "\n",
    "history = model.fit(Xtrain_scaled, Ytrain_scaled, validation_split = 0.3, \n",
    "                        verbose = 2, batch_size=2**14, epochs = 1, \n",
    "                        callbacks = [earlystop])"
   ]
  },
  {
   "cell_type": "code",
   "execution_count": null,
   "metadata": {},
   "outputs": [],
   "source": []
  },
  {
   "cell_type": "code",
   "execution_count": null,
   "metadata": {},
   "outputs": [],
   "source": []
  },
  {
   "cell_type": "code",
   "execution_count": null,
   "metadata": {},
   "outputs": [],
   "source": []
  },
  {
   "cell_type": "code",
   "execution_count": null,
   "metadata": {},
   "outputs": [],
   "source": []
  },
  {
   "cell_type": "code",
   "execution_count": null,
   "metadata": {},
   "outputs": [],
   "source": []
  },
  {
   "cell_type": "code",
   "execution_count": null,
   "metadata": {},
   "outputs": [],
   "source": []
  },
  {
   "cell_type": "code",
   "execution_count": null,
   "metadata": {},
   "outputs": [],
   "source": []
  },
  {
   "cell_type": "code",
   "execution_count": null,
   "metadata": {},
   "outputs": [],
   "source": [
    "# check to see if model saved: \n",
    "K.clear_session()\n",
    "from keras.models import load_model\n",
    "model = load_model(os.path.join(savedModels, 'my_model_400Units_newData.h5'))"
   ]
  },
  {
   "cell_type": "code",
   "execution_count": null,
   "metadata": {},
   "outputs": [],
   "source": [
    "# get nonzero weights\n",
    "wts = model.get_weights().copy()\n",
    "nzwts = np.sum([np.nonzero(wts[ii].reshape(-1))[0].shape[0] for ii in range(len(wts))])\n",
    "nzwts"
   ]
  },
  {
   "cell_type": "code",
   "execution_count": null,
   "metadata": {},
   "outputs": [],
   "source": [
    "len(wts[4])"
   ]
  },
  {
   "cell_type": "code",
   "execution_count": null,
   "metadata": {},
   "outputs": [],
   "source": [
    "# show weights histograms\n",
    "plt.close(\"all\")\n",
    "fig, axs = plt.subplots(2,8, figsize=np.array((20,3)) , facecolor='w', edgecolor='k')\n",
    "fig.subplots_adjust(hspace = 0.3, wspace=0.3)\n",
    "axs = axs.ravel(order = \"F\")\n",
    "\n",
    "for ii in range(int(len(wts) / 2)):  \n",
    "    jj= int(2*ii)\n",
    "    axs[jj].hist(wts[jj].reshape(-1), bins = 100)\n",
    "    axs[jj].set_xlabel(\"Layer \" + str(int(jj/2)) + \" weights\" + \", shape = \" + str(wts[jj].shape))\n",
    "    axs[jj+1].hist(wts[jj+1], bins = 100)\n",
    "    axs[jj+1].set_xlabel(\"Layer \" + str(int(jj/2)) + \" biases\" + \", shape = \" + str(wts[jj+1].shape))\n",
    "\n",
    "plt.tight_layout()\n",
    "plt.show()"
   ]
  },
  {
   "cell_type": "code",
   "execution_count": null,
   "metadata": {},
   "outputs": [],
   "source": [
    "len(model.get_weights())"
   ]
  },
  {
   "cell_type": "code",
   "execution_count": null,
   "metadata": {},
   "outputs": [],
   "source": [
    "model.evaluate(Xtest_scaled, Ytest_scaled)"
   ]
  },
  {
   "cell_type": "code",
   "execution_count": null,
   "metadata": {},
   "outputs": [],
   "source": [
    "# get nonzero weights\n",
    "wts = model.get_weights().copy()\n",
    "nzwts = np.sum([np.nonzero(wts[ii].reshape(-1))[0].shape[0] for ii in range(len(wts))])\n",
    "nzwts"
   ]
  },
  {
   "cell_type": "code",
   "execution_count": null,
   "metadata": {},
   "outputs": [],
   "source": [
    "# trim weights\n",
    "for ii in np.arange(0, 7):\n",
    "    qants = np.percentile(np.reshape(wts[ii], -1), q = (5, 95), )\n",
    "    wts[ii][(wts[ii] > qants[0]) & (wts[ii] < qants[1])] = 0\n",
    "    \n",
    "# calculate number of nonzero weights\n",
    "nzwts = np.sum([np.nonzero(wts[ii].reshape(-1))[0].shape[0] for ii in range(len(wts))])\n",
    "nzwts"
   ]
  },
  {
   "cell_type": "code",
   "execution_count": null,
   "metadata": {},
   "outputs": [],
   "source": [
    "# set new weights and calculate new loss\n",
    "model.set_weights(wts)"
   ]
  },
  {
   "cell_type": "code",
   "execution_count": null,
   "metadata": {},
   "outputs": [],
   "source": [
    "ValLoss = model.evaluate(Xtrain_scaled[-int(0.05*Xtrain_scaled.shape[0]):, :], \n",
    "                         Ytrain_scaled[-int(0.05*Xtrain_scaled.shape[0]):, :])\n",
    "print(ValLoss[0])"
   ]
  },
  {
   "cell_type": "raw",
   "metadata": {},
   "source": [
    "K.clear_session()"
   ]
  },
  {
   "cell_type": "raw",
   "metadata": {},
   "source": [
    "# this is the original model\n",
    "inputs = Input(shape=(Xtrain_scaled.shape[1],))\n",
    "x = Dense(400, activation='tanh')(inputs)\n",
    "x = Dense(400, activation='tanh')(x)\n",
    "x = Dense(400, activation='tanh')(x)\n",
    "x = Dense(16, activation='tanh')(x)\n",
    "predictions = Dense(Ytrain_scaled.shape[1], activation='linear')(x)\n",
    "\n",
    "# create model\n",
    "model = Model(inputs=inputs, outputs=predictions)\n",
    "model.compile(loss=\"mse\", optimizer=\"adam\", metrics = ['mse'])\n",
    "\n",
    "earlystop = EarlyStopping(monitor='val_mean_squared_error', patience=50, \n",
    "                          verbose=1, mode='auto', min_delta = 0.001)"
   ]
  },
  {
   "cell_type": "code",
   "execution_count": null,
   "metadata": {},
   "outputs": [],
   "source": [
    "\n",
    "wts = model.get_weights().copy()\n",
    "nzwts = np.sum([np.nonzero(wts[ii].reshape(-1))[0].shape[0] for ii in range(len(wts))])\n",
    "print(nzwts)\n",
    "\n",
    "# trim weights\n",
    "for ii in np.arange(0, 7):\n",
    "    qants = np.percentile(np.reshape(wts[ii], -1), q = (2, 98), )\n",
    "    wts[ii][(wts[ii] > qants[0]) & (wts[ii] < qants[1])] = 0\n",
    "    \n",
    "# calculate number of nonzero weights\n",
    "nzwts = np.sum([np.nonzero(wts[ii].reshape(-1))[0].shape[0] for ii in range(len(wts))])\n",
    "print(nzwts)\n",
    "model.set_weights(wts)\n",
    "\n",
    "\n",
    "# start training\n",
    "history = model.fit(Xtrain_scaled, Ytrain_scaled, validation_split = 0.3, \n",
    "                    verbose = 2, batch_size=2**14, epochs = 1, \n",
    "                    callbacks = [earlystop])"
   ]
  },
  {
   "cell_type": "code",
   "execution_count": null,
   "metadata": {},
   "outputs": [],
   "source": [
    "wts = model.get_weights().copy()\n",
    "\n",
    "# trim weights\n",
    "for ii in np.arange(0, 7):\n",
    "    qants = np.percentile(np.reshape(wts[ii], -1), q = (2.5, 97.5), )\n",
    "    wts[ii][(wts[ii] > qants[0]) & (wts[ii] < qants[1])] = 0\n",
    "\n",
    "# calculate number of nonzero weights\n",
    "nzwts = np.sum([np.nonzero(wts[ii].reshape(-1))[0].shape[0] for ii in range(len(wts))])\n",
    "print(nzwts)\n",
    "model.set_weights(wts)\n",
    "\n",
    "model.evaluate(Xtest_scaled, Ytest_scaled)\n"
   ]
  },
  {
   "cell_type": "code",
   "execution_count": null,
   "metadata": {},
   "outputs": [],
   "source": [
    "def plot_model_history(model_history, saveFig = False):\n",
    "    fig, axs = plt.subplots(1,1,figsize=(10,5))\n",
    "    # summarize history for accuracy\n",
    "    axs.plot(range(1,len(model_history.history['mean_squared_error'])+1),\n",
    "             model_history.history['mean_squared_error'])\n",
    "    axs.plot(range(1,len(model_history.history['val_mean_squared_error'])+1),\n",
    "             model_history.history['val_mean_squared_error'])\n",
    "    axs.set_title('Model MSE')\n",
    "    axs.set_ylabel('mean_squared_error')\n",
    "    axs.set_xlabel('Epoch')\n",
    "    axs.set_xticks(np.arange(1,len(model_history.history['val_mean_squared_error'])+1),\n",
    "                   len(model_history.history['val_mean_squared_error'])/10)\n",
    "    axs.legend(['train', 'val'], loc='best')\n",
    "    if saveFig:\n",
    "        fig.savefig(os.path.join(figDir, \"ModelTraining.png\"), dpi = 120, bbox_inches='tight')\n",
    "    plt.show()\n",
    "    \n",
    "plot_model_history(history)\n",
    "print(history.history[\"loss\"][-1])"
   ]
  },
  {
   "cell_type": "code",
   "execution_count": null,
   "metadata": {},
   "outputs": [],
   "source": [
    "# load model that was trained for much longer\n",
    "from keras.models import load_model\n",
    "model = load_model(os.path.join(savedModels, 'my_model.h5'))"
   ]
  },
  {
   "cell_type": "code",
   "execution_count": null,
   "metadata": {},
   "outputs": [],
   "source": [
    "model.summary()"
   ]
  },
  {
   "cell_type": "code",
   "execution_count": null,
   "metadata": {},
   "outputs": [],
   "source": [
    "# get nonzero weights\n",
    "wts = model.get_weights().copy()\n",
    "nzwts = np.sum([np.nonzero(wts[ii].reshape(-1))[0].shape[0] for ii in range(len(wts))])\n",
    "nzwts"
   ]
  },
  {
   "cell_type": "code",
   "execution_count": null,
   "metadata": {},
   "outputs": [],
   "source": []
  },
  {
   "cell_type": "code",
   "execution_count": null,
   "metadata": {},
   "outputs": [],
   "source": [
    "# set new weights and calculate new loss\n",
    "model.set_weights(wts)\n",
    "\n",
    "ValLoss = model.evaluate(Xtrain_scaled[-int(0.05*Xtrain_scaled.shape[0]):, :], \n",
    "                         Ytrain_scaled[-int(0.05*Xtrain_scaled.shape[0]):, :])\n",
    "print(ValLoss[0])"
   ]
  },
  {
   "cell_type": "code",
   "execution_count": null,
   "metadata": {},
   "outputs": [],
   "source": [
    "wts = model.get_weights().copy()\n",
    "nzwts = [np.nonzero(wts[ii].reshape(-1))[0] for ii in range(len(wts))]\n"
   ]
  },
  {
   "cell_type": "code",
   "execution_count": null,
   "metadata": {},
   "outputs": [],
   "source": [
    "# show weights histograms\n",
    "plt.close(\"all\")\n",
    "fig, axs = plt.subplots(2,8, figsize=np.array((20,5)) , facecolor='w', edgecolor='k')\n",
    "#fig.subplots_adjust(hspace = 0.3, wspace=0.3)\n",
    "axs = axs.ravel(order = \"F\")\n",
    "\n",
    "for ii in range(int(len(wts) / 2)):  \n",
    "    jj= int(2*ii)\n",
    "    axs[jj].hist(nzwts[jj].reshape(-1), bins = 30)\n",
    "    axs[jj].set_xlabel(\"Layer \" + str(int(jj/2)) + \" weights\" + \", shape = \" + str(nzwts[jj].shape))\n",
    "    axs[jj+1].hist(nzwts[jj+1], bins = 30)\n",
    "    axs[jj+1].set_xlabel(\"Layer \" + str(int(jj/2)) + \" biases\" + \", shape = \" + str(nzwts[jj+1].shape))\n",
    "\n",
    "plt.tight_layout()\n",
    "plt.show()"
   ]
  },
  {
   "cell_type": "code",
   "execution_count": null,
   "metadata": {},
   "outputs": [],
   "source": [
    "# show weights histograms\n",
    "plt.close(\"all\")\n",
    "fig, axs = plt.subplots(2,8, figsize=np.array((10,10)) , facecolor='w', edgecolor='k')\n",
    "#fig.subplots_adjust(hspace = 0.3, wspace=0.3)\n",
    "axs = axs.ravel(order = \"F\")\n",
    "\n",
    "for ii in range(int(len(wts) / 2)):  \n",
    "    jj= int(2*ii)\n",
    "    axs[jj].hist(wts[jj].reshape(-1), bins = 30)\n",
    "    axs[jj].set_xlabel(\"Layer \" + str(int(jj/2)) + \" weights\" + \", shape = \" + str(wts[jj].shape))\n",
    "    axs[jj+1].hist(wts[jj+1], bins = 30)\n",
    "    axs[jj+1].set_xlabel(\"Layer \" + str(int(jj/2)) + \" biases\" + \", shape = \" + str(wts[jj+1].shape))\n",
    "\n",
    "plt.tight_layout()\n",
    "plt.show()"
   ]
  },
  {
   "cell_type": "code",
   "execution_count": null,
   "metadata": {},
   "outputs": [],
   "source": [
    "# predict on test set\n",
    "nnpreds = model.predict(Xtest_scaled[ :])\n",
    "\n",
    "# rescale\n",
    "nnpreds_unscaled = scalerY.inverse_transform(nnpreds)\n",
    "\n",
    "# show residuals\n",
    "# combine residual and regular plots\n",
    "plt.close(\"all\")\n",
    "fig, axs = plt.subplots(2,7, figsize=np.array((30, 8)) / 1.7, facecolor='w', edgecolor='k')\n",
    "fig.subplots_adjust(hspace = 0.1, wspace=0.5)\n",
    "axs = axs.ravel()\n",
    "\n",
    "# replace lightest colors with white\n",
    "import matplotlib.colors\n",
    "cmap = plt.cm.magma_r\n",
    "cmaplist = np.array([cmap(i) for i in range(cmap.N)])\n",
    "cmaplist[:,0:3] = np.divide(cmaplist[:, 0:3], 1.1)\n",
    "cmaplist[0] = (1,1,1,0.5)\n",
    "cmap = matplotlib.colors.LinearSegmentedColormap.from_list('mcm',cmaplist, cmap.N)\n",
    "\n",
    "for ii in range(len(Y.columns)):\n",
    "    \n",
    "    try:\n",
    "        axs[ii].hexbin(y = Ytest.iloc[:,ii],x = nnpreds_unscaled[:,ii], gridsize = 150, cmap = cmap)\n",
    "        axs[ii].yaxis.set_major_formatter(ScalarFormatter(useMathText=True))\n",
    "        axs[ii].ticklabel_format(style='sci',  axis='y', scilimits=(3,4))\n",
    "        axs[ii].axes.xaxis.set_ticklabels([])\n",
    "        if(ii == 0):\n",
    "            axs[ii].set_ylabel(\"Actual Value\")\n",
    "        axs[ii].set_title(nms2[ii])\n",
    "        axs[ii].plot(Ytest.iloc[0:1000,ii], Ytest.iloc[0:1000,ii], 'grey', linewidth = 1, linestyle  = \"--\")\n",
    "    except:\n",
    "        pass\n",
    "\n",
    "for ii in range(len(Y.columns)):\n",
    "    jj = ii + len(Y.columns)\n",
    "    \n",
    "    try:\n",
    "        axs[jj].hexbin(y = Ytest.iloc[:,ii] - nnpreds_unscaled[:,ii],x = nnpreds_unscaled[:,ii], gridsize = 150, cmap = cmap)\n",
    "        axs[jj].set_xlabel(\"Predicted Value\")\n",
    "        axs[jj].xaxis.set_major_formatter(ScalarFormatter(useMathText=True))\n",
    "        axs[jj].yaxis.set_major_formatter(ScalarFormatter(useMathText=True))\n",
    "        mmin = np.min(Ytest.iloc[:,ii] - nnpreds_unscaled[:,ii])\n",
    "        mmax = np.max(Ytest.iloc[:,ii] - nnpreds_unscaled[:,ii])\n",
    "        \n",
    "        upper = np.max([np.abs(mmin), np.abs(mmax)])\n",
    "        axs[jj].set_ylim(-upper, upper)\n",
    "\n",
    "        if(ii == 0):\n",
    "            axs[jj].set_ylabel(\"Actual - Predicted\")\n",
    "        axs[jj].hlines(y = 0, xmin = np.min(nnpreds_unscaled[:,ii]), \n",
    "                       xmax = np.max(nnpreds_unscaled[:,ii]), linestyle =  \"--\", linewidth = 1)\n",
    "    except:\n",
    "        pass\n",
    "plt.tight_layout()\n",
    "#fig.savefig(os.path.join(figDir, \"SmallModelResids.png\"), dpi = 120, bbox_inches='tight')\n"
   ]
  },
  {
   "cell_type": "code",
   "execution_count": null,
   "metadata": {},
   "outputs": [],
   "source": [
    "# trim distribution of weights -- cut out middle 20%\n",
    "for ii in np.arange(0, 7):\n",
    "    qants = np.percentile(np.reshape(wts[ii], -1), q = (40, 60), )\n",
    "    wts[ii][(wts[ii] > qants[0]) & (wts[ii] < qants[1])] = 0\n",
    "    \n",
    "# calculate number of nonzero weights\n",
    "nzwts = np.sum([np.nonzero(wts[ii].reshape(-1))[0].shape[0] for ii in range(len(wts))])\n",
    "nzwts"
   ]
  },
  {
   "cell_type": "code",
   "execution_count": null,
   "metadata": {},
   "outputs": [],
   "source": [
    "# show new histogram of weights (excluding the 0's)\n",
    "# show weights histograms\n",
    "plt.close(\"all\")\n",
    "fig, axs = plt.subplots(2,5, figsize=np.array((15, 6)) , facecolor='w', edgecolor='k')\n",
    "fig.subplots_adjust(hspace = 0.3, wspace=0.3)\n",
    "axs = axs.ravel(order = \"F\")\n",
    "\n",
    "for ii in range(int(len(wts) / 2)):  \n",
    "    jj= int(2*ii)\n",
    "    \n",
    "    d1 = wts[jj].reshape(-1)\n",
    "    axs[jj].hist(d1[d1!=0], bins = 30, facecolor = '#d6bddb' )\n",
    "    axs[jj].set_xlabel(\"Layer \" + str(int(jj/2)) + \" weights\" + \", shape = \" + str(wts[jj].shape))\n",
    "\n",
    "    d2 = wts[jj+1]\n",
    "    axs[jj+1].hist(d2[d2!=0], bins = 30, facecolor = '#d6bddb')\n",
    "    axs[jj+1].set_xlabel(\"Layer \" + str(int(jj/2)) + \" biases\" + \", shape = \" + str(wts[jj+1].shape))\n",
    "\n",
    "plt.tight_layout()\n",
    "plt.show()"
   ]
  },
  {
   "cell_type": "code",
   "execution_count": null,
   "metadata": {},
   "outputs": [],
   "source": [
    "# the validation.split is the last X% of the data\n",
    "int(0.3*Xtrain_scaled.shape[0])\n",
    "ValLoss = model.evaluate(Xtrain_scaled[-int(0.3*Xtrain_scaled.shape[0]):, :], \n",
    "                         Ytrain_scaled[-int(0.3*Xtrain_scaled.shape[0]):, :])\n",
    "print(ValLoss[0])"
   ]
  },
  {
   "cell_type": "code",
   "execution_count": null,
   "metadata": {},
   "outputs": [],
   "source": [
    "# set new weights and calculate new loss\n",
    "model.set_weights(wts)\n",
    "\n",
    "ValLoss = model.evaluate(Xtrain_scaled[-int(0.3*Xtrain_scaled.shape[0]):, :], \n",
    "                         Ytrain_scaled[-int(0.3*Xtrain_scaled.shape[0]):, :])\n",
    "print(ValLoss[0])"
   ]
  },
  {
   "cell_type": "code",
   "execution_count": null,
   "metadata": {},
   "outputs": [],
   "source": [
    "# predict on test set\n",
    "nnpreds = model.predict(Xtest_scaled[ :])\n",
    "\n",
    "# rescale\n",
    "nnpreds_unscaled = scalerY.inverse_transform(nnpreds)\n",
    "\n",
    "# show residuals\n",
    "# combine residual and regular plots\n",
    "plt.close(\"all\")\n",
    "fig, axs = plt.subplots(2,7, figsize=np.array((30, 8)) / 1.7, facecolor='w', edgecolor='k')\n",
    "fig.subplots_adjust(hspace = 0.1, wspace=0.5)\n",
    "axs = axs.ravel()\n",
    "\n",
    "# replace lightest colors with white\n",
    "import matplotlib.colors\n",
    "cmap = plt.cm.magma_r\n",
    "cmaplist = np.array([cmap(i) for i in range(cmap.N)])\n",
    "cmaplist[:,0:3] = np.divide(cmaplist[:, 0:3], 1.1)\n",
    "cmaplist[0] = (1,1,1,0.5)\n",
    "cmap = matplotlib.colors.LinearSegmentedColormap.from_list('mcm',cmaplist, cmap.N)\n",
    "\n",
    "for ii in range(len(Y.columns)):\n",
    "    \n",
    "    try:\n",
    "        axs[ii].hexbin(y = Ytest.iloc[:,ii],x = nnpreds_unscaled[:,ii], gridsize = 150, cmap = cmap)\n",
    "        axs[ii].yaxis.set_major_formatter(ScalarFormatter(useMathText=True))\n",
    "        axs[ii].ticklabel_format(style='sci',  axis='y', scilimits=(3,4))\n",
    "        axs[ii].axes.xaxis.set_ticklabels([])\n",
    "        if(ii == 0):\n",
    "            axs[ii].set_ylabel(\"Actual Value\")\n",
    "        axs[ii].set_title(nms2[ii])\n",
    "        axs[ii].plot(Ytest.iloc[0:1000,ii], Ytest.iloc[0:1000,ii], 'grey', linewidth = 1, linestyle  = \"--\")\n",
    "    except:\n",
    "        pass\n",
    "\n",
    "for ii in range(len(Y.columns)):\n",
    "    jj = ii + len(Y.columns)\n",
    "    \n",
    "    try:\n",
    "        axs[jj].hexbin(y = Ytest.iloc[:,ii] - nnpreds_unscaled[:,ii],x = nnpreds_unscaled[:,ii], gridsize = 150, cmap = cmap)\n",
    "        axs[jj].set_xlabel(\"Predicted Value\")\n",
    "        axs[jj].xaxis.set_major_formatter(ScalarFormatter(useMathText=True))\n",
    "        axs[jj].yaxis.set_major_formatter(ScalarFormatter(useMathText=True))\n",
    "        mmin = np.min(Ytest.iloc[:,ii] - nnpreds_unscaled[:,ii])\n",
    "        mmax = np.max(Ytest.iloc[:,ii] - nnpreds_unscaled[:,ii])\n",
    "        \n",
    "        upper = np.max([np.abs(mmin), np.abs(mmax)])\n",
    "        axs[jj].set_ylim(-upper, upper)\n",
    "\n",
    "        if(ii == 0):\n",
    "            axs[jj].set_ylabel(\"Actual - Predicted\")\n",
    "        axs[jj].hlines(y = 0, xmin = np.min(nnpreds_unscaled[:,ii]), \n",
    "                       xmax = np.max(nnpreds_unscaled[:,ii]), linestyle =  \"--\", linewidth = 1)\n",
    "    except:\n",
    "        pass\n",
    "plt.tight_layout()\n",
    "\n"
   ]
  },
  {
   "cell_type": "code",
   "execution_count": null,
   "metadata": {},
   "outputs": [],
   "source": []
  },
  {
   "cell_type": "code",
   "execution_count": null,
   "metadata": {},
   "outputs": [],
   "source": [
    "# create dict of hyperparameters\n",
    "\n",
    "\n",
    "# regularization, num layers, num nodes, learning rate, optimizer, activation function, batch size\n",
    "\n",
    "from scipy.stats import randint\n",
    "from scipy.stats import uniform\n",
    "\n",
    "# Create hyperparameter space\n",
    "NumHiddenLayers = randint(low = 2, high = 20)#[4, 2, 8]\n",
    "numUnits  = [2**4, 2**5, 2**6, 2**7, 2**8, 2**9, 2**10]\n",
    "epochs = [200]\n",
    "batches1 = [2**12, 2**10, 2**8, 2**14] \n",
    "optimizers = ['rmsprop', 'adam']\n",
    "dropout_rate =  uniform(loc = 0, scale = 0.5) #[0.0, 0.2, 0.5]\n",
    "weightRegularization = uniform(loc = 0, scale = 0.001) #[0, 0.0001, 0.001, 0.01]\n",
    "secondToLastUnits = [8, 16, 32, 64]\n",
    "\n",
    "# Create hyperparameter options\n",
    "hyperparameters = dict(optimizer=optimizers, \n",
    "                        epochs=epochs, \n",
    "                        batch_size=batches1,\n",
    "                        dropout_rate = dropout_rate, \n",
    "                        numUnits = numUnits, \n",
    "                        NumHiddenLayers = NumHiddenLayers, \n",
    "                        weightRegularization = weightRegularization, \n",
    "                        secondToLastUnits = secondToLastUnits)"
   ]
  },
  {
   "cell_type": "code",
   "execution_count": null,
   "metadata": {},
   "outputs": [],
   "source": []
  },
  {
   "cell_type": "code",
   "execution_count": null,
   "metadata": {},
   "outputs": [],
   "source": []
  },
  {
   "cell_type": "code",
   "execution_count": null,
   "metadata": {},
   "outputs": [],
   "source": []
  },
  {
   "cell_type": "code",
   "execution_count": null,
   "metadata": {},
   "outputs": [],
   "source": []
  }
 ],
 "metadata": {
  "kernelspec": {
   "display_name": "deeplearning",
   "language": "python",
   "name": "deeplearning"
  },
  "language_info": {
   "codemirror_mode": {
    "name": "ipython",
    "version": 3
   },
   "file_extension": ".py",
   "mimetype": "text/x-python",
   "name": "python",
   "nbconvert_exporter": "python",
   "pygments_lexer": "ipython3",
   "version": "3.6.4"
  }
 },
 "nbformat": 4,
 "nbformat_minor": 2
}
