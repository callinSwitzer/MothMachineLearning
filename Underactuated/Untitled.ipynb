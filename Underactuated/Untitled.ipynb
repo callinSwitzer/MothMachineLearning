{
 "cells": [
  {
   "cell_type": "code",
   "execution_count": 7,
   "metadata": {},
   "outputs": [
    {
     "name": "stdout",
     "output_type": "stream",
     "text": [
      "Input list is [1, 1, 1, 2, 2, 2, 3, 3, 3, 4, 4, 4]\n",
      "Unique Values in the Input List is [1 2 3 4]\n",
      "The Group is 1 and it is found at indices [0 1 2]\n",
      "The Group is 1 and it is found at indices [0 1 2]\n",
      "The Group is 1 and it is found at indices [0 1 2]\n",
      "The values of group 1 found at indices [0 1 2] are 1\n",
      "The values of group 1 found at indices [0 1 2] are 1\n",
      "The values of group 1 found at indices [0 1 2] are 1\n",
      "The Group is 2 and it is found at indices [3 4 5]\n",
      "The Group is 2 and it is found at indices [3 4 5]\n",
      "The Group is 2 and it is found at indices [3 4 5]\n",
      "The values of group 1 found at indices [3 4 5] are 2\n",
      "The values of group 1 found at indices [3 4 5] are 2\n",
      "The values of group 1 found at indices [3 4 5] are 2\n",
      "The Group is 3 and it is found at indices [6 7 8]\n",
      "The Group is 3 and it is found at indices [6 7 8]\n",
      "The Group is 3 and it is found at indices [6 7 8]\n",
      "The values of group 2 found at indices [6 7 8] are 3\n",
      "The values of group 2 found at indices [6 7 8] are 3\n",
      "The values of group 2 found at indices [6 7 8] are 3\n",
      "The Group is 4 and it is found at indices [ 9 10 11]\n",
      "The Group is 4 and it is found at indices [ 9 10 11]\n",
      "The Group is 4 and it is found at indices [ 9 10 11]\n",
      "The values of group 2 found at indices [ 9 10 11] are 4\n",
      "The values of group 2 found at indices [ 9 10 11] are 4\n",
      "The values of group 2 found at indices [ 9 10 11] are 4\n"
     ]
    }
   ],
   "source": [
    "import itertools\n",
    "import numpy as np\n",
    "\n",
    "\n",
    "lst = range(1,5)\n",
    "input_list= list(itertools.chain.from_iterable(itertools.repeat(x, 3) for x in lst))\n",
    "print(\"Input list is {}\".format(input_list))\n",
    "unique_array = np.unique(np.array(input_list))\n",
    "print(\"Unique Values in the Input List is {}\".format(unique_array))\n",
    "for group_num, uniq_arr in enumerate(unique_array):\n",
    "    result = np.where(input_list==unique_array[group_num])[0]\n",
    "    for results in result:\n",
    "        print(\"The Group is {} and it is found at indices {}\".format(uniq_arr, result))\n",
    "    for results in result:\n",
    "        print(\"The values of group {} found at indices {} are {}\".format(input_list[uniq_arr],result,uniq_arr))"
   ]
  },
  {
   "cell_type": "code",
   "execution_count": 4,
   "metadata": {},
   "outputs": [
    {
     "data": {
      "text/plain": [
       "4"
      ]
     },
     "execution_count": 4,
     "metadata": {},
     "output_type": "execute_result"
    }
   ],
   "source": [
    "uniq_arr"
   ]
  },
  {
   "cell_type": "code",
   "execution_count": null,
   "metadata": {},
   "outputs": [],
   "source": []
  }
 ],
 "metadata": {
  "kernelspec": {
   "display_name": "Python 3",
   "language": "python",
   "name": "python3"
  },
  "language_info": {
   "codemirror_mode": {
    "name": "ipython",
    "version": 3
   },
   "file_extension": ".py",
   "mimetype": "text/x-python",
   "name": "python",
   "nbconvert_exporter": "python",
   "pygments_lexer": "ipython3",
   "version": "3.7.3"
  }
 },
 "nbformat": 4,
 "nbformat_minor": 2
}
