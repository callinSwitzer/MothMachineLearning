{
 "cells": [
  {
   "cell_type": "code",
   "execution_count": 19,
   "metadata": {},
   "outputs": [
    {
     "data": {
      "text/plain": [
       "array([ 92, 120,  97,  53,  90,  92, 120,  48,  49,  92, 120,  48,  48,\n",
       "       114,  45,  92, 120,  49, 100,  37,  92, 120,  57,  48,  92, 120,\n",
       "        99, 100,  87,  65,  92, 120,  48,  49,  92, 120,  48,  48,  92,\n",
       "       120,  48,  48,  92, 120,  48,  48,  92, 120, 100,  48,  92, 120,\n",
       "        99, 100,  87,  65,  92, 120,  48,  99,  92, 120,  48,  54,  92,\n",
       "       120,  97,  97,  85,  92, 120,  48,  49,  92, 120,  48,  48,  92,\n",
       "       120,  48,  48,  92, 120,  48,  48,  92, 120,  48,  49,  92, 120,\n",
       "        48,  48,  92, 120,  48,  48,  92, 120,  48,  48,  92, 120,  48,\n",
       "        48,  92, 120,  48,  48,  92, 120,  48,  49,  92, 120,  48,  49])"
      ]
     },
     "execution_count": 19,
     "metadata": {},
     "output_type": "execute_result"
    }
   ],
   "source": [
    "import numpy as np\n",
    "s = r\"\\xa5Z\\x01\\x00r-\\x1d%\\x90\\xcdWA\\x01\\x00\\x00\\x00\\xd0\\xcdWA\\x0c\\x06\\xaaU\\x01\\x00\\x00\\x00\\x01\\x00\\x00\\x00\\x00\\x00\\x01\\x01\"\n",
    "a =  np.array(list(map(ord, s)))\n",
    "a"
   ]
  },
  {
   "cell_type": "code",
   "execution_count": 26,
   "metadata": {},
   "outputs": [],
   "source": [
    "import matplotlib.pyplot as plt\n",
    "from scipy import interpolate\n",
    "x = np.array([0,1,2,3,5,6,7,8, 9])\n",
    "y = np.exp(-x/3.0)\n",
    "f = interpolate.interp1d(x, y, kind = \"cubic\")"
   ]
  },
  {
   "cell_type": "code",
   "execution_count": 27,
   "metadata": {},
   "outputs": [
    {
     "data": {
      "image/png": "[encoded data removed]",
      "text/plain": [
       "<matplotlib.figure.Figure at 0x19da4e04240>"
      ]
     },
     "metadata": {},
     "output_type": "display_data"
    }
   ],
   "source": [
    "xnew = np.arange(0, 9, 0.1)\n",
    "ynew = f(xnew)   # use interpolation function returned by `interp1d`\n",
    "plt.plot(x, y, 'o', xnew, ynew, '-')\n",
    "plt.show()"
   ]
  },
  {
   "cell_type": "code",
   "execution_count": null,
   "metadata": {},
   "outputs": [],
   "source": []
  },
  {
   "cell_type": "code",
   "execution_count": null,
   "metadata": {},
   "outputs": [],
   "source": []
  },
  {
   "cell_type": "code",
   "execution_count": null,
   "metadata": {},
   "outputs": [],
   "source": [
    "import matplotlib.pyplot as plt\n",
    "import numpy as np\n",
    "\n",
    "# Make a random plot...\n",
    "fig = plt.figure()\n",
    "fig.add_subplot(111)\n",
    "plt.plot(np.random.rand(100), np.random.rand(100), np.random.rand(100))\n",
    "\n",
    "# If we haven't already shown or saved the plot, then we need to\n",
    "# draw the figure first...\n",
    "fig.canvas.draw()\n",
    "\n",
    "# Now we can save it to a numpy array.\n",
    "data = np.fromstring(fig.canvas.tostring_rgb(), dtype=np.uint8, sep='')\n",
    "data = data.reshape(fig.canvas.get_width_height()[::-1] + (3,))"
   ]
  },
  {
   "cell_type": "code",
   "execution_count": null,
   "metadata": {},
   "outputs": [],
   "source": [
    "data.shape"
   ]
  },
  {
   "cell_type": "code",
   "execution_count": null,
   "metadata": {},
   "outputs": [],
   "source": [
    "import pandas as pd\n",
    "import numpy as np\n",
    "\n",
    "dta = [ (1, {\"a\":1,\"b\":-50,\"c\":1, \"d\":True, \"e\":\"PM\"}),\n",
    "        (2,{\"a\":2,\"b\":1,\"c\":\"101\",\"d\":1,\"e\":1,\"f\":False,\"g\":True,\"h\":False,\"I\":\"MLTPL\"}),\n",
    "        (3, {\"a\":3,\"b\":1,\"c\":\"103\",\"d\":1,\"e\":1,\"f\":False,\"g\":True,\"h\":False,\"I\":\"MLTPL\"})]\n",
    "\n",
    "\n",
    "\n",
    "\n",
    "# make a dataframe from the first row\n",
    "df = pd.DataFrame(dta[0][1], index = [dta[0][0]])\n",
    "\n",
    "# append a new row for each entry of the list\n",
    "for row in np.arange(1, len(dta)):\n",
    "    df = df.append(dta[row][1], ignore_index = True)\n",
    "\n",
    "print(df)\n",
    "    "
   ]
  },
  {
   "cell_type": "code",
   "execution_count": null,
   "metadata": {},
   "outputs": [],
   "source": [
    "row = 1\n"
   ]
  },
  {
   "cell_type": "code",
   "execution_count": 1,
   "metadata": {},
   "outputs": [
    {
     "name": "stderr",
     "output_type": "stream",
     "text": [
      "C:\\Users\\calli\\Anaconda3\\envs\\deeplearning\\lib\\site-packages\\h5py\\__init__.py:36: FutureWarning: Conversion of the second argument of issubdtype from `float` to `np.floating` is deprecated. In future, it will be treated as `np.float64 == np.dtype(float).type`.\n",
      "  from ._conv import register_converters as _register_converters\n",
      "Using TensorFlow backend.\n"
     ]
    },
    {
     "name": "stdout",
     "output_type": "stream",
     "text": [
      "x_train shape: (60000, 28, 28, 1)\n",
      "60000 train samples\n",
      "10000 test samples\n"
     ]
    }
   ],
   "source": [
    "import keras\n",
    "from keras.datasets import mnist\n",
    "from keras.models import Sequential\n",
    "from keras.layers import Dense, Dropout, Flatten\n",
    "from keras.layers import Conv2D, MaxPooling2D\n",
    "from keras import backend as K\n",
    "import tensorflow\n",
    "\n",
    "batch_size = 128\n",
    "num_classes = 10\n",
    "epochs = 12\n",
    "\n",
    "# input image dimensions\n",
    "img_rows, img_cols = 28, 28\n",
    "\n",
    "# the data, split between train and test sets\n",
    "(x_train, y_train), (x_test, y_test) = mnist.load_data()\n",
    "\n",
    "if K.image_data_format() == 'channels_first':\n",
    "    x_train = x_train.reshape(x_train.shape[0], 1, img_rows, img_cols)\n",
    "    x_test = x_test.reshape(x_test.shape[0], 1, img_rows, img_cols)\n",
    "    input_shape = (1, img_rows, img_cols)\n",
    "else:\n",
    "    x_train = x_train.reshape(x_train.shape[0], img_rows, img_cols, 1)\n",
    "    x_test = x_test.reshape(x_test.shape[0], img_rows, img_cols, 1)\n",
    "    input_shape = (img_rows, img_cols, 1)\n",
    "\n",
    "x_train = x_train.astype('float32')\n",
    "x_test = x_test.astype('float32')\n",
    "x_train /= 255\n",
    "x_test /= 255\n",
    "print('x_train shape:', x_train.shape)\n",
    "print(x_train.shape[0], 'train samples')\n",
    "print(x_test.shape[0], 'test samples')\n",
    "\n",
    "# convert class vectors to binary class matrices\n",
    "y_train = keras.utils.to_categorical(y_train, num_classes)\n",
    "y_test = keras.utils.to_categorical(y_test, num_classes)\n",
    "\n",
    "model = Sequential()\n",
    "model.add(Conv2D(32, kernel_size=(3, 3),\n",
    "                 activation='relu',\n",
    "                 input_shape=input_shape))\n",
    "model.add(Conv2D(64, (3, 3), activation='relu'))\n",
    "model.add(MaxPooling2D(pool_size=(2, 2)))\n",
    "#model.add(Dropout(0.25))\n",
    "model.add(Flatten())\n",
    "model.add(Dense(512, activation='relu'))\n",
    "#model.add(Dropout(0.5))\n",
    "model.add(Dense(num_classes, activation='softmax'))\n",
    "\n",
    "model.compile(loss=keras.losses.categorical_crossentropy,\n",
    "              optimizer=keras.optimizers.Adadelta(),\n",
    "              metrics=['accuracy'])"
   ]
  },
  {
   "cell_type": "code",
   "execution_count": 4,
   "metadata": {},
   "outputs": [
    {
     "name": "stdout",
     "output_type": "stream",
     "text": [
      "Epoch 1/12\n",
      "60000/60000 [==============================] - 2s 36us/step - loss: 0.1600 - acc: 0.9522\n",
      "Epoch 2/12\n",
      "60000/60000 [==============================] - 2s 35us/step - loss: 0.0966 - acc: 0.9707\n",
      "Epoch 3/12\n",
      "60000/60000 [==============================] - 2s 35us/step - loss: 0.0662 - acc: 0.9809\n",
      "Epoch 4/12\n",
      "60000/60000 [==============================] - 2s 35us/step - loss: 0.0487 - acc: 0.9853\n",
      "Epoch 5/12\n",
      "60000/60000 [==============================] - 2s 35us/step - loss: 0.0413 - acc: 0.9875\n",
      "Epoch 6/12\n",
      "60000/60000 [==============================] - 2s 35us/step - loss: 0.0338 - acc: 0.9896\n",
      "Epoch 7/12\n",
      "60000/60000 [==============================] - 2s 35us/step - loss: 0.0259 - acc: 0.9922\n",
      "Epoch 8/12\n",
      "60000/60000 [==============================] - 2s 35us/step - loss: 0.0219 - acc: 0.9931\n",
      "Epoch 9/12\n",
      "60000/60000 [==============================] - 2s 35us/step - loss: 0.0190 - acc: 0.9942\n",
      "Epoch 10/12\n",
      "60000/60000 [==============================] - 2s 35us/step - loss: 0.0477 - acc: 0.9891\n",
      "Epoch 11/12\n",
      "60000/60000 [==============================] - 2s 35us/step - loss: 0.0165 - acc: 0.9956\n",
      "Epoch 12/12\n",
      "60000/60000 [==============================] - 2s 35us/step - loss: 0.0109 - acc: 0.9974\n"
     ]
    },
    {
     "data": {
      "text/plain": [
       "<keras.callbacks.History at 0x16a745fabe0>"
      ]
     },
     "execution_count": 4,
     "metadata": {},
     "output_type": "execute_result"
    }
   ],
   "source": [
    "model.fit(x_train, y_train,\n",
    "          batch_size=1024,\n",
    "          epochs=12,\n",
    "          verbose=1)"
   ]
  },
  {
   "cell_type": "code",
   "execution_count": 5,
   "metadata": {},
   "outputs": [
    {
     "name": "stdout",
     "output_type": "stream",
     "text": [
      "Test loss: 0.029706539517766212\n",
      "Test accuracy: 0.9902\n"
     ]
    }
   ],
   "source": [
    "score = model.evaluate(x_test, y_test, verbose=0)\n",
    "print('Test loss:', score[0])\n",
    "print('Test accuracy:', score[1])"
   ]
  },
  {
   "cell_type": "code",
   "execution_count": null,
   "metadata": {},
   "outputs": [],
   "source": []
  }
 ],
 "metadata": {
  "kernelspec": {
   "display_name": "deeplearning",
   "language": "python",
   "name": "deeplearning"
  },
  "language_info": {
   "codemirror_mode": {
    "name": "ipython",
    "version": 3
   },
   "file_extension": ".py",
   "mimetype": "text/x-python",
   "name": "python",
   "nbconvert_exporter": "python",
   "pygments_lexer": "ipython3",
   "version": "3.6.4"
  }
 },
 "nbformat": 4,
 "nbformat_minor": 2
}
