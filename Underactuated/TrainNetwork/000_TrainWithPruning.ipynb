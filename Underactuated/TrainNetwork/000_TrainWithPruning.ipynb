{
 "cells": [
  {
   "cell_type": "markdown",
   "metadata": {},
   "source": [
    "# Callin Switzer\n",
    "___\n",
    "\n",
    "### 16 Jan 2020\n",
    "### - Train without pruning\n",
    "### - Then prune\n"
   ]
  },
  {
   "cell_type": "markdown",
   "metadata": {},
   "source": [
    "___"
   ]
  },
  {
   "cell_type": "code",
   "execution_count": 1,
   "metadata": {},
   "outputs": [
    {
     "name": "stdout",
     "output_type": "stream",
     "text": [
      "TensorFlow successfully installed.\n",
      "The installed version of TensorFlow includes GPU support.\n",
      "3.6.5 |Anaconda, Inc.| (default, Mar 29 2018, 13:32:41) [MSC v.1900 64 bit (AMD64)] \n",
      "\n",
      "last run on 2020-01-30 10:44:33.558243\n"
     ]
    }
   ],
   "source": [
    "import numpy as np\n",
    "from matplotlib import pyplot as plt\n",
    "%matplotlib inline\n",
    "plt.rc('font',family='Times New Roman')\n",
    "from matplotlib.ticker import ScalarFormatter\n",
    "import os\n",
    "import pandas as pd\n",
    "import time\n",
    "from datetime import datetime\n",
    "import sys\n",
    "import seaborn as sns\n",
    "import scipy.io\n",
    "import subprocess\n",
    "import winsound\n",
    "import pickle\n",
    "import glob\n",
    "import sqlite3\n",
    "\n",
    "from sklearn.model_selection import train_test_split\n",
    "from sklearn.preprocessing import StandardScaler, MinMaxScaler\n",
    "from sklearn.metrics import mean_squared_error, r2_score\n",
    "import tensorflow as tf\n",
    "print(\"TensorFlow successfully installed.\")\n",
    "if tf.test.is_built_with_cuda():\n",
    "    print(\"The installed version of TensorFlow includes GPU support.\")\n",
    "print(sys.version, \"\\n\")\n",
    "now = datetime.now()\n",
    "print(\"last run on \" + str(now))\n",
    "\n",
    "# define directories\n",
    "baseDir = os.getcwd()\n",
    "dataDir = r'D:\\MothSimulations\\11c-AggressiveManeuver\\Qstore\\hws_am_con'\n",
    "figDir = r'D:\\Dropbox\\AcademiaDropbox\\mothMachineLearning_dataAndFigs\\Figs'\n",
    "dataOutput = r'D:\\Dropbox\\AcademiaDropbox\\mothMachineLearning_dataAndFigs\\DataOutput'\n",
    "savedModels = r'D:\\Dropbox\\AcademiaDropbox\\mothMachineLearning_dataAndFigs\\savedModels'\n",
    "dataDir = r'D:/Dropbox/AcademiaDropbox/mothMachineLearning_dataAndFigs/PythonGeneratedData_oneTorque/'\n",
    "if not os.path.exists(figDir):\n",
    "    os.mkdir(figDir)\n",
    "\n",
    "if not os.path.exists(dataOutput):\n",
    "    os.mkdir(dataOutput)\n",
    "if not os.path.exists(savedModels):\n",
    "    os.mkdir(savedModels)\n"
   ]
  },
  {
   "cell_type": "code",
   "execution_count": 2,
   "metadata": {},
   "outputs": [
    {
     "name": "stderr",
     "output_type": "stream",
     "text": [
      "Using TensorFlow backend.\n"
     ]
    }
   ],
   "source": [
    "# import\n",
    "from keras.layers import Input, Dense, Dropout, BatchNormalization\n",
    "from keras.models import Model\n",
    "from keras import regularizers\n",
    "\n",
    "# Keras callcacks\n",
    "from keras.callbacks import EarlyStopping, ReduceLROnPlateau\n",
    "import keras.backend as K"
   ]
  },
  {
   "cell_type": "markdown",
   "metadata": {},
   "source": [
    "# Make training and test set"
   ]
  },
  {
   "cell_type": "code",
   "execution_count": 3,
   "metadata": {},
   "outputs": [
    {
     "name": "stdout",
     "output_type": "stream",
     "text": [
      "['test', 'train']\n"
     ]
    }
   ],
   "source": [
    "# get table names in database\n",
    "con1 = sqlite3.connect(os.path.join(dataDir, \"oneTorqueData.db\"))\n",
    "cursorObj = con1.cursor()\n",
    "res = cursorObj.execute(\"SELECT name FROM sqlite_master WHERE type='table';\")\n",
    "tableNames = [name[0] for name in res]\n",
    "con1.close()\n",
    "print(tableNames)"
   ]
  },
  {
   "cell_type": "code",
   "execution_count": 4,
   "metadata": {},
   "outputs": [],
   "source": [
    "con1 = sqlite3.connect(os.path.join(dataDir, \"oneTorqueData.db\"))\n",
    "trainDF = pd.read_sql_query(\"SELECT * FROM train\", con1)\n",
    "testDF = pd.read_sql_query(\"SELECT * FROM test\", con1)\n",
    "con1.close()"
   ]
  },
  {
   "cell_type": "code",
   "execution_count": 5,
   "metadata": {},
   "outputs": [
    {
     "data": {
      "text/plain": [
       "0"
      ]
     },
     "execution_count": 5,
     "metadata": {},
     "output_type": "execute_result"
    }
   ],
   "source": [
    "# double check for repeats!\n",
    "np.sum(trainDF.iloc[:, [16,17,18]].duplicated()) # 0 means no repeats"
   ]
  },
  {
   "cell_type": "code",
   "execution_count": 6,
   "metadata": {},
   "outputs": [
    {
     "name": "stdout",
     "output_type": "stream",
     "text": [
      "(10000000, 19)\n"
     ]
    },
    {
     "data": {
      "text/html": [
       "<div>\n",
       "<style scoped>\n",
       "    .dataframe tbody tr th:only-of-type {\n",
       "        vertical-align: middle;\n",
       "    }\n",
       "\n",
       "    .dataframe tbody tr th {\n",
       "        vertical-align: top;\n",
       "    }\n",
       "\n",
       "    .dataframe thead th {\n",
       "        text-align: right;\n",
       "    }\n",
       "</style>\n",
       "<table border=\"1\" class=\"dataframe\">\n",
       "  <thead>\n",
       "    <tr style=\"text-align: right;\">\n",
       "      <th></th>\n",
       "      <th>x_0</th>\n",
       "      <th>xd_0</th>\n",
       "      <th>y_0</th>\n",
       "      <th>yd_0</th>\n",
       "      <th>theta_0</th>\n",
       "      <th>thetad_0</th>\n",
       "      <th>phi_0</th>\n",
       "      <th>phid_0</th>\n",
       "      <th>x_f</th>\n",
       "      <th>xd_f</th>\n",
       "      <th>y_f</th>\n",
       "      <th>yd_f</th>\n",
       "      <th>theta_f</th>\n",
       "      <th>thetad_f</th>\n",
       "      <th>phi_f</th>\n",
       "      <th>phid_f</th>\n",
       "      <th>F</th>\n",
       "      <th>alpha</th>\n",
       "      <th>tau0</th>\n",
       "    </tr>\n",
       "  </thead>\n",
       "  <tbody>\n",
       "    <tr>\n",
       "      <th>0</th>\n",
       "      <td>0.0</td>\n",
       "      <td>1127.569064</td>\n",
       "      <td>0.0</td>\n",
       "      <td>765.895323</td>\n",
       "      <td>1.075898</td>\n",
       "      <td>11.962440</td>\n",
       "      <td>3.427385</td>\n",
       "      <td>18.462602</td>\n",
       "      <td>18.323331</td>\n",
       "      <td>716.627905</td>\n",
       "      <td>14.965420</td>\n",
       "      <td>553.784155</td>\n",
       "      <td>2.653195</td>\n",
       "      <td>147.068401</td>\n",
       "      <td>5.115222</td>\n",
       "      <td>153.187791</td>\n",
       "      <td>41181.992912</td>\n",
       "      <td>1.987846</td>\n",
       "      <td>-63216.237665</td>\n",
       "    </tr>\n",
       "    <tr>\n",
       "      <th>1</th>\n",
       "      <td>0.0</td>\n",
       "      <td>979.651081</td>\n",
       "      <td>0.0</td>\n",
       "      <td>-625.561275</td>\n",
       "      <td>0.306688</td>\n",
       "      <td>-5.637037</td>\n",
       "      <td>2.576453</td>\n",
       "      <td>19.788635</td>\n",
       "      <td>18.603118</td>\n",
       "      <td>878.261004</td>\n",
       "      <td>-13.758388</td>\n",
       "      <td>-732.267264</td>\n",
       "      <td>0.102441</td>\n",
       "      <td>-34.254744</td>\n",
       "      <td>2.372751</td>\n",
       "      <td>-34.214230</td>\n",
       "      <td>9062.020340</td>\n",
       "      <td>3.567122</td>\n",
       "      <td>19108.940596</td>\n",
       "    </tr>\n",
       "    <tr>\n",
       "      <th>2</th>\n",
       "      <td>0.0</td>\n",
       "      <td>1111.257777</td>\n",
       "      <td>0.0</td>\n",
       "      <td>-1406.672066</td>\n",
       "      <td>5.094943</td>\n",
       "      <td>16.102668</td>\n",
       "      <td>1.775724</td>\n",
       "      <td>-9.188076</td>\n",
       "      <td>19.014000</td>\n",
       "      <td>1058.629029</td>\n",
       "      <td>-25.108839</td>\n",
       "      <td>-1007.321715</td>\n",
       "      <td>2.811424</td>\n",
       "      <td>-218.672246</td>\n",
       "      <td>-0.370204</td>\n",
       "      <td>-211.787743</td>\n",
       "      <td>42727.993224</td>\n",
       "      <td>4.104033</td>\n",
       "      <td>49781.327507</td>\n",
       "    </tr>\n",
       "    <tr>\n",
       "      <th>3</th>\n",
       "      <td>0.0</td>\n",
       "      <td>-1438.730397</td>\n",
       "      <td>0.0</td>\n",
       "      <td>690.882986</td>\n",
       "      <td>5.034187</td>\n",
       "      <td>-3.375327</td>\n",
       "      <td>5.534301</td>\n",
       "      <td>-9.669100</td>\n",
       "      <td>-31.101504</td>\n",
       "      <td>-1501.738112</td>\n",
       "      <td>10.625933</td>\n",
       "      <td>331.290367</td>\n",
       "      <td>6.319507</td>\n",
       "      <td>141.205184</td>\n",
       "      <td>6.795796</td>\n",
       "      <td>140.443097</td>\n",
       "      <td>28953.145279</td>\n",
       "      <td>4.698031</td>\n",
       "      <td>92261.347215</td>\n",
       "    </tr>\n",
       "    <tr>\n",
       "      <th>4</th>\n",
       "      <td>0.0</td>\n",
       "      <td>1370.322727</td>\n",
       "      <td>0.0</td>\n",
       "      <td>-216.459775</td>\n",
       "      <td>4.186927</td>\n",
       "      <td>-16.500337</td>\n",
       "      <td>3.194818</td>\n",
       "      <td>-0.385905</td>\n",
       "      <td>27.276171</td>\n",
       "      <td>1358.779274</td>\n",
       "      <td>-4.544002</td>\n",
       "      <td>-238.613391</td>\n",
       "      <td>3.984840</td>\n",
       "      <td>-10.035763</td>\n",
       "      <td>3.181642</td>\n",
       "      <td>-0.756667</td>\n",
       "      <td>371.601599</td>\n",
       "      <td>0.668810</td>\n",
       "      <td>-40259.257246</td>\n",
       "    </tr>\n",
       "  </tbody>\n",
       "</table>\n",
       "</div>"
      ],
      "text/plain": [
       "   x_0         xd_0  y_0         yd_0   theta_0   thetad_0     phi_0  \\\n",
       "0  0.0  1127.569064  0.0   765.895323  1.075898  11.962440  3.427385   \n",
       "1  0.0   979.651081  0.0  -625.561275  0.306688  -5.637037  2.576453   \n",
       "2  0.0  1111.257777  0.0 -1406.672066  5.094943  16.102668  1.775724   \n",
       "3  0.0 -1438.730397  0.0   690.882986  5.034187  -3.375327  5.534301   \n",
       "4  0.0  1370.322727  0.0  -216.459775  4.186927 -16.500337  3.194818   \n",
       "\n",
       "      phid_0        x_f         xd_f        y_f         yd_f   theta_f  \\\n",
       "0  18.462602  18.323331   716.627905  14.965420   553.784155  2.653195   \n",
       "1  19.788635  18.603118   878.261004 -13.758388  -732.267264  0.102441   \n",
       "2  -9.188076  19.014000  1058.629029 -25.108839 -1007.321715  2.811424   \n",
       "3  -9.669100 -31.101504 -1501.738112  10.625933   331.290367  6.319507   \n",
       "4  -0.385905  27.276171  1358.779274  -4.544002  -238.613391  3.984840   \n",
       "\n",
       "     thetad_f     phi_f      phid_f             F     alpha          tau0  \n",
       "0  147.068401  5.115222  153.187791  41181.992912  1.987846 -63216.237665  \n",
       "1  -34.254744  2.372751  -34.214230   9062.020340  3.567122  19108.940596  \n",
       "2 -218.672246 -0.370204 -211.787743  42727.993224  4.104033  49781.327507  \n",
       "3  141.205184  6.795796  140.443097  28953.145279  4.698031  92261.347215  \n",
       "4  -10.035763  3.181642   -0.756667    371.601599  0.668810 -40259.257246  "
      ]
     },
     "execution_count": 6,
     "metadata": {},
     "output_type": "execute_result"
    }
   ],
   "source": [
    "print(trainDF.shape)\n",
    "trainDF.head()"
   ]
  },
  {
   "cell_type": "code",
   "execution_count": 7,
   "metadata": {},
   "outputs": [],
   "source": [
    "# rename columns to be consistent with other code\n",
    "trainDF.rename(columns={\"x0\" : \"x_0\", \"y0\" : \"y_0\", \"phi0\" : \"phi_0\", \"theta0\" : \"theta_0\", \n",
    "                        \"x_f\" : \"x_99\", \"y_f\" : \"y_99\", \"phi_f\" : \"phi_99\", \"theta_f\" : \"theta_99\", \n",
    "                        \"xd_0\" : \"x_dot_0\", \"yd_0\" : \"y_dot_0\", \"phid_0\" : \"phi_dot_0\", \"thetad_0\": \"theta_dot_0\", \n",
    "                        \"xd_f\" : \"x_dot_99\", \"yd_f\": \"y_dot_99\", \"phid_f\": \"phi_dot_99\", \"thetad_f\": \"theta_dot_99\", \n",
    "                        \"tau0\" : \"tau\"}, inplace=True)\n",
    "\n",
    "# rename columns to be consistent with other code\n",
    "testDF.rename(columns={\"x0\" : \"x_0\", \"y0\" : \"y_0\", \"phi0\" : \"phi_0\", \"theta0\" : \"theta_0\", \n",
    "                        \"x_f\" : \"x_99\", \"y_f\" : \"y_99\", \"phi_f\" : \"phi_99\", \"theta_f\" : \"theta_99\", \n",
    "                        \"xd_0\" : \"x_dot_0\", \"yd_0\" : \"y_dot_0\", \"phid_0\" : \"phi_dot_0\", \"thetad_0\": \"theta_dot_0\", \n",
    "                        \"xd_f\" : \"x_dot_99\", \"yd_f\": \"y_dot_99\", \"phid_f\": \"phi_dot_99\", \"thetad_f\": \"theta_dot_99\", \n",
    "                        \"tau0\" : \"tau\"}, inplace=True)"
   ]
  },
  {
   "cell_type": "code",
   "execution_count": 8,
   "metadata": {},
   "outputs": [],
   "source": [
    "# convert to fx and fy\n",
    "trainDF[\"Fx\"] = trainDF.F * np.cos(trainDF.alpha)\n",
    "trainDF[\"Fy\"] = trainDF.F * np.sin(trainDF.alpha)\n",
    "\n",
    "testDF[\"Fx\"] = testDF.F * np.cos(testDF.alpha)\n",
    "testDF[\"Fy\"] = testDF.F * np.sin(testDF.alpha)\n"
   ]
  },
  {
   "cell_type": "code",
   "execution_count": 9,
   "metadata": {},
   "outputs": [],
   "source": [
    "# make dataset\n",
    "X = trainDF.loc[:, [ \"phi_0\", \"theta_0\", \n",
    "                    \"x_99\", \"y_99\", \"phi_99\", \"theta_99\", \n",
    "                   \"x_dot_0\", \"y_dot_0\", \"phi_dot_0\", \"theta_dot_0\"]]\n",
    "\n",
    "Y = trainDF.loc[:, [\"Fx\", \"Fy\", \"tau\", \"x_dot_99\", \"y_dot_99\", \n",
    "                    \"phi_dot_99\", \"theta_dot_99\"] ]\n",
    "\n",
    "# make test dataset\n",
    "Xtest = testDF.loc[:, [ \"phi_0\", \"theta_0\", \n",
    "                    \"x_99\", \"y_99\", \"phi_99\", \"theta_99\", \n",
    "                   \"x_dot_0\", \"y_dot_0\", \"phi_dot_0\", \"theta_dot_0\"]]\n",
    "\n",
    "Ytest = testDF.loc[:, [\"Fx\", \"Fy\", \"tau\", \"x_dot_99\", \"y_dot_99\", \n",
    "                    \"phi_dot_99\", \"theta_dot_99\"] ]"
   ]
  },
  {
   "cell_type": "code",
   "execution_count": 10,
   "metadata": {},
   "outputs": [
    {
     "data": {
      "text/html": [
       "<div>\n",
       "<style scoped>\n",
       "    .dataframe tbody tr th:only-of-type {\n",
       "        vertical-align: middle;\n",
       "    }\n",
       "\n",
       "    .dataframe tbody tr th {\n",
       "        vertical-align: top;\n",
       "    }\n",
       "\n",
       "    .dataframe thead th {\n",
       "        text-align: right;\n",
       "    }\n",
       "</style>\n",
       "<table border=\"1\" class=\"dataframe\">\n",
       "  <thead>\n",
       "    <tr style=\"text-align: right;\">\n",
       "      <th></th>\n",
       "      <th>phi_0</th>\n",
       "      <th>theta_0</th>\n",
       "      <th>x_99</th>\n",
       "      <th>y_99</th>\n",
       "      <th>phi_99</th>\n",
       "      <th>theta_99</th>\n",
       "      <th>x_dot_0</th>\n",
       "      <th>y_dot_0</th>\n",
       "      <th>phi_dot_0</th>\n",
       "      <th>theta_dot_0</th>\n",
       "    </tr>\n",
       "  </thead>\n",
       "  <tbody>\n",
       "    <tr>\n",
       "      <th>0</th>\n",
       "      <td>3.427385</td>\n",
       "      <td>1.075898</td>\n",
       "      <td>18.323331</td>\n",
       "      <td>14.965420</td>\n",
       "      <td>5.115222</td>\n",
       "      <td>2.653195</td>\n",
       "      <td>1127.569064</td>\n",
       "      <td>765.895323</td>\n",
       "      <td>18.462602</td>\n",
       "      <td>11.962440</td>\n",
       "    </tr>\n",
       "    <tr>\n",
       "      <th>1</th>\n",
       "      <td>2.576453</td>\n",
       "      <td>0.306688</td>\n",
       "      <td>18.603118</td>\n",
       "      <td>-13.758388</td>\n",
       "      <td>2.372751</td>\n",
       "      <td>0.102441</td>\n",
       "      <td>979.651081</td>\n",
       "      <td>-625.561275</td>\n",
       "      <td>19.788635</td>\n",
       "      <td>-5.637037</td>\n",
       "    </tr>\n",
       "    <tr>\n",
       "      <th>2</th>\n",
       "      <td>1.775724</td>\n",
       "      <td>5.094943</td>\n",
       "      <td>19.014000</td>\n",
       "      <td>-25.108839</td>\n",
       "      <td>-0.370204</td>\n",
       "      <td>2.811424</td>\n",
       "      <td>1111.257777</td>\n",
       "      <td>-1406.672066</td>\n",
       "      <td>-9.188076</td>\n",
       "      <td>16.102668</td>\n",
       "    </tr>\n",
       "    <tr>\n",
       "      <th>3</th>\n",
       "      <td>5.534301</td>\n",
       "      <td>5.034187</td>\n",
       "      <td>-31.101504</td>\n",
       "      <td>10.625933</td>\n",
       "      <td>6.795796</td>\n",
       "      <td>6.319507</td>\n",
       "      <td>-1438.730397</td>\n",
       "      <td>690.882986</td>\n",
       "      <td>-9.669100</td>\n",
       "      <td>-3.375327</td>\n",
       "    </tr>\n",
       "    <tr>\n",
       "      <th>4</th>\n",
       "      <td>3.194818</td>\n",
       "      <td>4.186927</td>\n",
       "      <td>27.276171</td>\n",
       "      <td>-4.544002</td>\n",
       "      <td>3.181642</td>\n",
       "      <td>3.984840</td>\n",
       "      <td>1370.322727</td>\n",
       "      <td>-216.459775</td>\n",
       "      <td>-0.385905</td>\n",
       "      <td>-16.500337</td>\n",
       "    </tr>\n",
       "  </tbody>\n",
       "</table>\n",
       "</div>"
      ],
      "text/plain": [
       "      phi_0   theta_0       x_99       y_99    phi_99  theta_99      x_dot_0  \\\n",
       "0  3.427385  1.075898  18.323331  14.965420  5.115222  2.653195  1127.569064   \n",
       "1  2.576453  0.306688  18.603118 -13.758388  2.372751  0.102441   979.651081   \n",
       "2  1.775724  5.094943  19.014000 -25.108839 -0.370204  2.811424  1111.257777   \n",
       "3  5.534301  5.034187 -31.101504  10.625933  6.795796  6.319507 -1438.730397   \n",
       "4  3.194818  4.186927  27.276171  -4.544002  3.181642  3.984840  1370.322727   \n",
       "\n",
       "       y_dot_0  phi_dot_0  theta_dot_0  \n",
       "0   765.895323  18.462602    11.962440  \n",
       "1  -625.561275  19.788635    -5.637037  \n",
       "2 -1406.672066  -9.188076    16.102668  \n",
       "3   690.882986  -9.669100    -3.375327  \n",
       "4  -216.459775  -0.385905   -16.500337  "
      ]
     },
     "execution_count": 10,
     "metadata": {},
     "output_type": "execute_result"
    }
   ],
   "source": [
    "X.head()"
   ]
  },
  {
   "cell_type": "code",
   "execution_count": 11,
   "metadata": {},
   "outputs": [
    {
     "data": {
      "text/html": [
       "<div>\n",
       "<style scoped>\n",
       "    .dataframe tbody tr th:only-of-type {\n",
       "        vertical-align: middle;\n",
       "    }\n",
       "\n",
       "    .dataframe tbody tr th {\n",
       "        vertical-align: top;\n",
       "    }\n",
       "\n",
       "    .dataframe thead th {\n",
       "        text-align: right;\n",
       "    }\n",
       "</style>\n",
       "<table border=\"1\" class=\"dataframe\">\n",
       "  <thead>\n",
       "    <tr style=\"text-align: right;\">\n",
       "      <th></th>\n",
       "      <th>Fx</th>\n",
       "      <th>Fy</th>\n",
       "      <th>tau</th>\n",
       "      <th>x_dot_99</th>\n",
       "      <th>y_dot_99</th>\n",
       "      <th>phi_dot_99</th>\n",
       "      <th>theta_dot_99</th>\n",
       "    </tr>\n",
       "  </thead>\n",
       "  <tbody>\n",
       "    <tr>\n",
       "      <th>0</th>\n",
       "      <td>-16681.383440</td>\n",
       "      <td>37652.197635</td>\n",
       "      <td>-63216.237665</td>\n",
       "      <td>716.627905</td>\n",
       "      <td>553.784155</td>\n",
       "      <td>153.187791</td>\n",
       "      <td>147.068401</td>\n",
       "    </tr>\n",
       "    <tr>\n",
       "      <th>1</th>\n",
       "      <td>-8253.874132</td>\n",
       "      <td>-3740.825371</td>\n",
       "      <td>19108.940596</td>\n",
       "      <td>878.261004</td>\n",
       "      <td>-732.267264</td>\n",
       "      <td>-34.214230</td>\n",
       "      <td>-34.254744</td>\n",
       "    </tr>\n",
       "    <tr>\n",
       "      <th>2</th>\n",
       "      <td>-24419.876370</td>\n",
       "      <td>-35062.102662</td>\n",
       "      <td>49781.327507</td>\n",
       "      <td>1058.629029</td>\n",
       "      <td>-1007.321715</td>\n",
       "      <td>-211.787743</td>\n",
       "      <td>-218.672246</td>\n",
       "    </tr>\n",
       "    <tr>\n",
       "      <th>3</th>\n",
       "      <td>-415.702991</td>\n",
       "      <td>-28950.160838</td>\n",
       "      <td>92261.347215</td>\n",
       "      <td>-1501.738112</td>\n",
       "      <td>331.290367</td>\n",
       "      <td>140.443097</td>\n",
       "      <td>141.205184</td>\n",
       "    </tr>\n",
       "    <tr>\n",
       "      <th>4</th>\n",
       "      <td>291.543841</td>\n",
       "      <td>230.412537</td>\n",
       "      <td>-40259.257246</td>\n",
       "      <td>1358.779274</td>\n",
       "      <td>-238.613391</td>\n",
       "      <td>-0.756667</td>\n",
       "      <td>-10.035763</td>\n",
       "    </tr>\n",
       "  </tbody>\n",
       "</table>\n",
       "</div>"
      ],
      "text/plain": [
       "             Fx            Fy           tau     x_dot_99     y_dot_99  \\\n",
       "0 -16681.383440  37652.197635 -63216.237665   716.627905   553.784155   \n",
       "1  -8253.874132  -3740.825371  19108.940596   878.261004  -732.267264   \n",
       "2 -24419.876370 -35062.102662  49781.327507  1058.629029 -1007.321715   \n",
       "3   -415.702991 -28950.160838  92261.347215 -1501.738112   331.290367   \n",
       "4    291.543841    230.412537 -40259.257246  1358.779274  -238.613391   \n",
       "\n",
       "   phi_dot_99  theta_dot_99  \n",
       "0  153.187791    147.068401  \n",
       "1  -34.214230    -34.254744  \n",
       "2 -211.787743   -218.672246  \n",
       "3  140.443097    141.205184  \n",
       "4   -0.756667    -10.035763  "
      ]
     },
     "execution_count": 11,
     "metadata": {},
     "output_type": "execute_result"
    }
   ],
   "source": [
    "Y.head()"
   ]
  },
  {
   "cell_type": "code",
   "execution_count": 12,
   "metadata": {},
   "outputs": [],
   "source": [
    "# val train split\n",
    "Xtrain, Xval, Ytrain, Yval = train_test_split(X, Y, test_size=0.2, random_state = 123)"
   ]
  },
  {
   "cell_type": "code",
   "execution_count": 13,
   "metadata": {},
   "outputs": [],
   "source": [
    "# scale data \n",
    "scalerX = MinMaxScaler([-0.5, 0.5])  \n",
    "scalerY = MinMaxScaler([-0.5, 0.5])  \n",
    "\n",
    "# Don't cheat - fit only on training data\n",
    "scalerX.fit(Xtrain)  \n",
    "scalerY.fit(Ytrain) \n",
    "\n",
    "Xtrain_scaled = scalerX.transform(Xtrain)  \n",
    "Ytrain_scaled = scalerY.transform(Ytrain)  \n",
    "\n",
    "# apply same transformation to test data\n",
    "Xval_scaled = scalerX.transform(Xval)\n",
    "Yval_scaled = scalerY.transform(Yval)\n",
    "\n",
    "\n",
    "# final test data\n",
    "Xtest_scaled = scalerX.transform(Xtest)"
   ]
  },
  {
   "cell_type": "code",
   "execution_count": 14,
   "metadata": {},
   "outputs": [
    {
     "data": {
      "text/html": [
       "<div>\n",
       "<style scoped>\n",
       "    .dataframe tbody tr th:only-of-type {\n",
       "        vertical-align: middle;\n",
       "    }\n",
       "\n",
       "    .dataframe tbody tr th {\n",
       "        vertical-align: top;\n",
       "    }\n",
       "\n",
       "    .dataframe thead th {\n",
       "        text-align: right;\n",
       "    }\n",
       "</style>\n",
       "<table border=\"1\" class=\"dataframe\">\n",
       "  <thead>\n",
       "    <tr style=\"text-align: right;\">\n",
       "      <th></th>\n",
       "      <th>phi_0</th>\n",
       "      <th>theta_0</th>\n",
       "      <th>x_99</th>\n",
       "      <th>y_99</th>\n",
       "      <th>phi_99</th>\n",
       "      <th>theta_99</th>\n",
       "      <th>x_dot_0</th>\n",
       "      <th>y_dot_0</th>\n",
       "      <th>phi_dot_0</th>\n",
       "      <th>theta_dot_0</th>\n",
       "    </tr>\n",
       "  </thead>\n",
       "  <tbody>\n",
       "    <tr>\n",
       "      <th>0</th>\n",
       "      <td>0.440808</td>\n",
       "      <td>-0.497541</td>\n",
       "      <td>-0.376881</td>\n",
       "      <td>-0.092528</td>\n",
       "      <td>0.279106</td>\n",
       "      <td>-0.125546</td>\n",
       "      <td>-0.413733</td>\n",
       "      <td>-0.087276</td>\n",
       "      <td>0.151751</td>\n",
       "      <td>-0.419563</td>\n",
       "    </tr>\n",
       "    <tr>\n",
       "      <th>1</th>\n",
       "      <td>0.002656</td>\n",
       "      <td>0.450960</td>\n",
       "      <td>0.232234</td>\n",
       "      <td>0.301146</td>\n",
       "      <td>-0.030380</td>\n",
       "      <td>0.180345</td>\n",
       "      <td>0.276074</td>\n",
       "      <td>0.383212</td>\n",
       "      <td>0.227138</td>\n",
       "      <td>0.094672</td>\n",
       "    </tr>\n",
       "    <tr>\n",
       "      <th>2</th>\n",
       "      <td>0.302116</td>\n",
       "      <td>0.217276</td>\n",
       "      <td>0.364791</td>\n",
       "      <td>-0.175444</td>\n",
       "      <td>-0.008066</td>\n",
       "      <td>-0.047502</td>\n",
       "      <td>0.385703</td>\n",
       "      <td>-0.188919</td>\n",
       "      <td>-0.266187</td>\n",
       "      <td>-0.202705</td>\n",
       "    </tr>\n",
       "    <tr>\n",
       "      <th>3</th>\n",
       "      <td>-0.471247</td>\n",
       "      <td>0.121804</td>\n",
       "      <td>0.070077</td>\n",
       "      <td>0.310735</td>\n",
       "      <td>-0.319397</td>\n",
       "      <td>-0.062783</td>\n",
       "      <td>0.103501</td>\n",
       "      <td>0.332100</td>\n",
       "      <td>-0.227711</td>\n",
       "      <td>0.447327</td>\n",
       "    </tr>\n",
       "    <tr>\n",
       "      <th>4</th>\n",
       "      <td>-0.350056</td>\n",
       "      <td>-0.349031</td>\n",
       "      <td>0.313582</td>\n",
       "      <td>0.159721</td>\n",
       "      <td>-0.093290</td>\n",
       "      <td>-0.092005</td>\n",
       "      <td>0.350805</td>\n",
       "      <td>0.216431</td>\n",
       "      <td>0.136925</td>\n",
       "      <td>0.270457</td>\n",
       "    </tr>\n",
       "  </tbody>\n",
       "</table>\n",
       "</div>"
      ],
      "text/plain": [
       "      phi_0   theta_0      x_99      y_99    phi_99  theta_99   x_dot_0  \\\n",
       "0  0.440808 -0.497541 -0.376881 -0.092528  0.279106 -0.125546 -0.413733   \n",
       "1  0.002656  0.450960  0.232234  0.301146 -0.030380  0.180345  0.276074   \n",
       "2  0.302116  0.217276  0.364791 -0.175444 -0.008066 -0.047502  0.385703   \n",
       "3 -0.471247  0.121804  0.070077  0.310735 -0.319397 -0.062783  0.103501   \n",
       "4 -0.350056 -0.349031  0.313582  0.159721 -0.093290 -0.092005  0.350805   \n",
       "\n",
       "    y_dot_0  phi_dot_0  theta_dot_0  \n",
       "0 -0.087276   0.151751    -0.419563  \n",
       "1  0.383212   0.227138     0.094672  \n",
       "2 -0.188919  -0.266187    -0.202705  \n",
       "3  0.332100  -0.227711     0.447327  \n",
       "4  0.216431   0.136925     0.270457  "
      ]
     },
     "execution_count": 14,
     "metadata": {},
     "output_type": "execute_result"
    }
   ],
   "source": [
    "pd.DataFrame(Xtrain_scaled, columns = X.columns).head()"
   ]
  },
  {
   "cell_type": "markdown",
   "metadata": {},
   "source": [
    "# Keras models"
   ]
  },
  {
   "cell_type": "code",
   "execution_count": 15,
   "metadata": {},
   "outputs": [],
   "source": [
    "# import\n",
    "from keras.layers import Input, Dense, Dropout, BatchNormalization\n",
    "from keras.models import Model\n",
    "from keras import regularizers\n",
    "\n",
    "# Keras callcacks\n",
    "from keras.callbacks import EarlyStopping, ReduceLROnPlateau\n",
    "import keras.backend as K\n",
    "\n",
    "K.clear_session()"
   ]
  },
  {
   "cell_type": "code",
   "execution_count": 16,
   "metadata": {},
   "outputs": [],
   "source": [
    "# create network\n",
    "def create_network(optimizer = 'rmsprop', \n",
    "                    numUnits = [400, 16], \n",
    "                    weightRegularization = 0.0, \n",
    "                    dropout_rate=0.1):\n",
    "    \n",
    "    '''\n",
    "    Create a feed forward network.  Assumes Xtrain & Ytrain have been created and scaled\n",
    "    \n",
    "    Params: \n",
    "    optimizer (str): choice of optimizer\n",
    "    numUnits (list): number of units in each hidden\n",
    "    weightRegularization (float): between 0 and 1\n",
    "    dropout_rate (float): between 0 and 1\n",
    "    \n",
    "    '''\n",
    "    K.clear_session()\n",
    "    inputs = Input(shape=(Xtrain_scaled.shape[1],))    \n",
    "    \n",
    "    # add layers\n",
    "    for ii in np.arange(0, len(numUnits)):\n",
    "        if ii >= 1: \n",
    "            x = Dense(numUnits[ii], activation='tanh', \n",
    "                      kernel_regularizer=regularizers.l1(weightRegularization))(x)\n",
    "\n",
    "        else: \n",
    "            x = Dense(numUnits[ii], activation='tanh')(inputs)\n",
    "\n",
    "\n",
    "        # add dropout\n",
    "        if dropout_rate > 0: \n",
    "            x = Dropout(dropout_rate)(x)\n",
    "    \n",
    "    predictions = Dense(Ytrain_scaled.shape[1], activation='linear')(x)\n",
    "\n",
    "    # create model\n",
    "    model = Model(inputs=inputs, outputs=predictions)\n",
    "    model.compile(loss=\"mean_squared_error\", optimizer = optimizer, metrics = ['mse'])\n",
    "\n",
    "    return(model)"
   ]
  },
  {
   "cell_type": "code",
   "execution_count": 17,
   "metadata": {},
   "outputs": [],
   "source": [
    "def format_e(n):\n",
    "    a = '%E' % n\n",
    "    return a.split('E')[0].rstrip('0').rstrip('.') + 'E' + a.split('E')[1]\n",
    "\n",
    "\n",
    "earlystop = EarlyStopping(monitor='val_mean_squared_error', patience=15, \n",
    "                          verbose=1, mode='auto', min_delta = 0.000001)"
   ]
  },
  {
   "cell_type": "code",
   "execution_count": 18,
   "metadata": {},
   "outputs": [],
   "source": [
    "def plot_model_history(model_history, saveFig = False):\n",
    "    fig, axs = plt.subplots(1,1,figsize=(10,5))\n",
    "    # summarize history for accuracy\n",
    "    axs.plot(range(1,len(model_history.history['mean_squared_error'])+1),\n",
    "             model_history.history['mean_squared_error'])\n",
    "    axs.plot(range(1,len(model_history.history['val_mean_squared_error'])+1),\n",
    "             model_history.history['val_mean_squared_error'])\n",
    "    axs.set_title('Model MSE = '+ str(format_e(model_history.history['val_mean_squared_error'][-1])))\n",
    "    axs.set_ylabel('Mean squared error')\n",
    "    axs.set_xlabel('Epoch')\n",
    "    axs.set_xticks(np.arange(0,len(model_history.history['val_mean_squared_error']), 50), 50)\n",
    "    axs.legend(['train', 'validation'], loc='best')\n",
    "    plt.yscale('log') #logarithmic scale for y axis\n",
    "    if saveFig:\n",
    "        fig.savefig(os.path.join(figDir, \"ModelTraining_\" + modelName + \".pdf\"), dpi = 500, bbox_inches='tight')\n",
    "    \n",
    "    plt.show()\n",
    "\n",
    "    \n",
    "def plot_model_history_fromDict(model_history_dictionary, saveFig = False):\n",
    "    fig, axs = plt.subplots(1,1,figsize=(10,5))\n",
    "    # summarize history for accuracy\n",
    "    axs.plot(range(1,len(model_history_dictionary['mean_squared_error'])+1),\n",
    "             model_history_dictionary['mean_squared_error'])\n",
    "    axs.plot(range(1,len(model_history_dictionary['val_mean_squared_error'])+1),\n",
    "             model_history_dictionary['val_mean_squared_error'], alpha = 0.7)\n",
    "    axs.set_title('Model MSE = '+ str(format_e(model_history_dictionary['val_mean_squared_error'][-1])))\n",
    "    axs.set_ylabel('Mean squared error')\n",
    "    axs.set_xlabel('Epoch')\n",
    "    axs.set_xticks(np.arange(0,len(model_history_dictionary['val_mean_squared_error']), 50),50)\n",
    "    axs.legend(['train', 'validation'], loc=2)\n",
    "    plt.yscale('log') #logarithmic scale for y axis\n",
    "    if saveFig:\n",
    "        fig.savefig(os.path.join(figDir, \"ModelTraining_\" + modelName + \"_pruned.png\"), dpi = 120, bbox_inches='tight')\n",
    "        print(os.path.join(figDir, \"ModelTraining_\" + modelName + \"_pruned.png\"))\n"
   ]
  },
  {
   "cell_type": "markdown",
   "metadata": {},
   "source": [
    "___"
   ]
  },
  {
   "cell_type": "code",
   "execution_count": 19,
   "metadata": {},
   "outputs": [],
   "source": [
    "# train and trim weights"
   ]
  },
  {
   "cell_type": "code",
   "execution_count": 20,
   "metadata": {},
   "outputs": [
    {
     "name": "stdout",
     "output_type": "stream",
     "text": [
      "Opt_rmsprop__Dro_0__Num_400_400_400_16__Wei_0_2020_01_30__10_46_12\n",
      "_________________________________________________________________\n",
      "Layer (type)                 Output Shape              Param #   \n",
      "=================================================================\n",
      "input_1 (InputLayer)         (None, 10)                0         \n",
      "_________________________________________________________________\n",
      "dense_1 (Dense)              (None, 400)               4400      \n",
      "_________________________________________________________________\n",
      "dense_2 (Dense)              (None, 400)               160400    \n",
      "_________________________________________________________________\n",
      "dense_3 (Dense)              (None, 400)               160400    \n",
      "_________________________________________________________________\n",
      "dense_4 (Dense)              (None, 16)                6416      \n",
      "_________________________________________________________________\n",
      "dense_5 (Dense)              (None, 7)                 119       \n",
      "=================================================================\n",
      "Total params: 331,735\n",
      "Trainable params: 331,735\n",
      "Non-trainable params: 0\n",
      "_________________________________________________________________\n"
     ]
    }
   ],
   "source": [
    "\n",
    "K.clear_session()\n",
    "\n",
    "modelParams = {\"optimizer\": \"rmsprop\", \n",
    "              \"dropout_rate\" : 0, \n",
    "               \"numUnits\": [400, 400, 400, 16],\n",
    "               \"weightRegularization\": 0\n",
    "              }\n",
    "\n",
    "\n",
    "model = create_network(**modelParams)\n",
    "\n",
    "modeltimestamp = datetime.now().strftime(\"%Y_%m_%d__%I_%M_%S\")\n",
    "modelName = ''.join('{}_{}__'.format(key[0:3].capitalize(), val) for  key, val in modelParams.items()).\\\n",
    "                            replace(\"[\", \"\").replace(\"]\", \"\").replace(\", \", \"_\")[0:-2] + \"_\" + modeltimestamp\n",
    "print(modelName)\n",
    "\n",
    "model.summary()"
   ]
  },
  {
   "cell_type": "code",
   "execution_count": 21,
   "metadata": {},
   "outputs": [],
   "source": [
    "# # save scalers, to be used on test set\n",
    "scalerfileX = 'scalerX_fullact_' + modeltimestamp + '.pkl'\n",
    "pickle.dump(scalerX, open(os.path.join(dataOutput, scalerfileX), 'wb'))\n",
    "\n",
    "scalerfileY = 'scalerY_fullact_' + modeltimestamp + '.pkl'\n",
    "pickle.dump(scalerY, open(os.path.join(dataOutput, scalerfileY), 'wb'))"
   ]
  },
  {
   "cell_type": "code",
   "execution_count": 22,
   "metadata": {},
   "outputs": [],
   "source": [
    "# start training\n",
    "historyDict = {\"mean_squared_error\": [], \n",
    "               \"val_mean_squared_error\": []}"
   ]
  },
  {
   "cell_type": "code",
   "execution_count": 24,
   "metadata": {},
   "outputs": [
    {
     "name": "stdout",
     "output_type": "stream",
     "text": [
      "Train on 8000000 samples, validate on 2000000 samples\n",
      "Epoch 1/10\n",
      " - 16s - loss: 0.0014 - mean_squared_error: 0.0014 - val_loss: 0.0013 - val_mean_squared_error: 0.0013\n",
      "Epoch 2/10\n",
      " - 16s - loss: 0.0014 - mean_squared_error: 0.0014 - val_loss: 0.0010 - val_mean_squared_error: 0.0010\n",
      "Epoch 3/10\n",
      " - 17s - loss: 0.0013 - mean_squared_error: 0.0013 - val_loss: 0.0018 - val_mean_squared_error: 0.0018\n",
      "Epoch 4/10\n",
      " - 17s - loss: 0.0013 - mean_squared_error: 0.0013 - val_loss: 0.0011 - val_mean_squared_error: 0.0011\n",
      "Epoch 5/10\n",
      " - 16s - loss: 0.0012 - mean_squared_error: 0.0012 - val_loss: 0.0011 - val_mean_squared_error: 0.0011\n",
      "Epoch 6/10\n",
      " - 16s - loss: 0.0012 - mean_squared_error: 0.0012 - val_loss: 0.0010 - val_mean_squared_error: 0.0010\n",
      "Epoch 7/10\n",
      " - 17s - loss: 0.0012 - mean_squared_error: 0.0012 - val_loss: 0.0012 - val_mean_squared_error: 0.0012\n",
      "Epoch 8/10\n",
      " - 17s - loss: 0.0011 - mean_squared_error: 0.0011 - val_loss: 0.0012 - val_mean_squared_error: 0.0012\n",
      "Epoch 9/10\n",
      " - 16s - loss: 0.0011 - mean_squared_error: 0.0011 - val_loss: 0.0012 - val_mean_squared_error: 0.0012\n",
      "Epoch 10/10\n",
      " - 16s - loss: 0.0011 - mean_squared_error: 0.0011 - val_loss: 0.0011 - val_mean_squared_error: 0.0011\n"
     ]
    }
   ],
   "source": [
    "# train without pruning\n",
    "history = model.fit(Xtrain_scaled, Ytrain_scaled, \n",
    "                    validation_data=(Xval_scaled, Yval_scaled), \n",
    "                    callbacks = [earlystop],\n",
    "                    verbose = 2, batch_size=2**12, epochs = 10)"
   ]
  },
  {
   "cell_type": "code",
   "execution_count": 25,
   "metadata": {},
   "outputs": [],
   "source": [
    "# save history\n",
    "historyDict[\"mean_squared_error\"].extend(history.history[\"mean_squared_error\"])\n",
    "historyDict[\"val_mean_squared_error\"].extend(history.history[\"val_mean_squared_error\"])"
   ]
  },
  {
   "cell_type": "code",
   "execution_count": 26,
   "metadata": {},
   "outputs": [
    {
     "data": {
      "image/png": "[encoded data removed]",
      "text/plain": [
       "<Figure size 720x360 with 1 Axes>"
      ]
     },
     "metadata": {},
     "output_type": "display_data"
    }
   ],
   "source": [
    "plot_model_history_fromDict(historyDict)"
   ]
  },
  {
   "cell_type": "code",
   "execution_count": null,
   "metadata": {},
   "outputs": [],
   "source": [
    "# save model\n",
    "model.save(os.path.join(savedModels,  modelName + '.h5'))\n",
    "\n",
    "# save weights\n",
    "wts = model.get_weights().copy()\n",
    "\n",
    "wtsFile = modelName + '_wts.pkl'\n",
    "pickle.dump(wts, open(os.path.join(dataOutput, wtsFile), 'wb'))\n",
    "\n",
    "# save history with same name as model\n",
    "historyFile = modeltimestamp + '_history.pkl'\n",
    "pickle.dump(historyDict, open(os.path.join(dataOutput, historyFile), 'wb'))"
   ]
  },
  {
   "cell_type": "code",
   "execution_count": 28,
   "metadata": {},
   "outputs": [],
   "source": [
    "#  plot error rates on test data"
   ]
  },
  {
   "cell_type": "code",
   "execution_count": 29,
   "metadata": {},
   "outputs": [
    {
     "data": {
      "text/html": [
       "<div>\n",
       "<style scoped>\n",
       "    .dataframe tbody tr th:only-of-type {\n",
       "        vertical-align: middle;\n",
       "    }\n",
       "\n",
       "    .dataframe tbody tr th {\n",
       "        vertical-align: top;\n",
       "    }\n",
       "\n",
       "    .dataframe thead th {\n",
       "        text-align: right;\n",
       "    }\n",
       "</style>\n",
       "<table border=\"1\" class=\"dataframe\">\n",
       "  <thead>\n",
       "    <tr style=\"text-align: right;\">\n",
       "      <th></th>\n",
       "      <th>Fx</th>\n",
       "      <th>Fy</th>\n",
       "      <th>tau</th>\n",
       "      <th>x_dot_99</th>\n",
       "      <th>y_dot_99</th>\n",
       "      <th>phi_dot_99</th>\n",
       "      <th>theta_dot_99</th>\n",
       "      <th>Fx_pred</th>\n",
       "      <th>Fy_pred</th>\n",
       "      <th>tau_pred</th>\n",
       "      <th>x_dot_99_pred</th>\n",
       "      <th>y_dot_99_pred</th>\n",
       "      <th>phi_dot_99_pred</th>\n",
       "      <th>theta_dot_99_pred</th>\n",
       "    </tr>\n",
       "  </thead>\n",
       "  <tbody>\n",
       "    <tr>\n",
       "      <th>0</th>\n",
       "      <td>-5342.432439</td>\n",
       "      <td>14670.842555</td>\n",
       "      <td>-57718.558932</td>\n",
       "      <td>-577.070011</td>\n",
       "      <td>-1317.410003</td>\n",
       "      <td>-76.817401</td>\n",
       "      <td>-84.515766</td>\n",
       "      <td>-9765.100586</td>\n",
       "      <td>10862.731445</td>\n",
       "      <td>-41733.742188</td>\n",
       "      <td>-536.412598</td>\n",
       "      <td>-1404.747192</td>\n",
       "      <td>-99.905609</td>\n",
       "      <td>-104.104675</td>\n",
       "    </tr>\n",
       "    <tr>\n",
       "      <th>1</th>\n",
       "      <td>-2515.747661</td>\n",
       "      <td>3418.036434</td>\n",
       "      <td>-64775.342625</td>\n",
       "      <td>-18.839022</td>\n",
       "      <td>1292.672193</td>\n",
       "      <td>17.808851</td>\n",
       "      <td>1.199298</td>\n",
       "      <td>-3448.503662</td>\n",
       "      <td>3767.687012</td>\n",
       "      <td>-63498.437500</td>\n",
       "      <td>11.045896</td>\n",
       "      <td>1294.398193</td>\n",
       "      <td>21.243383</td>\n",
       "      <td>5.107477</td>\n",
       "    </tr>\n",
       "    <tr>\n",
       "      <th>2</th>\n",
       "      <td>-6497.950980</td>\n",
       "      <td>-17669.503572</td>\n",
       "      <td>-49237.798014</td>\n",
       "      <td>-1094.713883</td>\n",
       "      <td>-1469.532303</td>\n",
       "      <td>124.939700</td>\n",
       "      <td>115.462788</td>\n",
       "      <td>-8052.676758</td>\n",
       "      <td>-17731.839844</td>\n",
       "      <td>-47291.812500</td>\n",
       "      <td>-1012.885925</td>\n",
       "      <td>-1451.878662</td>\n",
       "      <td>115.830650</td>\n",
       "      <td>105.405128</td>\n",
       "    </tr>\n",
       "    <tr>\n",
       "      <th>3</th>\n",
       "      <td>24237.433019</td>\n",
       "      <td>-8489.629561</td>\n",
       "      <td>56490.932254</td>\n",
       "      <td>-187.441953</td>\n",
       "      <td>-427.573908</td>\n",
       "      <td>100.329900</td>\n",
       "      <td>100.827942</td>\n",
       "      <td>26907.591797</td>\n",
       "      <td>-7114.918945</td>\n",
       "      <td>66607.632812</td>\n",
       "      <td>-143.939728</td>\n",
       "      <td>-490.256378</td>\n",
       "      <td>90.340530</td>\n",
       "      <td>93.714851</td>\n",
       "    </tr>\n",
       "    <tr>\n",
       "      <th>4</th>\n",
       "      <td>1782.839206</td>\n",
       "      <td>5791.542006</td>\n",
       "      <td>26503.920442</td>\n",
       "      <td>625.069923</td>\n",
       "      <td>31.217768</td>\n",
       "      <td>-26.216617</td>\n",
       "      <td>-20.827598</td>\n",
       "      <td>331.910156</td>\n",
       "      <td>5166.635254</td>\n",
       "      <td>40310.671875</td>\n",
       "      <td>734.821167</td>\n",
       "      <td>-65.314362</td>\n",
       "      <td>-34.995983</td>\n",
       "      <td>-29.880718</td>\n",
       "    </tr>\n",
       "  </tbody>\n",
       "</table>\n",
       "</div>"
      ],
      "text/plain": [
       "             Fx            Fy           tau     x_dot_99     y_dot_99  phi_dot_99  theta_dot_99       Fx_pred       Fy_pred      tau_pred  x_dot_99_pred  y_dot_99_pred  phi_dot_99_pred  theta_dot_99_pred\n",
       "0  -5342.432439  14670.842555 -57718.558932  -577.070011 -1317.410003  -76.817401    -84.515766  -9765.100586  10862.731445 -41733.742188    -536.412598   -1404.747192       -99.905609        -104.104675\n",
       "1  -2515.747661   3418.036434 -64775.342625   -18.839022  1292.672193   17.808851      1.199298  -3448.503662   3767.687012 -63498.437500      11.045896    1294.398193        21.243383           5.107477\n",
       "2  -6497.950980 -17669.503572 -49237.798014 -1094.713883 -1469.532303  124.939700    115.462788  -8052.676758 -17731.839844 -47291.812500   -1012.885925   -1451.878662       115.830650         105.405128\n",
       "3  24237.433019  -8489.629561  56490.932254  -187.441953  -427.573908  100.329900    100.827942  26907.591797  -7114.918945  66607.632812    -143.939728    -490.256378        90.340530          93.714851\n",
       "4   1782.839206   5791.542006  26503.920442   625.069923    31.217768  -26.216617    -20.827598    331.910156   5166.635254  40310.671875     734.821167     -65.314362       -34.995983         -29.880718"
      ]
     },
     "execution_count": 29,
     "metadata": {},
     "output_type": "execute_result"
    }
   ],
   "source": [
    "# predict on test set\n",
    "Ytest_pred = model.predict(Xtest_scaled)\n",
    "\n",
    "\n",
    "# make data frames\n",
    "XtestDF = pd.DataFrame(scalerX.inverse_transform(Xtest_scaled), columns = Xtrain.columns)\n",
    "YtestDF = pd.DataFrame(Ytest, columns = Ytrain.columns)\n",
    "YpredDF = pd.DataFrame(scalerY.inverse_transform(Ytest_pred), columns = Ytrain.columns+ \"_pred\")\n",
    "\n",
    "pd.set_option('display.max_rows', 500)\n",
    "pd.set_option('display.max_columns', 500)\n",
    "pd.set_option('display.width', 1000)\n",
    "\n",
    "df_c = pd.concat([YtestDF.reset_index(drop=True), YpredDF], axis=1)\n",
    "df_c.head()\n"
   ]
  },
  {
   "cell_type": "code",
   "execution_count": 30,
   "metadata": {},
   "outputs": [],
   "source": [
    "#df_c = df_c.iloc[:1000, :]\n",
    "\n",
    "# df_c = df_c.replace([np.inf, -np.inf], np.nan)\n",
    "# df_c = df_c.replace([np.inf, -np.inf], np.nan).dropna()"
   ]
  },
  {
   "cell_type": "code",
   "execution_count": 31,
   "metadata": {},
   "outputs": [],
   "source": [
    "import matplotlib.ticker as mtick\n",
    "import matplotlib\n",
    "class MathTextSciFormatter(mtick.Formatter):\n",
    "    def __init__(self, fmt=\"%1.2e\"):\n",
    "        self.fmt = fmt\n",
    "    def __call__(self, x, pos=None):\n",
    "        s = self.fmt % x\n",
    "        decimal_point = '.'\n",
    "        positive_sign = '+'\n",
    "        tup = s.split('e')\n",
    "        significand = tup[0].rstrip(decimal_point)\n",
    "        sign = tup[1][0].replace(positive_sign, '')\n",
    "        exponent = tup[1][1:].lstrip('0')\n",
    "        if exponent:\n",
    "            exponent = '10^{%s%s}' % (sign, exponent)\n",
    "        if significand and exponent:\n",
    "            s =  r'%s{\\times}%s' % (significand, exponent)\n",
    "        else:\n",
    "            return(\" \")\n",
    "        return \"${}$\".format(s)"
   ]
  },
  {
   "cell_type": "code",
   "execution_count": 32,
   "metadata": {},
   "outputs": [
    {
     "data": {
      "image/png": "[encoded data removed]",
      "text/plain": [
       "<Figure size 576x540 with 17 Axes>"
      ]
     },
     "metadata": {},
     "output_type": "display_data"
    }
   ],
   "source": [
    "# make plots\n",
    "from sklearn.metrics import r2_score\n",
    "from matplotlib import ticker\n",
    "matplotlib.rcParams['mathtext.fontset'] = 'stix'\n",
    "matplotlib.rcParams['mathtext.default'] = 'regular'\n",
    "import matplotlib.ticker as mtick\n",
    "plt.rcParams.update({'font.size': 11})\n",
    "matplotlib.rcParams['pdf.fonttype'] = 42\n",
    "matplotlib.rcParams['ps.fonttype'] = 42\n",
    "import matplotlib.transforms as mtrans\n",
    "\n",
    "\n",
    "fig_col_names = [r'$F_x$', r'$F_y$', r'$\\tau$', r'$\\dot{x}_f$', r'$\\dot{y}_f$', r'$\\dot{\\phi}_f$', r'$\\dot{\\theta}_f$']\n",
    "\n",
    "plt.close(\"all\")\n",
    "fig, axs = plt.subplots(4,4, figsize=np.array([8, 7.5]), facecolor='w', edgecolor='k')\n",
    "fig.subplots_adjust(hspace = 0.9, wspace=.9)\n",
    "# fig.suptitle('Predicted vs. acutal ', fontsize=14, fontweight='bold')\n",
    "\n",
    "axs = axs.ravel(\"C\")\n",
    "\n",
    "ylabs = [r'$g·cm/s^2$', \"$g·cm/s^2$\", \"$g·cm^2/s^2$\", \"$cm/s$\", \"$cm/s$\", \"$rad/s$\", \"$rad/s$\"]\n",
    "\n",
    "# replace lightest colors with white\n",
    "import matplotlib.colors\n",
    "\n",
    "cmap = plt.cm.magma_r\n",
    "cmaplist = np.array([cmap(i) for i in range(cmap.N)])\n",
    "cmaplist[:,0:3] = np.divide(cmaplist[:, 0:3], 1.1)\n",
    "# make really low-value hexbins white\n",
    "cmaplist[0] = (1,1,1,0.5)\n",
    "cmap = matplotlib.colors.LinearSegmentedColormap.from_list('mcm',cmaplist, cmap.N)\n",
    "\n",
    "# Plot y = actual, x = predicted\n",
    "for ii in np.arange(0, 3):\n",
    "    axs[ii].hexbin(y = df_c.loc[:,YtestDF.columns[ii]],\n",
    "                   x = df_c.loc[:,YpredDF.columns[ii]], \n",
    "                   gridsize = 50, cmap = cmap)\n",
    "    axs[ii].xaxis.set_major_locator(ticker.MaxNLocator(3))\n",
    "    axs[ii].yaxis.set_major_locator(ticker.MaxNLocator(3))\n",
    "    axs[ii].set_yticklabels(axs[ii].get_yticklabels(), \n",
    "                            rotation = 45, ha=\"center\",\n",
    "                            va = \"bottom\", rotation_mode=\"anchor\")\n",
    "    axs[ii].yaxis.set_label_coords(-0.4,0.5)\n",
    "    axs[ii].set_xlabel(ylabs[ii] + \"\\n\")\n",
    "    axs[ii].xaxis.set_label_coords(0.5,-0.2)\n",
    "    axs[ii].tick_params(axis=\"x\",direction=\"out\", pad=-0)\n",
    "    \n",
    "\n",
    "    if(ii == 0):\n",
    "        axs[ii].set_ylabel(\"Actual Value\\n\" + ylabs[ii])\n",
    "    else:\n",
    "        axs[ii].set_ylabel(ylabs[ii])\n",
    "\n",
    "    #axs[ii].set_title(YtestDF.columns[ii])\n",
    "    axs[ii].set_title(fig_col_names[ii], fontdict = {'verticalalignment': 'bottom'})\n",
    "    ttl = axs[ii].title\n",
    "    ttl.set_position([.15, 0.62])\n",
    "    \n",
    "    # draw identity lines\n",
    "    lims = [\n",
    "        np.min([axs[ii].get_xlim(), axs[ii].get_ylim()]),  # min of both axes\n",
    "        np.max([axs[ii].get_xlim(), axs[ii].get_ylim()]),  # max of both axes\n",
    "        ]\n",
    "    axs[ii].plot(lims, lims,  \n",
    "                 'grey', linewidth = 1, linestyle  = \"--\")\n",
    "#     axs[ii].plot(df_c.loc[:,YtestDF.columns[ii]], \n",
    "#                  df_c.loc[:,YtestDF.columns[ii]], \n",
    "#                  'grey', linewidth = 1, linestyle  = \"--\")\n",
    "    axs[ii].yaxis.set_major_formatter(MathTextSciFormatter(\"%1.0e\"))\n",
    "    axs[ii].xaxis.set_major_formatter(MathTextSciFormatter(\"%1.0e\"))\n",
    "    axs[ii].set_aspect('equal', 'box')\n",
    "\n",
    "    # annotate with R^2\n",
    "    axs[ii].text(np.max(lims)*-0.4, \n",
    "                 np.min(lims)*0.9, \n",
    "                 r'$r^2$ =' + \n",
    "                 str(np.round((r2_score(df_c.loc[:,YtestDF.columns[ii]],  \n",
    "                                        df_c.loc[:,YpredDF.columns[ii]])), 3)))\n",
    "    axs[ii].set_xlim([-np.max(np.abs(df_c.loc[:,YpredDF.columns[ii]])), \n",
    "                      np.max(np.abs(df_c.loc[:,YpredDF.columns[ii]]))])\n",
    "    axs[ii].set_ylim([-np.max(np.abs(df_c.loc[:,YpredDF.columns[ii]])), \n",
    "                  np.max(np.abs(df_c.loc[:,YpredDF.columns[ii]]))])\n",
    "\n",
    "# # residual plots x = predicted, y = actual - predicted\n",
    "# jj is column in dataset, plotNum is plot position\n",
    "for jj, plotNum in enumerate(np.arange(4, 7)):\n",
    "\n",
    "    axs[plotNum].hexbin(y = df_c.loc[:,YtestDF.columns[jj]] - df_c.loc[:,YpredDF.columns[jj]],\n",
    "                   x = df_c.loc[:,YpredDF.columns[jj]], \n",
    "                   gridsize = 50, cmap = cmap) \n",
    "    axs[plotNum].xaxis.set_major_locator(ticker.MaxNLocator(3))\n",
    "    axs[plotNum].yaxis.set_major_locator(ticker.MaxNLocator(3))  \n",
    "    axs[plotNum].set_yticklabels(axs[plotNum].get_yticklabels(), \n",
    "                                 rotation = 45, ha=\"center\", \n",
    "                                 va = \"bottom\", rotation_mode=\"anchor\")\n",
    "    axs[plotNum].yaxis.set_label_coords(-0.4,0.5)\n",
    "    axs[plotNum].xaxis.set_label_coords(0.5,-0.2)\n",
    "    \n",
    "    if jj == 3:\n",
    "        axs[plotNum].set_xlabel(ylabs[jj] + \"\\n\\n\" + \"                      Predicted Value\")\n",
    "    else:\n",
    "        axs[plotNum].set_xlabel(ylabs[jj] + \"\\n\")\n",
    "    axs[plotNum].yaxis.set_major_formatter(MathTextSciFormatter(\"%1.0e\"))\n",
    "    axs[plotNum].xaxis.set_major_formatter(MathTextSciFormatter(\"%1.0e\"))\n",
    "\n",
    "    if(jj == 0):\n",
    "        axs[plotNum].set_ylabel(\"Actual - Predicted\\n\" + ylabs[jj])\n",
    "    else:\n",
    "        axs[plotNum].set_ylabel(ylabs[jj])\n",
    "        \n",
    "    axs[plotNum].set_title(fig_col_names[jj], fontdict = {'verticalalignment': 'bottom'})\n",
    "    ttl = axs[plotNum].title\n",
    "    ttl.set_position([.15, 0.62])\n",
    "\n",
    "    axs[plotNum].hlines(y = 0, xmin = np.min( df_c.loc[:,YpredDF.columns[jj]]), \n",
    "                   xmax = np.max( df_c.loc[:,YpredDF.columns[jj]]), \n",
    "                   linestyle =  \"--\", linewidth = 1)\n",
    "    axs[plotNum].set_ylim([-np.max(np.abs(df_c.loc[:,YtestDF.columns[jj]] - df_c.loc[:,YpredDF.columns[jj]])), \n",
    "                      np.max(np.abs(df_c.loc[:,YtestDF.columns[jj]]- df_c.loc[:,YpredDF.columns[jj]]))])\n",
    "    axs[plotNum].tick_params(axis=\"x\",direction=\"out\", pad=-0)\n",
    "#####\n",
    "#### Part 2\n",
    "#####\n",
    "\n",
    "#fig.subplots_adjust(hspace = 0.9, wspace=.9)\n",
    "\n",
    "# Plot y = actual, x = predicted\n",
    "for plotnum, dataColNum in zip(np.arange(8,12), np.arange(3, 7)):\n",
    "    axs[plotnum].hexbin(y = df_c.loc[:,YtestDF.columns[dataColNum]],\n",
    "                   x = df_c.loc[:,YpredDF.columns[dataColNum]], \n",
    "                   gridsize = 50, cmap = cmap)\n",
    "    axs[plotnum].xaxis.set_major_locator(ticker.MaxNLocator(3))\n",
    "    axs[plotnum].yaxis.set_major_locator(ticker.MaxNLocator(3))\n",
    "    axs[plotnum].set_yticklabels(axs[plotnum].get_yticklabels(),\n",
    "                                 rotation = 45, ha=\"center\",\n",
    "                                 va = \"bottom\", rotation_mode=\"anchor\")\n",
    "    axs[plotnum].yaxis.set_label_coords(-0.5,0.5)\n",
    "    axs[plotnum].set_xlabel(ylabs[dataColNum] + \"\\n\")\n",
    "    axs[plotnum].xaxis.set_label_coords(0.5,-0.2)\n",
    "\n",
    "    if(plotnum == 8):\n",
    "        axs[plotnum].set_ylabel(\"Actual Value\\n\" + ylabs[dataColNum])\n",
    "    else:\n",
    "        axs[plotnum].set_ylabel(ylabs[dataColNum])\n",
    "\n",
    "    #axs[ii].set_title(YtestDF.columns[ii])\n",
    "    axs[plotnum].set_title(fig_col_names[dataColNum], \n",
    "                           fontdict = {'verticalalignment': 'bottom'})\n",
    "    ttl = axs[plotnum].title\n",
    "    ttl.set_position([.15, 0.60])\n",
    "    axs[plotnum].plot(df_c.loc[:,YtestDF.columns[dataColNum]], \n",
    "                 df_c.loc[:,YtestDF.columns[dataColNum]], \n",
    "                 'grey', linewidth = 1, linestyle  = \"--\")\n",
    "    axs[plotnum].yaxis.set_major_formatter(MathTextSciFormatter(\"%1.0e\"))\n",
    "    axs[plotnum].xaxis.set_major_formatter(MathTextSciFormatter(\"%1.0e\"))\n",
    "    axs[plotnum].set_aspect('equal', 'box')\n",
    "\n",
    "    # annotate with R^2\n",
    "    axs[plotnum].text(np.max(df_c.loc[:,YtestDF.columns[dataColNum]])*-0.4, \n",
    "                 np.min(df_c.loc[:,YtestDF.columns[dataColNum]])*0.85, \n",
    "                 r'$r^2$ =' + \n",
    "                 str(np.round((r2_score(df_c.loc[:,YtestDF.columns[dataColNum]],  \n",
    "                                        df_c.loc[:,YpredDF.columns[dataColNum]])), 3)))\n",
    "    axs[plotnum].set_xlim([-np.max(np.abs(df_c.loc[:,YpredDF.columns[dataColNum]])), \n",
    "                      np.max(np.abs(df_c.loc[:,YpredDF.columns[dataColNum]]))])\n",
    "    axs[plotnum].set_ylim([-np.max(np.abs(df_c.loc[:,YpredDF.columns[dataColNum]])), \n",
    "                  np.max(np.abs(df_c.loc[:,YpredDF.columns[dataColNum]]))])\n",
    "    \n",
    "    axs[plotnum].tick_params(axis=\"x\",direction=\"out\", pad=-0)\n",
    "\n",
    "# residual plots x = predicted, y = actual - predicted\n",
    "# jj is column in dataset, plotNum is plot position\n",
    "# refref Here\n",
    "for jj, plotNum in zip(np.arange(3, 7), np.arange(12, 16)):\n",
    "\n",
    "    axs[plotNum].hexbin(y = df_c.loc[:,YtestDF.columns[jj]] - df_c.loc[:,YpredDF.columns[jj]],\n",
    "                   x = df_c.loc[:,YpredDF.columns[jj]], \n",
    "                   gridsize = 50, cmap = cmap) \n",
    "    axs[plotNum].xaxis.set_major_locator(ticker.MaxNLocator(3))\n",
    "    axs[plotNum].yaxis.set_major_locator(ticker.MaxNLocator(3))  \n",
    "    axs[plotNum].set_yticklabels(axs[plotNum].get_yticklabels(), \n",
    "                                 rotation = 45, ha=\"center\", \n",
    "                                 va = \"bottom\", rotation_mode=\"anchor\")\n",
    "    axs[plotNum].yaxis.set_label_coords(-0.4,0.5)\n",
    "    axs[plotNum].xaxis.set_label_coords(0.5,-0.2)\n",
    "    \n",
    "    if jj == 4:\n",
    "        axs[plotNum].set_xlabel(ylabs[jj] + \"\\n\\n\" + \"                                       Predicted Value\")\n",
    "    else:\n",
    "        axs[plotNum].set_xlabel(ylabs[jj] + \"\\n\")\n",
    "    axs[plotNum].yaxis.set_major_formatter(MathTextSciFormatter(\"%1.0e\"))\n",
    "    axs[plotNum].xaxis.set_major_formatter(MathTextSciFormatter(\"%1.0e\"))\n",
    "\n",
    "    if(jj == 3):\n",
    "        axs[plotNum].set_ylabel(\"Actual - Predicted\\n\" + ylabs[jj])\n",
    "    else:\n",
    "        axs[plotNum].set_ylabel(ylabs[jj])\n",
    "\n",
    "    axs[plotNum].hlines(y = 0, xmin = np.min( df_c.loc[:,YpredDF.columns[jj]]), \n",
    "                   xmax = np.max( df_c.loc[:,YpredDF.columns[jj]]), \n",
    "                   linestyle =  \"--\", linewidth = 1)\n",
    "    axs[plotNum].set_ylim([-np.max(np.abs(df_c.loc[:,YtestDF.columns[jj]] - df_c.loc[:,YpredDF.columns[jj]])), \n",
    "                      np.max(np.abs(df_c.loc[:,YtestDF.columns[jj]]- df_c.loc[:,YpredDF.columns[jj]]))])\n",
    "    \n",
    "    axs[plotNum].set_title(fig_col_names[jj], fontdict = {'verticalalignment': 'bottom'})\n",
    "    ttl = axs[plotNum].title\n",
    "    ttl.set_position([.15, 0.55])\n",
    "    axs[plotNum].tick_params(axis=\"x\",direction=\"out\", pad=-0)\n",
    "    \n",
    "axs[3].axis('off')\n",
    "axs[7].axis('off')\n",
    "\n",
    "# add black horizontal line\n",
    "ax3 = plt.figure(1).add_subplot(111)\n",
    "ax3.plot([-1,1],[0.48,0.48], '-', color = \"black\" )\n",
    "ax3.set_xlim([0,1])\n",
    "ax3.set_ylim([0,1])\n",
    "ax3.axis(\"off\")\n",
    "\n",
    "#plt.tight_layout()\n",
    "#fig.savefig(os.path.join(figDir, \"PredVActual\" + modelName + \".pdf\"),)\n",
    "plt.show()\n",
    "# plt.close()"
   ]
  },
  {
   "cell_type": "code",
   "execution_count": null,
   "metadata": {},
   "outputs": [],
   "source": []
  },
  {
   "cell_type": "code",
   "execution_count": null,
   "metadata": {},
   "outputs": [],
   "source": []
  },
  {
   "cell_type": "code",
   "execution_count": null,
   "metadata": {},
   "outputs": [],
   "source": []
  },
  {
   "cell_type": "code",
   "execution_count": null,
   "metadata": {},
   "outputs": [],
   "source": []
  },
  {
   "cell_type": "code",
   "execution_count": null,
   "metadata": {},
   "outputs": [],
   "source": []
  },
  {
   "cell_type": "code",
   "execution_count": null,
   "metadata": {},
   "outputs": [],
   "source": []
  },
  {
   "cell_type": "code",
   "execution_count": 33,
   "metadata": {},
   "outputs": [
    {
     "data": {
      "text/plain": [
       "'Opt_rmsprop__Dro_0__Num_400_400_400_16__Wei_0_2020_01_30__10_46_12'"
      ]
     },
     "execution_count": 33,
     "metadata": {},
     "output_type": "execute_result"
    }
   ],
   "source": [
    "## Pruning\n",
    "modelName"
   ]
  },
  {
   "cell_type": "code",
   "execution_count": 34,
   "metadata": {},
   "outputs": [],
   "source": [
    "# load model\n",
    "from keras.models import load_model\n",
    "\n",
    "K.clear_session()\n",
    "\n",
    "\n",
    "modelName =  \"Opt_rmsprop__Dro_0__Num_400_400_400_16__Wei_0_2020_01_27__01_30_06\"\n",
    "modeltimestamp = \"2020_01_27__01_30_06\"\n",
    "model = load_model(os.path.join(savedModels,  modelName + \".h5\"))\n",
    "\n",
    "# load weights\n",
    "wtsFile = modelName + '_wts.pkl'\n",
    "wts = pickle.load(open(os.path.join(dataOutput, wtsFile), 'rb'))\n",
    "\n",
    "# load history with same name as model\n",
    "historyFile = modeltimestamp + '_history.pkl'\n",
    "historyDict = pickle.load(open(os.path.join(dataOutput, historyFile), 'rb'))\n"
   ]
  },
  {
   "cell_type": "code",
   "execution_count": 35,
   "metadata": {},
   "outputs": [
    {
     "data": {
      "image/png": "[encoded data removed]",
      "text/plain": [
       "<Figure size 720x360 with 1 Axes>"
      ]
     },
     "metadata": {},
     "output_type": "display_data"
    }
   ],
   "source": [
    "plt.rcParams.update({'font.size': 18})\n",
    "plot_model_history_fromDict(historyDict)"
   ]
  },
  {
   "cell_type": "code",
   "execution_count": null,
   "metadata": {},
   "outputs": [],
   "source": []
  },
  {
   "cell_type": "code",
   "execution_count": 36,
   "metadata": {},
   "outputs": [],
   "source": [
    "# train with pruning\n",
    "numCuts = 1\n",
    "\n",
    "wts = model.get_weights()\n",
    "wtLengths = []\n",
    "for ii in range(len(wts)):\n",
    "    wtLengths.append(np.prod(wts[ii].shape))"
   ]
  },
  {
   "cell_type": "code",
   "execution_count": 37,
   "metadata": {},
   "outputs": [],
   "source": [
    "\n",
    "\n",
    "# make new folder to save each prune\n",
    "modelSubdir = os.path.join(savedModels, modeltimestamp + \"_checkpoints\")\n",
    "if not os.path.exists(modelSubdir):\n",
    "    os.mkdir(modelSubdir)"
   ]
  },
  {
   "cell_type": "code",
   "execution_count": 38,
   "metadata": {},
   "outputs": [
    {
     "name": "stdout",
     "output_type": "stream",
     "text": [
      "[ 0.         15.86485043 30.95069212 44.62436102 56.48995528 66.40367703\n",
      " 74.42768674 80.75689166 85.64849155 89.36977272 92.16685544 94.25030081\n",
      " 95.7917306  96.92645889 97.75871874 98.36748577 98.81189556 99.1358533\n",
      " 99.37175734 99.54340943 99.66823978 99.75898315 99.82492807 99.87284121\n",
      " 99.90764768 99.93292997]\n"
     ]
    }
   ],
   "source": [
    "# train until I have very good results\n",
    "# then prune, and retrain until results are close\n",
    "# change pruning rate as data get closer to 100% removed\n",
    "def prune_percent_updater(x):\n",
    "    logit = np.exp(x*8) / (np.exp(x*8) + 1)\n",
    "    return((logit - 0.5)*2*50)\n",
    "\n",
    "# cuts a smaller portion as the percent gets closer to 100%\n",
    "cutPercent = prune_percent_updater(np.linspace(0, 1, 26))\n",
    "\n",
    "print(cutPercent*2)"
   ]
  },
  {
   "cell_type": "code",
   "execution_count": 39,
   "metadata": {},
   "outputs": [
    {
     "data": {
      "image/png": "[encoded data removed]",
      "text/plain": [
       "<Figure size 216x144 with 1 Axes>"
      ]
     },
     "metadata": {},
     "output_type": "display_data"
    }
   ],
   "source": [
    "plt.rcParams.update({'font.size': 12})\n",
    "plt.figure(figsize=[3,2])\n",
    "plt.plot((cutPercent*2)[0:21], \".\", color = \"black\")\n",
    "plt.xlabel(\"Pruning event\")\n",
    "plt.ylabel(\"Weights pruned (%)\")\n",
    "plt.savefig(os.path.join(figDir, \"pruningPercentages.pdf\"), bbox_inches='tight')"
   ]
  },
  {
   "cell_type": "code",
   "execution_count": 40,
   "metadata": {},
   "outputs": [
    {
     "data": {
      "text/plain": [
       "array([ 0.        , 15.86485043, 30.95069212, 44.62436102, 56.48995528,\n",
       "       66.40367703, 74.42768674, 80.75689166, 85.64849155, 89.36977272,\n",
       "       92.16685544, 94.25030081, 95.7917306 , 96.92645889, 97.75871874,\n",
       "       98.36748577, 98.81189556, 99.1358533 , 99.37175734, 99.54340943,\n",
       "       99.66823978])"
      ]
     },
     "execution_count": 40,
     "metadata": {},
     "output_type": "execute_result"
    }
   ],
   "source": [
    "(cutPercent*2)[0:21]"
   ]
  },
  {
   "cell_type": "code",
   "execution_count": 41,
   "metadata": {},
   "outputs": [
    {
     "name": "stdout",
     "output_type": "stream",
     "text": [
      "441\n",
      "Train on 8000000 samples, validate on 2000000 samples\n",
      "Epoch 1/1\n",
      " - 16s - loss: 3.6754e-04 - mean_squared_error: 3.6754e-04 - val_loss: 3.2517e-04 - val_mean_squared_error: 3.2517e-04\n",
      "279104 of 331735 weights retained\n",
      "Train on 8000000 samples, validate on 2000000 samples\n",
      "Epoch 1/1\n",
      " - 16s - loss: 3.7379e-04 - mean_squared_error: 3.7379e-04 - val_loss: 2.7951e-04 - val_mean_squared_error: 2.7951e-04\n",
      "279104 of 331735 weights retained\n",
      "Train on 8000000 samples, validate on 2000000 samples\n",
      "Epoch 1/1\n",
      " - 16s - loss: 3.6960e-04 - mean_squared_error: 3.6960e-04 - val_loss: 2.9268e-04 - val_mean_squared_error: 2.9268e-04\n",
      "279104 of 331735 weights retained\n",
      "Train on 8000000 samples, validate on 2000000 samples\n",
      "Epoch 1/1\n",
      " - 16s - loss: 3.6851e-04 - mean_squared_error: 3.6851e-04 - val_loss: 4.8885e-04 - val_mean_squared_error: 4.8885e-04\n",
      "279104 of 331735 weights retained\n",
      "Train on 8000000 samples, validate on 2000000 samples\n",
      "Epoch 1/1\n",
      " - 16s - loss: 3.6817e-04 - mean_squared_error: 3.6817e-04 - val_loss: 4.1929e-04 - val_mean_squared_error: 4.1929e-04\n",
      "279104 of 331735 weights retained\n",
      "Train on 8000000 samples, validate on 2000000 samples\n",
      "Epoch 1/1\n",
      " - 16s - loss: 3.6833e-04 - mean_squared_error: 3.6833e-04 - val_loss: 2.9016e-04 - val_mean_squared_error: 2.9016e-04\n",
      "279104 of 331735 weights retained\n",
      "Train on 8000000 samples, validate on 2000000 samples\n",
      "Epoch 1/1\n",
      " - 16s - loss: 3.6806e-04 - mean_squared_error: 3.6806e-04 - val_loss: 2.7991e-04 - val_mean_squared_error: 2.7991e-04\n",
      "279104 of 331735 weights retained\n",
      "change in log loss: -0.0008836324602662371\n",
      "Train on 8000000 samples, validate on 2000000 samples\n",
      "Epoch 1/1\n",
      " - 17s - loss: 3.6734e-04 - mean_squared_error: 3.6734e-04 - val_loss: 4.1679e-04 - val_mean_squared_error: 4.1679e-04\n",
      "279104 of 331735 weights retained\n",
      "change in log loss: -0.0006632344104047228\n",
      "************************************************ PRUNING ********************************************************\n",
      "************************************************ PRUNING ********************************************************\n",
      "************************************************ PRUNING ********************************************************\n",
      "Train on 8000000 samples, validate on 2000000 samples\n",
      "Epoch 1/1\n",
      " - 17s - loss: 3.6794e-04 - mean_squared_error: 3.6794e-04 - val_loss: 3.5832e-04 - val_mean_squared_error: 3.5832e-04\n",
      "229066 of 331735 weights retained\n",
      "Train on 8000000 samples, validate on 2000000 samples\n",
      "Epoch 1/1\n"
     ]
    },
    {
     "ename": "KeyboardInterrupt",
     "evalue": "",
     "output_type": "error",
     "traceback": [
      "\u001b[1;31m---------------------------------------------------------------------------\u001b[0m",
      "\u001b[1;31mKeyboardInterrupt\u001b[0m                         Traceback (most recent call last)",
      "\u001b[1;32m<ipython-input-41-9233dc3574fc>\u001b[0m in \u001b[0;36m<module>\u001b[1;34m\u001b[0m\n\u001b[0;32m      9\u001b[0m \u001b[1;33m\u001b[0m\u001b[0m\n\u001b[0;32m     10\u001b[0m         history = model.fit(Xtrain_scaled, Ytrain_scaled, validation_data=(Xval_scaled, Yval_scaled), \n\u001b[1;32m---> 11\u001b[1;33m                             verbose = 2, batch_size=2**12, epochs = 1)\n\u001b[0m\u001b[0;32m     12\u001b[0m \u001b[1;33m\u001b[0m\u001b[0m\n\u001b[0;32m     13\u001b[0m         \u001b[0moverallEpochCounter\u001b[0m \u001b[1;33m+=\u001b[0m \u001b[1;36m1\u001b[0m\u001b[1;33m\u001b[0m\u001b[0m\n",
      "\u001b[1;32m~\\Anaconda3\\envs\\deeplearn_V4\\lib\\site-packages\\keras\\engine\\training.py\u001b[0m in \u001b[0;36mfit\u001b[1;34m(self, x, y, batch_size, epochs, verbose, callbacks, validation_split, validation_data, shuffle, class_weight, sample_weight, initial_epoch, steps_per_epoch, validation_steps, **kwargs)\u001b[0m\n\u001b[0;32m   1703\u001b[0m                               \u001b[0minitial_epoch\u001b[0m\u001b[1;33m=\u001b[0m\u001b[0minitial_epoch\u001b[0m\u001b[1;33m,\u001b[0m\u001b[1;33m\u001b[0m\u001b[0m\n\u001b[0;32m   1704\u001b[0m                               \u001b[0msteps_per_epoch\u001b[0m\u001b[1;33m=\u001b[0m\u001b[0msteps_per_epoch\u001b[0m\u001b[1;33m,\u001b[0m\u001b[1;33m\u001b[0m\u001b[0m\n\u001b[1;32m-> 1705\u001b[1;33m                               validation_steps=validation_steps)\n\u001b[0m\u001b[0;32m   1706\u001b[0m \u001b[1;33m\u001b[0m\u001b[0m\n\u001b[0;32m   1707\u001b[0m     def evaluate(self, x=None, y=None,\n",
      "\u001b[1;32m~\\Anaconda3\\envs\\deeplearn_V4\\lib\\site-packages\\keras\\engine\\training.py\u001b[0m in \u001b[0;36m_fit_loop\u001b[1;34m(self, f, ins, out_labels, batch_size, epochs, verbose, callbacks, val_f, val_ins, shuffle, callback_metrics, initial_epoch, steps_per_epoch, validation_steps)\u001b[0m\n\u001b[0;32m   1221\u001b[0m                             \u001b[0mins_batch\u001b[0m \u001b[1;33m=\u001b[0m \u001b[0m_slice_arrays\u001b[0m\u001b[1;33m(\u001b[0m\u001b[0mins\u001b[0m\u001b[1;33m[\u001b[0m\u001b[1;33m:\u001b[0m\u001b[1;33m-\u001b[0m\u001b[1;36m1\u001b[0m\u001b[1;33m]\u001b[0m\u001b[1;33m,\u001b[0m \u001b[0mbatch_ids\u001b[0m\u001b[1;33m)\u001b[0m \u001b[1;33m+\u001b[0m \u001b[1;33m[\u001b[0m\u001b[0mins\u001b[0m\u001b[1;33m[\u001b[0m\u001b[1;33m-\u001b[0m\u001b[1;36m1\u001b[0m\u001b[1;33m]\u001b[0m\u001b[1;33m]\u001b[0m\u001b[1;33m\u001b[0m\u001b[0m\n\u001b[0;32m   1222\u001b[0m                         \u001b[1;32melse\u001b[0m\u001b[1;33m:\u001b[0m\u001b[1;33m\u001b[0m\u001b[0m\n\u001b[1;32m-> 1223\u001b[1;33m                             \u001b[0mins_batch\u001b[0m \u001b[1;33m=\u001b[0m \u001b[0m_slice_arrays\u001b[0m\u001b[1;33m(\u001b[0m\u001b[0mins\u001b[0m\u001b[1;33m,\u001b[0m \u001b[0mbatch_ids\u001b[0m\u001b[1;33m)\u001b[0m\u001b[1;33m\u001b[0m\u001b[0m\n\u001b[0m\u001b[0;32m   1224\u001b[0m                     \u001b[1;32mexcept\u001b[0m \u001b[0mTypeError\u001b[0m\u001b[1;33m:\u001b[0m\u001b[1;33m\u001b[0m\u001b[0m\n\u001b[0;32m   1225\u001b[0m                         raise TypeError('TypeError while preparing batch. '\n",
      "\u001b[1;32m~\\Anaconda3\\envs\\deeplearn_V4\\lib\\site-packages\\keras\\engine\\training.py\u001b[0m in \u001b[0;36m_slice_arrays\u001b[1;34m(arrays, start, stop)\u001b[0m\n\u001b[0;32m    383\u001b[0m             \u001b[1;32mif\u001b[0m \u001b[0mhasattr\u001b[0m\u001b[1;33m(\u001b[0m\u001b[0mstart\u001b[0m\u001b[1;33m,\u001b[0m \u001b[1;34m'shape'\u001b[0m\u001b[1;33m)\u001b[0m\u001b[1;33m:\u001b[0m\u001b[1;33m\u001b[0m\u001b[0m\n\u001b[0;32m    384\u001b[0m                 \u001b[0mstart\u001b[0m \u001b[1;33m=\u001b[0m \u001b[0mstart\u001b[0m\u001b[1;33m.\u001b[0m\u001b[0mtolist\u001b[0m\u001b[1;33m(\u001b[0m\u001b[1;33m)\u001b[0m\u001b[1;33m\u001b[0m\u001b[0m\n\u001b[1;32m--> 385\u001b[1;33m             \u001b[1;32mreturn\u001b[0m \u001b[1;33m[\u001b[0m\u001b[1;32mNone\u001b[0m \u001b[1;32mif\u001b[0m \u001b[0mx\u001b[0m \u001b[1;32mis\u001b[0m \u001b[1;32mNone\u001b[0m \u001b[1;32melse\u001b[0m \u001b[0mx\u001b[0m\u001b[1;33m[\u001b[0m\u001b[0mstart\u001b[0m\u001b[1;33m]\u001b[0m \u001b[1;32mfor\u001b[0m \u001b[0mx\u001b[0m \u001b[1;32min\u001b[0m \u001b[0marrays\u001b[0m\u001b[1;33m]\u001b[0m\u001b[1;33m\u001b[0m\u001b[0m\n\u001b[0m\u001b[0;32m    386\u001b[0m         \u001b[1;32melse\u001b[0m\u001b[1;33m:\u001b[0m\u001b[1;33m\u001b[0m\u001b[0m\n\u001b[0;32m    387\u001b[0m             \u001b[1;32mreturn\u001b[0m \u001b[1;33m[\u001b[0m\u001b[1;32mNone\u001b[0m \u001b[1;32mif\u001b[0m \u001b[0mx\u001b[0m \u001b[1;32mis\u001b[0m \u001b[1;32mNone\u001b[0m \u001b[1;32melse\u001b[0m \u001b[0mx\u001b[0m\u001b[1;33m[\u001b[0m\u001b[0mstart\u001b[0m\u001b[1;33m:\u001b[0m\u001b[0mstop\u001b[0m\u001b[1;33m]\u001b[0m \u001b[1;32mfor\u001b[0m \u001b[0mx\u001b[0m \u001b[1;32min\u001b[0m \u001b[0marrays\u001b[0m\u001b[1;33m]\u001b[0m\u001b[1;33m\u001b[0m\u001b[0m\n",
      "\u001b[1;32m~\\Anaconda3\\envs\\deeplearn_V4\\lib\\site-packages\\keras\\engine\\training.py\u001b[0m in \u001b[0;36m<listcomp>\u001b[1;34m(.0)\u001b[0m\n\u001b[0;32m    383\u001b[0m             \u001b[1;32mif\u001b[0m \u001b[0mhasattr\u001b[0m\u001b[1;33m(\u001b[0m\u001b[0mstart\u001b[0m\u001b[1;33m,\u001b[0m \u001b[1;34m'shape'\u001b[0m\u001b[1;33m)\u001b[0m\u001b[1;33m:\u001b[0m\u001b[1;33m\u001b[0m\u001b[0m\n\u001b[0;32m    384\u001b[0m                 \u001b[0mstart\u001b[0m \u001b[1;33m=\u001b[0m \u001b[0mstart\u001b[0m\u001b[1;33m.\u001b[0m\u001b[0mtolist\u001b[0m\u001b[1;33m(\u001b[0m\u001b[1;33m)\u001b[0m\u001b[1;33m\u001b[0m\u001b[0m\n\u001b[1;32m--> 385\u001b[1;33m             \u001b[1;32mreturn\u001b[0m \u001b[1;33m[\u001b[0m\u001b[1;32mNone\u001b[0m \u001b[1;32mif\u001b[0m \u001b[0mx\u001b[0m \u001b[1;32mis\u001b[0m \u001b[1;32mNone\u001b[0m \u001b[1;32melse\u001b[0m \u001b[0mx\u001b[0m\u001b[1;33m[\u001b[0m\u001b[0mstart\u001b[0m\u001b[1;33m]\u001b[0m \u001b[1;32mfor\u001b[0m \u001b[0mx\u001b[0m \u001b[1;32min\u001b[0m \u001b[0marrays\u001b[0m\u001b[1;33m]\u001b[0m\u001b[1;33m\u001b[0m\u001b[0m\n\u001b[0m\u001b[0;32m    386\u001b[0m         \u001b[1;32melse\u001b[0m\u001b[1;33m:\u001b[0m\u001b[1;33m\u001b[0m\u001b[0m\n\u001b[0;32m    387\u001b[0m             \u001b[1;32mreturn\u001b[0m \u001b[1;33m[\u001b[0m\u001b[1;32mNone\u001b[0m \u001b[1;32mif\u001b[0m \u001b[0mx\u001b[0m \u001b[1;32mis\u001b[0m \u001b[1;32mNone\u001b[0m \u001b[1;32melse\u001b[0m \u001b[0mx\u001b[0m\u001b[1;33m[\u001b[0m\u001b[0mstart\u001b[0m\u001b[1;33m:\u001b[0m\u001b[0mstop\u001b[0m\u001b[1;33m]\u001b[0m \u001b[1;32mfor\u001b[0m \u001b[0mx\u001b[0m \u001b[1;32min\u001b[0m \u001b[0marrays\u001b[0m\u001b[1;33m]\u001b[0m\u001b[1;33m\u001b[0m\u001b[0m\n",
      "\u001b[1;31mKeyboardInterrupt\u001b[0m: "
     ]
    }
   ],
   "source": [
    "overallEpochCounter = len(historyDict['mean_squared_error'])\n",
    "print(overallEpochCounter)\n",
    "\n",
    "while True:   \n",
    "   \n",
    "    for numEpocs in range(100):\n",
    "        \n",
    "        MSE_tmp = []\n",
    "\n",
    "        history = model.fit(Xtrain_scaled, Ytrain_scaled, validation_data=(Xval_scaled, Yval_scaled), \n",
    "                            verbose = 2, batch_size=2**12, epochs = 1)\n",
    "        \n",
    "        overallEpochCounter += 1\n",
    "        \n",
    "        # save history\n",
    "        historyDict[\"mean_squared_error\"].append(history.history[\"mean_squared_error\"][0])\n",
    "        historyDict[\"val_mean_squared_error\"].append(history.history[\"val_mean_squared_error\"][0])\n",
    "        \n",
    "        # local MSE\n",
    "        MSE_tmp.append(history.history[\"mean_squared_error\"][0])\n",
    "\n",
    "        # set weights that are close to 0 all the way back to 0, and then retrain for one epoch\n",
    "        # get nonzero weights\n",
    "        wts = model.get_weights().copy()\n",
    "\n",
    "        # set weights close to 0 to 0 (but ignore biases)\n",
    "        for ii in np.arange(0, len(wts), 1):\n",
    "            qants = np.percentile(np.reshape(wts[ii], -1), \n",
    "                                  q = (50 - cutPercent[numCuts], \n",
    "                                       50 + cutPercent[numCuts]), )\n",
    "            wts[ii][(wts[ii] > qants[0]) & (wts[ii] < qants[1])] = 0\n",
    "\n",
    "        # print nonzero weights\n",
    "        # calculate number of nonzero weights\n",
    "        nzwts = np.sum([np.nonzero(wts[ii].reshape(-1))[0].shape[0] for ii in range(len(wts))])\n",
    "        print(nzwts, \"of\", np.sum(wtLengths), \"weights retained\")\n",
    "\n",
    "        # set new weights and calculate new loss\n",
    "        model.set_weights(wts)\n",
    "        \n",
    "        # check the change in mean squared error, and if it's not changing much, then cut out more data\n",
    "        # calculate slope of loss, based on previous 5 data points\n",
    "        if numEpocs > 5:\n",
    "            inputData = historyDict[\"mean_squared_error\"][-5:]\n",
    "\n",
    "            m = np.shape(inputData)\n",
    "            X = np.matrix([np.ones(m), np.arange(0, len(inputData))]).T\n",
    "            y = np.matrix(np.log(inputData)).T\n",
    "\n",
    "            # Solve for projection matrix\n",
    "            intercept, slope = np.array(np.linalg.inv(X.T.dot(X)).dot(X.T).dot(y)).reshape(-1,)\n",
    "            print(\"change in log loss:\", slope)\n",
    "    \n",
    "            # break if slope has stopped changing or if the overall min has been surpassed\n",
    "            # in the first training, it will automatically prune after 5 epochs, because the min will be passed\n",
    "            if (np.abs(slope) < 0.0001) or (history.history[\"mean_squared_error\"][0] < np.min(historyDict[\"mean_squared_error\"][:-1])): \n",
    "                print(\"************************************************ PRUNING ********************************************************\")\n",
    "                print(\"************************************************ PRUNING ********************************************************\")\n",
    "                print(\"************************************************ PRUNING ********************************************************\")\n",
    "                \n",
    "                # save model\n",
    "                model.save(os.path.join(savedModels,  modelSubdir, modelName + str(overallEpochCounter) + '_Pruned.h5'))\n",
    "                \n",
    "                \n",
    "                # save weights\n",
    "                wts = model.get_weights().copy()\n",
    "\n",
    "                wtsFile = str(overallEpochCounter) + \"_\" + modelName + '_wts.pkl'\n",
    "                pickle.dump(wts, open(os.path.join(savedModels, modelSubdir, wtsFile), 'wb'))\n",
    "\n",
    "                # save history with same name as model\n",
    "                historyFile = modeltimestamp + '_history.pkl'\n",
    "                pickle.dump(historyDict, open(os.path.join(savedModels,modelSubdir, historyFile), 'wb'))\n",
    "                \n",
    "                numCuts += 1                \n",
    "                break\n",
    "\n",
    "    if numCuts >= len(cutPercent):\n",
    "        break\n",
    "\n",
    "        \n",
    "        #cutPercent += 0.2\n",
    "winsound.PlaySound(\"*\", winsound.SND_ALIAS)"
   ]
  },
  {
   "cell_type": "code",
   "execution_count": 42,
   "metadata": {},
   "outputs": [
    {
     "data": {
      "text/plain": [
       "0.15865374470586457"
      ]
     },
     "execution_count": 42,
     "metadata": {},
     "output_type": "execute_result"
    }
   ],
   "source": [
    "1 - 279104 / 331735"
   ]
  },
  {
   "cell_type": "code",
   "execution_count": 43,
   "metadata": {},
   "outputs": [
    {
     "name": "stdout",
     "output_type": "stream",
     "text": [
      "2000000/2000000 [==============================] - 59s 29us/step\n"
     ]
    },
    {
     "data": {
      "text/plain": [
       "[0.0003505141435971018, 0.0003505141435971018]"
      ]
     },
     "execution_count": 43,
     "metadata": {},
     "output_type": "execute_result"
    }
   ],
   "source": [
    "model.evaluate(Xval_scaled, Yval_scaled)"
   ]
  },
  {
   "cell_type": "code",
   "execution_count": 44,
   "metadata": {},
   "outputs": [
    {
     "name": "stdout",
     "output_type": "stream",
     "text": [
      "Train on 8000000 samples, validate on 2000000 samples\n",
      "Epoch 1/1\n",
      " - 16s - loss: 3.6720e-04 - mean_squared_error: 3.6720e-04 - val_loss: 3.5971e-04 - val_mean_squared_error: 3.5971e-04\n"
     ]
    },
    {
     "data": {
      "text/plain": [
       "<keras.callbacks.History at 0x167cb57ccf8>"
      ]
     },
     "execution_count": 44,
     "metadata": {},
     "output_type": "execute_result"
    }
   ],
   "source": [
    "model.fit(Xtrain_scaled, Ytrain_scaled, validation_data=(Xval_scaled, Yval_scaled), \n",
    "                            verbose = 2, batch_size=2**12, epochs = 1)"
   ]
  },
  {
   "cell_type": "code",
   "execution_count": 45,
   "metadata": {},
   "outputs": [
    {
     "name": "stdout",
     "output_type": "stream",
     "text": [
      "2000000/2000000 [==============================] - 58s 29us/step\n"
     ]
    },
    {
     "data": {
      "text/plain": [
       "[0.0003597097155561205, 0.0003597097155561205]"
      ]
     },
     "execution_count": 45,
     "metadata": {},
     "output_type": "execute_result"
    }
   ],
   "source": [
    "model.evaluate(Xval_scaled, Yval_scaled)"
   ]
  },
  {
   "cell_type": "code",
   "execution_count": 46,
   "metadata": {},
   "outputs": [
    {
     "name": "stdout",
     "output_type": "stream",
     "text": [
      "8000000/8000000 [==============================] - 246s 31us/step\n"
     ]
    },
    {
     "data": {
      "text/plain": [
       "[0.000359826050595264, 0.000359826050595264]"
      ]
     },
     "execution_count": 46,
     "metadata": {},
     "output_type": "execute_result"
    }
   ],
   "source": [
    "model.evaluate(Xtrain_scaled, Ytrain_scaled)"
   ]
  },
  {
   "cell_type": "code",
   "execution_count": 47,
   "metadata": {},
   "outputs": [
    {
     "name": "stdout",
     "output_type": "stream",
     "text": [
      "229066 of 331735 weights retained\n"
     ]
    }
   ],
   "source": [
    "wts = model.get_weights().copy()\n",
    "\n",
    "# set weights close to 0 to 0 (but ignore biases)\n",
    "for ii in np.arange(0, len(wts), 1):\n",
    "    qants = np.percentile(np.reshape(wts[ii], -1), \n",
    "                          q = (50 - cutPercent[numCuts], \n",
    "                               50 + cutPercent[numCuts]), )\n",
    "    wts[ii][(wts[ii] > qants[0]) & (wts[ii] < qants[1])] = 0\n",
    "\n",
    "# print nonzero weights\n",
    "# calculate number of nonzero weights\n",
    "nzwts = np.sum([np.nonzero(wts[ii].reshape(-1))[0].shape[0] for ii in range(len(wts))])\n",
    "print(nzwts, \"of\", np.sum(wtLengths), \"weights retained\")\n",
    "\n",
    "# set new weights and calculate new loss\n",
    "model.set_weights(wts)"
   ]
  },
  {
   "cell_type": "code",
   "execution_count": 48,
   "metadata": {},
   "outputs": [
    {
     "name": "stdout",
     "output_type": "stream",
     "text": [
      "8000000/8000000 [==============================] - 248s 31us/step\n"
     ]
    },
    {
     "data": {
      "text/plain": [
       "[0.0003666911154694972, 0.0003666911154694972]"
      ]
     },
     "execution_count": 48,
     "metadata": {},
     "output_type": "execute_result"
    }
   ],
   "source": [
    "model.evaluate(Xtrain_scaled, Ytrain_scaled)"
   ]
  },
  {
   "cell_type": "code",
   "execution_count": 49,
   "metadata": {},
   "outputs": [
    {
     "name": "stdout",
     "output_type": "stream",
     "text": [
      "2000000/2000000 [==============================] - 58s 29us/step\n"
     ]
    },
    {
     "data": {
      "text/plain": [
       "[0.00036662666725600137, 0.00036662666725600137]"
      ]
     },
     "execution_count": 49,
     "metadata": {},
     "output_type": "execute_result"
    }
   ],
   "source": [
    "model.evaluate(Xval_scaled, Yval_scaled)"
   ]
  },
  {
   "cell_type": "code",
   "execution_count": 50,
   "metadata": {},
   "outputs": [
    {
     "name": "stdout",
     "output_type": "stream",
     "text": [
      "Train on 8000000 samples, validate on 2000000 samples\n",
      "Epoch 1/1\n",
      " - 17s - loss: 3.6728e-04 - mean_squared_error: 3.6728e-04 - val_loss: 5.1239e-04 - val_mean_squared_error: 5.1239e-04\n"
     ]
    },
    {
     "data": {
      "text/plain": [
       "<keras.callbacks.History at 0x167cb57c710>"
      ]
     },
     "execution_count": 50,
     "metadata": {},
     "output_type": "execute_result"
    }
   ],
   "source": [
    "model.fit(Xtrain_scaled, Ytrain_scaled, validation_data=(Xval_scaled, Yval_scaled), \n",
    "                            verbose = 2, batch_size=2**12, epochs = 1)"
   ]
  },
  {
   "cell_type": "code",
   "execution_count": 51,
   "metadata": {},
   "outputs": [
    {
     "name": "stdout",
     "output_type": "stream",
     "text": [
      "8000000/8000000 [==============================] - 240s 30us/step\n"
     ]
    },
    {
     "data": {
      "text/plain": [
       "[0.0005122963224360137, 0.0005122963224360137]"
      ]
     },
     "execution_count": 51,
     "metadata": {},
     "output_type": "execute_result"
    }
   ],
   "source": [
    "model.evaluate(Xtrain_scaled, Ytrain_scaled)"
   ]
  },
  {
   "cell_type": "code",
   "execution_count": 52,
   "metadata": {},
   "outputs": [
    {
     "name": "stdout",
     "output_type": "stream",
     "text": [
      "2000000/2000000 [==============================] - 59s 30us/step\n"
     ]
    },
    {
     "data": {
      "text/plain": [
       "[0.0005123876188176218, 0.0005123876188176218]"
      ]
     },
     "execution_count": 52,
     "metadata": {},
     "output_type": "execute_result"
    }
   ],
   "source": [
    "model.evaluate(Xval_scaled, Yval_scaled)"
   ]
  },
  {
   "cell_type": "code",
   "execution_count": 53,
   "metadata": {},
   "outputs": [
    {
     "data": {
      "text/plain": [
       "2"
      ]
     },
     "execution_count": 53,
     "metadata": {},
     "output_type": "execute_result"
    }
   ],
   "source": [
    "numCuts"
   ]
  },
  {
   "cell_type": "code",
   "execution_count": 54,
   "metadata": {},
   "outputs": [
    {
     "data": {
      "text/plain": [
       "'99.54%'"
      ]
     },
     "execution_count": 54,
     "metadata": {},
     "output_type": "execute_result"
    }
   ],
   "source": [
    "str(np.round(cutPercent[19]*2, 2)) + \"%\""
   ]
  },
  {
   "cell_type": "code",
   "execution_count": 55,
   "metadata": {},
   "outputs": [
    {
     "data": {
      "text/plain": [
       "0.9953999427253681"
      ]
     },
     "execution_count": 55,
     "metadata": {},
     "output_type": "execute_result"
    }
   ],
   "source": [
    "1 - (1526   / 331735) "
   ]
  },
  {
   "cell_type": "code",
   "execution_count": 56,
   "metadata": {},
   "outputs": [],
   "source": [
    "# get cut points\n",
    "savedChecks = [f for f in os.listdir(os.path.join(savedModels, modelSubdir)) if f.endswith('wts.pkl')]\n",
    "vlines = [int(savedChecks[ii][0:4].replace(\"_\", \"\")) for ii in range(len(savedChecks)) if savedChecks[ii][0].isdigit()]"
   ]
  },
  {
   "cell_type": "code",
   "execution_count": 57,
   "metadata": {},
   "outputs": [
    {
     "data": {
      "text/plain": [
       "20"
      ]
     },
     "execution_count": 57,
     "metadata": {},
     "output_type": "execute_result"
    }
   ],
   "source": [
    "len(vlines)"
   ]
  },
  {
   "cell_type": "code",
   "execution_count": 58,
   "metadata": {},
   "outputs": [
    {
     "data": {
      "text/plain": [
       "[476,\n",
       " 449,\n",
       " 484,\n",
       " 491,\n",
       " 498,\n",
       " 505,\n",
       " 512,\n",
       " 535,\n",
       " 572,\n",
       " 642,\n",
       " 704,\n",
       " 839,\n",
       " 907,\n",
       " 1021,\n",
       " 1042,\n",
       " 1215,\n",
       " 1278,\n",
       " 1410,\n",
       " 1484,\n",
       " 1569,\n",
       " 1683]"
      ]
     },
     "execution_count": 58,
     "metadata": {},
     "output_type": "execute_result"
    }
   ],
   "source": [
    "vlines.sort()\n",
    "vlines.insert(0, 476) # this is the first cut  -- not saved\n",
    "vlines"
   ]
  },
  {
   "cell_type": "code",
   "execution_count": 59,
   "metadata": {},
   "outputs": [
    {
     "data": {
      "text/plain": [
       "[(476, 15.86),\n",
       " (449, 30.95),\n",
       " (484, 44.62),\n",
       " (491, 56.49),\n",
       " (498, 66.4),\n",
       " (505, 74.43),\n",
       " (512, 80.76),\n",
       " (535, 85.65),\n",
       " (572, 89.37),\n",
       " (642, 92.17),\n",
       " (704, 94.25),\n",
       " (839, 95.79),\n",
       " (907, 96.93),\n",
       " (1021, 97.76),\n",
       " (1042, 98.37),\n",
       " (1215, 98.81),\n",
       " (1278, 99.14),\n",
       " (1410, 99.37),\n",
       " (1484, 99.54),\n",
       " (1569, 99.67),\n",
       " (1683, 99.76)]"
      ]
     },
     "execution_count": 59,
     "metadata": {},
     "output_type": "execute_result"
    }
   ],
   "source": [
    "list(zip(vlines, [np.round(cutPercent[jj+1]*2, 2) for jj in  range(len(vlines))]))"
   ]
  },
  {
   "cell_type": "code",
   "execution_count": 60,
   "metadata": {},
   "outputs": [
    {
     "data": {
      "image/png": "[encoded data removed]",
      "text/plain": [
       "<Figure size 720x360 with 1 Axes>"
      ]
     },
     "metadata": {},
     "output_type": "display_data"
    }
   ],
   "source": [
    "plt.rcParams.update({'font.size': 16})\n",
    "plot_model_history_fromDict(historyDict)\n",
    "\n",
    "\n",
    "for vline in vlines:\n",
    "    plt.vlines(vline+1, ymin = 0, ymax = historyDict[\"mean_squared_error\"][0], alpha = 0.5, linewidth = 0.9)\n",
    "\n",
    "plt.ylim(10**-3.7, 10**-1.1)\n",
    "plt.title(\"\")\n",
    "\n",
    "for jj in [0,7,9, 10,12, 14,16,18, 19]:\n",
    "    s = str(np.round(cutPercent[jj+1]*2, 2)) + \"%\"\n",
    "    plt.plot(vlines[jj], 10**-1.75, \"v\", color = \"black\")\n",
    "    plt.text(vlines[jj], 10**-1.75, s,{'ha': 'left', 'va': 'bottom'}, fontsize=14, rotation=45)\n",
    "plt.savefig(os.path.join(figDir, \"ModelPruning_\" + modelName + \".pdf\"), bbox_inches='tight')\n",
    "plt.show()"
   ]
  },
  {
   "cell_type": "code",
   "execution_count": 61,
   "metadata": {},
   "outputs": [],
   "source": [
    "## Reload model with 80% of connections pruned and evaluate error"
   ]
  },
  {
   "cell_type": "code",
   "execution_count": 62,
   "metadata": {},
   "outputs": [],
   "source": [
    "K.clear_session()\n",
    "\n",
    "\n",
    "modelName =  \"Opt_rmsprop__Dro_0__Num_400_400_400_16__Wei_0_2020_01_27__01_30_06572_Pruned\"\n",
    "modeltimestamp = \"2020_01_27__01_30_06\"\n",
    "model = load_model(os.path.join(savedModels, modelSubdir,  modelName + \".h5\"))"
   ]
  },
  {
   "cell_type": "code",
   "execution_count": null,
   "metadata": {},
   "outputs": [],
   "source": []
  },
  {
   "cell_type": "code",
   "execution_count": 63,
   "metadata": {},
   "outputs": [
    {
     "name": "stdout",
     "output_type": "stream",
     "text": [
      "63844 of 331735 weights retained\n"
     ]
    }
   ],
   "source": [
    "wts = model.get_weights()\n",
    "# print nonzero weights\n",
    "# calculate number of nonzero weights\n",
    "nzwts = np.sum([np.nonzero(wts[ii].reshape(-1))[0].shape[0] for ii in range(len(wts))])\n",
    "print(nzwts, \"of\", np.sum(wtLengths), \"weights retained\")"
   ]
  },
  {
   "cell_type": "code",
   "execution_count": 64,
   "metadata": {},
   "outputs": [
    {
     "data": {
      "text/plain": [
       "0.8075451791339473"
      ]
     },
     "execution_count": 64,
     "metadata": {},
     "output_type": "execute_result"
    }
   ],
   "source": [
    "1 - nzwts / np.sum(wtLengths)"
   ]
  },
  {
   "cell_type": "code",
   "execution_count": 65,
   "metadata": {},
   "outputs": [
    {
     "data": {
      "text/plain": [
       "80.75689165786144"
      ]
     },
     "execution_count": 65,
     "metadata": {},
     "output_type": "execute_result"
    }
   ],
   "source": [
    "numCuts = 7\n",
    "\n",
    "cutPercent[numCuts]*2"
   ]
  },
  {
   "cell_type": "code",
   "execution_count": 66,
   "metadata": {},
   "outputs": [
    {
     "name": "stdout",
     "output_type": "stream",
     "text": [
      "Train on 8000000 samples, validate on 2000000 samples\n",
      "Epoch 1/1\n",
      " - 18s - loss: 3.5564e-04 - mean_squared_error: 3.5564e-04 - val_loss: 3.5079e-04 - val_mean_squared_error: 3.5079e-04\n",
      "63844 of 331735 weights retained\n",
      "Train on 8000000 samples, validate on 2000000 samples\n",
      "Epoch 1/1\n",
      " - 17s - loss: 3.5554e-04 - mean_squared_error: 3.5554e-04 - val_loss: 3.6186e-04 - val_mean_squared_error: 3.6186e-04\n",
      "63844 of 331735 weights retained\n",
      "Train on 8000000 samples, validate on 2000000 samples\n",
      "Epoch 1/1\n",
      " - 17s - loss: 3.5530e-04 - mean_squared_error: 3.5530e-04 - val_loss: 3.6601e-04 - val_mean_squared_error: 3.6601e-04\n",
      "63844 of 331735 weights retained\n",
      "Train on 8000000 samples, validate on 2000000 samples\n",
      "Epoch 1/1\n",
      " - 17s - loss: 3.5575e-04 - mean_squared_error: 3.5575e-04 - val_loss: 2.5863e-04 - val_mean_squared_error: 2.5863e-04\n",
      "63844 of 331735 weights retained\n",
      "Train on 8000000 samples, validate on 2000000 samples\n",
      "Epoch 1/1\n",
      " - 17s - loss: 3.5517e-04 - mean_squared_error: 3.5517e-04 - val_loss: 4.5345e-04 - val_mean_squared_error: 4.5345e-04\n",
      "63844 of 331735 weights retained\n",
      "Train on 8000000 samples, validate on 2000000 samples\n",
      "Epoch 1/1\n",
      " - 17s - loss: 3.5517e-04 - mean_squared_error: 3.5517e-04 - val_loss: 3.4057e-04 - val_mean_squared_error: 3.4057e-04\n",
      "63844 of 331735 weights retained\n",
      "Train on 8000000 samples, validate on 2000000 samples\n",
      "Epoch 1/1\n",
      " - 17s - loss: 3.5465e-04 - mean_squared_error: 3.5465e-04 - val_loss: 3.5218e-04 - val_mean_squared_error: 3.5218e-04\n",
      "63844 of 331735 weights retained\n",
      "Train on 8000000 samples, validate on 2000000 samples\n",
      "Epoch 1/1\n",
      " - 18s - loss: 3.5459e-04 - mean_squared_error: 3.5459e-04 - val_loss: 3.2832e-04 - val_mean_squared_error: 3.2832e-04\n",
      "63844 of 331735 weights retained\n",
      "Train on 8000000 samples, validate on 2000000 samples\n",
      "Epoch 1/1\n",
      " - 18s - loss: 3.5470e-04 - mean_squared_error: 3.5470e-04 - val_loss: 3.7451e-04 - val_mean_squared_error: 3.7451e-04\n",
      "63844 of 331735 weights retained\n",
      "Train on 8000000 samples, validate on 2000000 samples\n",
      "Epoch 1/1\n",
      " - 18s - loss: 3.5456e-04 - mean_squared_error: 3.5456e-04 - val_loss: 4.4066e-04 - val_mean_squared_error: 4.4066e-04\n",
      "63844 of 331735 weights retained\n"
     ]
    }
   ],
   "source": [
    "for ii in range(10):\n",
    "    history = model.fit(Xtrain_scaled, Ytrain_scaled, validation_data=(Xval_scaled, Yval_scaled), \n",
    "                        verbose = 2, batch_size=2**12, epochs = 1)\n",
    "\n",
    "    # set weights that are close to 0 all the way back to 0, and then retrain for one epoch\n",
    "    # get nonzero weights\n",
    "    wts = model.get_weights().copy()\n",
    "\n",
    "    # set weights close to 0 to 0 (but ignore biases)\n",
    "    for ii in np.arange(0, len(wts), 1):\n",
    "        qants = np.percentile(np.reshape(wts[ii], -1), \n",
    "                              q = (50 - cutPercent[numCuts], \n",
    "                                   50 + cutPercent[numCuts]), )\n",
    "        wts[ii][(wts[ii] > qants[0]) & (wts[ii] < qants[1])] = 0\n",
    "\n",
    "    # print nonzero weights\n",
    "    # calculate number of nonzero weights\n",
    "    nzwts = np.sum([np.nonzero(wts[ii].reshape(-1))[0].shape[0] for ii in range(len(wts))])\n",
    "    print(nzwts, \"of\", np.sum(wtLengths), \"weights retained\")\n",
    "\n",
    "    # set new weights and calculate new loss\n",
    "    model.set_weights(wts)"
   ]
  },
  {
   "cell_type": "code",
   "execution_count": null,
   "metadata": {},
   "outputs": [],
   "source": []
  },
  {
   "cell_type": "code",
   "execution_count": null,
   "metadata": {},
   "outputs": [],
   "source": []
  },
  {
   "cell_type": "code",
   "execution_count": 67,
   "metadata": {},
   "outputs": [
    {
     "name": "stdout",
     "output_type": "stream",
     "text": [
      "2000000/2000000 [==============================] - 59s 30us/step\n"
     ]
    },
    {
     "data": {
      "text/plain": [
       "[0.0009208869594410062, 0.0009208869594410062]"
      ]
     },
     "execution_count": 67,
     "metadata": {},
     "output_type": "execute_result"
    }
   ],
   "source": [
    "model.evaluate(Xval_scaled, Yval_scaled)"
   ]
  },
  {
   "cell_type": "code",
   "execution_count": 68,
   "metadata": {},
   "outputs": [
    {
     "name": "stdout",
     "output_type": "stream",
     "text": [
      "8000000/8000000 [==============================] - 247s 31us/step\n"
     ]
    },
    {
     "data": {
      "text/plain": [
       "[0.0009208033409710042, 0.0009208033409710042]"
      ]
     },
     "execution_count": 68,
     "metadata": {},
     "output_type": "execute_result"
    }
   ],
   "source": [
    "model.evaluate(Xtrain_scaled, Ytrain_scaled)"
   ]
  },
  {
   "cell_type": "code",
   "execution_count": null,
   "metadata": {},
   "outputs": [],
   "source": []
  },
  {
   "cell_type": "code",
   "execution_count": null,
   "metadata": {},
   "outputs": [],
   "source": []
  },
  {
   "cell_type": "code",
   "execution_count": null,
   "metadata": {},
   "outputs": [],
   "source": []
  },
  {
   "cell_type": "code",
   "execution_count": 69,
   "metadata": {},
   "outputs": [
    {
     "data": {
      "text/html": [
       "<div>\n",
       "<style scoped>\n",
       "    .dataframe tbody tr th:only-of-type {\n",
       "        vertical-align: middle;\n",
       "    }\n",
       "\n",
       "    .dataframe tbody tr th {\n",
       "        vertical-align: top;\n",
       "    }\n",
       "\n",
       "    .dataframe thead th {\n",
       "        text-align: right;\n",
       "    }\n",
       "</style>\n",
       "<table border=\"1\" class=\"dataframe\">\n",
       "  <thead>\n",
       "    <tr style=\"text-align: right;\">\n",
       "      <th></th>\n",
       "      <th>Fx</th>\n",
       "      <th>Fy</th>\n",
       "      <th>tau</th>\n",
       "      <th>x_dot_99</th>\n",
       "      <th>y_dot_99</th>\n",
       "      <th>phi_dot_99</th>\n",
       "      <th>theta_dot_99</th>\n",
       "      <th>Fx_pred</th>\n",
       "      <th>Fy_pred</th>\n",
       "      <th>tau_pred</th>\n",
       "      <th>x_dot_99_pred</th>\n",
       "      <th>y_dot_99_pred</th>\n",
       "      <th>phi_dot_99_pred</th>\n",
       "      <th>theta_dot_99_pred</th>\n",
       "    </tr>\n",
       "  </thead>\n",
       "  <tbody>\n",
       "    <tr>\n",
       "      <th>0</th>\n",
       "      <td>-5342.432439</td>\n",
       "      <td>14670.842555</td>\n",
       "      <td>-57718.558932</td>\n",
       "      <td>-577.070011</td>\n",
       "      <td>-1317.410003</td>\n",
       "      <td>-76.817401</td>\n",
       "      <td>-84.515766</td>\n",
       "      <td>-5967.453613</td>\n",
       "      <td>17690.990234</td>\n",
       "      <td>-48919.882812</td>\n",
       "      <td>-580.231506</td>\n",
       "      <td>-1343.035034</td>\n",
       "      <td>-114.036430</td>\n",
       "      <td>-118.226456</td>\n",
       "    </tr>\n",
       "    <tr>\n",
       "      <th>1</th>\n",
       "      <td>-2515.747661</td>\n",
       "      <td>3418.036434</td>\n",
       "      <td>-64775.342625</td>\n",
       "      <td>-18.839022</td>\n",
       "      <td>1292.672193</td>\n",
       "      <td>17.808851</td>\n",
       "      <td>1.199298</td>\n",
       "      <td>-5309.352539</td>\n",
       "      <td>5041.308105</td>\n",
       "      <td>-60412.925781</td>\n",
       "      <td>-1.199094</td>\n",
       "      <td>1383.986938</td>\n",
       "      <td>-4.115515</td>\n",
       "      <td>-8.734145</td>\n",
       "    </tr>\n",
       "    <tr>\n",
       "      <th>2</th>\n",
       "      <td>-6497.950980</td>\n",
       "      <td>-17669.503572</td>\n",
       "      <td>-49237.798014</td>\n",
       "      <td>-1094.713883</td>\n",
       "      <td>-1469.532303</td>\n",
       "      <td>124.939700</td>\n",
       "      <td>115.462788</td>\n",
       "      <td>-10475.754883</td>\n",
       "      <td>-16107.546875</td>\n",
       "      <td>-47557.539062</td>\n",
       "      <td>-1136.972900</td>\n",
       "      <td>-1391.377197</td>\n",
       "      <td>144.275894</td>\n",
       "      <td>139.078659</td>\n",
       "    </tr>\n",
       "    <tr>\n",
       "      <th>3</th>\n",
       "      <td>24237.433019</td>\n",
       "      <td>-8489.629561</td>\n",
       "      <td>56490.932254</td>\n",
       "      <td>-187.441953</td>\n",
       "      <td>-427.573908</td>\n",
       "      <td>100.329900</td>\n",
       "      <td>100.827942</td>\n",
       "      <td>22148.250000</td>\n",
       "      <td>-6499.242676</td>\n",
       "      <td>67265.007812</td>\n",
       "      <td>-273.286438</td>\n",
       "      <td>-550.424805</td>\n",
       "      <td>135.582123</td>\n",
       "      <td>130.418793</td>\n",
       "    </tr>\n",
       "    <tr>\n",
       "      <th>4</th>\n",
       "      <td>1782.839206</td>\n",
       "      <td>5791.542006</td>\n",
       "      <td>26503.920442</td>\n",
       "      <td>625.069923</td>\n",
       "      <td>31.217768</td>\n",
       "      <td>-26.216617</td>\n",
       "      <td>-20.827598</td>\n",
       "      <td>3927.504150</td>\n",
       "      <td>6896.766113</td>\n",
       "      <td>32134.501953</td>\n",
       "      <td>647.107727</td>\n",
       "      <td>-55.471333</td>\n",
       "      <td>9.455336</td>\n",
       "      <td>4.783791</td>\n",
       "    </tr>\n",
       "  </tbody>\n",
       "</table>\n",
       "</div>"
      ],
      "text/plain": [
       "             Fx            Fy           tau     x_dot_99     y_dot_99  phi_dot_99  theta_dot_99       Fx_pred       Fy_pred      tau_pred  x_dot_99_pred  y_dot_99_pred  phi_dot_99_pred  theta_dot_99_pred\n",
       "0  -5342.432439  14670.842555 -57718.558932  -577.070011 -1317.410003  -76.817401    -84.515766  -5967.453613  17690.990234 -48919.882812    -580.231506   -1343.035034      -114.036430        -118.226456\n",
       "1  -2515.747661   3418.036434 -64775.342625   -18.839022  1292.672193   17.808851      1.199298  -5309.352539   5041.308105 -60412.925781      -1.199094    1383.986938        -4.115515          -8.734145\n",
       "2  -6497.950980 -17669.503572 -49237.798014 -1094.713883 -1469.532303  124.939700    115.462788 -10475.754883 -16107.546875 -47557.539062   -1136.972900   -1391.377197       144.275894         139.078659\n",
       "3  24237.433019  -8489.629561  56490.932254  -187.441953  -427.573908  100.329900    100.827942  22148.250000  -6499.242676  67265.007812    -273.286438    -550.424805       135.582123         130.418793\n",
       "4   1782.839206   5791.542006  26503.920442   625.069923    31.217768  -26.216617    -20.827598   3927.504150   6896.766113  32134.501953     647.107727     -55.471333         9.455336           4.783791"
      ]
     },
     "execution_count": 69,
     "metadata": {},
     "output_type": "execute_result"
    }
   ],
   "source": [
    "# predict on test set\n",
    "Ytest_pred = model.predict(Xtest_scaled)\n",
    "\n",
    "\n",
    "# make data frames\n",
    "XtestDF = pd.DataFrame(scalerX.inverse_transform(Xtest_scaled), columns = Xtrain.columns)\n",
    "YtestDF = pd.DataFrame(Ytest, columns = Ytrain.columns)\n",
    "YpredDF = pd.DataFrame(scalerY.inverse_transform(Ytest_pred), columns = Ytrain.columns+ \"_pred\")\n",
    "\n",
    "pd.set_option('display.max_rows', 500)\n",
    "pd.set_option('display.max_columns', 500)\n",
    "pd.set_option('display.width', 1000)\n",
    "\n",
    "df_c = pd.concat([YtestDF.reset_index(drop=True), YpredDF], axis=1)\n",
    "df_c.head()"
   ]
  },
  {
   "cell_type": "code",
   "execution_count": 70,
   "metadata": {},
   "outputs": [
    {
     "data": {
      "image/png": "[encoded data removed]",
      "text/plain": [
       "<Figure size 576x540 with 17 Axes>"
      ]
     },
     "metadata": {},
     "output_type": "display_data"
    }
   ],
   "source": [
    "# make plots\n",
    "from sklearn.metrics import r2_score\n",
    "from matplotlib import ticker\n",
    "matplotlib.rcParams['mathtext.fontset'] = 'stix'\n",
    "matplotlib.rcParams['mathtext.default'] = 'regular'\n",
    "import matplotlib.ticker as mtick\n",
    "plt.rcParams.update({'font.size': 11})\n",
    "matplotlib.rcParams['pdf.fonttype'] = 42\n",
    "matplotlib.rcParams['ps.fonttype'] = 42\n",
    "import matplotlib.transforms as mtrans\n",
    "\n",
    "\n",
    "fig_col_names = [r'$F_x$', r'$F_y$', r'$\\tau$', r'$\\dot{x}_f$', r'$\\dot{y}_f$', r'$\\dot{\\phi}_f$', r'$\\dot{\\theta}_f$']\n",
    "\n",
    "plt.close(\"all\")\n",
    "fig, axs = plt.subplots(4,4, figsize=np.array([8, 7.5]), facecolor='w', edgecolor='k')\n",
    "fig.subplots_adjust(hspace = 0.9, wspace=.9)\n",
    "# fig.suptitle('Predicted vs. acutal ', fontsize=14, fontweight='bold')\n",
    "\n",
    "axs = axs.ravel(\"C\")\n",
    "\n",
    "ylabs = [r'$g·cm/s^2$', \"$g·cm/s^2$\", \"$g·cm^2/s^2$\", \"$cm/s$\", \"$cm/s$\", \"$rad/s$\", \"$rad/s$\"]\n",
    "\n",
    "# replace lightest colors with white\n",
    "import matplotlib.colors\n",
    "\n",
    "cmap = plt.cm.magma_r\n",
    "cmaplist = np.array([cmap(i) for i in range(cmap.N)])\n",
    "cmaplist[:,0:3] = np.divide(cmaplist[:, 0:3], 1.1)\n",
    "# make really low-value hexbins white\n",
    "cmaplist[0] = (1,1,1,0.5)\n",
    "cmap = matplotlib.colors.LinearSegmentedColormap.from_list('mcm',cmaplist, cmap.N)\n",
    "\n",
    "# Plot y = actual, x = predicted\n",
    "for ii in np.arange(0, 3):\n",
    "    axs[ii].hexbin(y = df_c.loc[:,YtestDF.columns[ii]],\n",
    "                   x = df_c.loc[:,YpredDF.columns[ii]], \n",
    "                   gridsize = 50, cmap = cmap)\n",
    "    axs[ii].xaxis.set_major_locator(ticker.MaxNLocator(3))\n",
    "    axs[ii].yaxis.set_major_locator(ticker.MaxNLocator(3))\n",
    "    axs[ii].set_yticklabels(axs[ii].get_yticklabels(), \n",
    "                            rotation = 45, ha=\"center\",\n",
    "                            va = \"bottom\", rotation_mode=\"anchor\")\n",
    "    axs[ii].yaxis.set_label_coords(-0.4,0.5)\n",
    "    axs[ii].set_xlabel(ylabs[ii] + \"\\n\")\n",
    "    axs[ii].xaxis.set_label_coords(0.5,-0.3)\n",
    "    axs[ii].tick_params(axis=\"x\",direction=\"out\", pad=-0)\n",
    "    \n",
    "\n",
    "    if(ii == 0):\n",
    "        axs[ii].set_ylabel(\"Actual Value\\n\" + ylabs[ii])\n",
    "    else:\n",
    "        axs[ii].set_ylabel(ylabs[ii])\n",
    "\n",
    "    #axs[ii].set_title(YtestDF.columns[ii])\n",
    "    axs[ii].set_title(fig_col_names[ii], fontdict = {'verticalalignment': 'bottom'})\n",
    "    ttl = axs[ii].title\n",
    "    ttl.set_position([.15, 0.62])\n",
    "    \n",
    "    # draw identity lines\n",
    "    lims = [\n",
    "        np.min([axs[ii].get_xlim(), axs[ii].get_ylim()]),  # min of both axes\n",
    "        np.max([axs[ii].get_xlim(), axs[ii].get_ylim()]),  # max of both axes\n",
    "        ]\n",
    "    axs[ii].plot(lims, lims,  \n",
    "                 'grey', linewidth = 1, linestyle  = \"--\")\n",
    "#     axs[ii].plot(df_c.loc[:,YtestDF.columns[ii]], \n",
    "#                  df_c.loc[:,YtestDF.columns[ii]], \n",
    "#                  'grey', linewidth = 1, linestyle  = \"--\")\n",
    "    axs[ii].yaxis.set_major_formatter(MathTextSciFormatter(\"%1.0e\"))\n",
    "    axs[ii].xaxis.set_major_formatter(MathTextSciFormatter(\"%1.0e\"))\n",
    "    axs[ii].set_aspect('equal', 'box')\n",
    "\n",
    "    # annotate with R^2\n",
    "    axs[ii].text(np.max(lims)*-0.4, \n",
    "                 np.min(lims)*0.9, \n",
    "                 r'$r^2$ =' + \n",
    "                 str(np.round((r2_score(df_c.loc[:,YtestDF.columns[ii]],  \n",
    "                                        df_c.loc[:,YpredDF.columns[ii]])), 3)))\n",
    "    axs[ii].set_xlim([-np.max(np.abs(df_c.loc[:,YpredDF.columns[ii]])), \n",
    "                      np.max(np.abs(df_c.loc[:,YpredDF.columns[ii]]))])\n",
    "    axs[ii].set_ylim([-np.max(np.abs(df_c.loc[:,YpredDF.columns[ii]])), \n",
    "                  np.max(np.abs(df_c.loc[:,YpredDF.columns[ii]]))])\n",
    "\n",
    "# # residual plots x = predicted, y = actual - predicted\n",
    "# jj is column in dataset, plotNum is plot position\n",
    "for jj, plotNum in enumerate(np.arange(4, 7)):\n",
    "\n",
    "    axs[plotNum].hexbin(y = df_c.loc[:,YtestDF.columns[jj]] - df_c.loc[:,YpredDF.columns[jj]],\n",
    "                   x = df_c.loc[:,YpredDF.columns[jj]], \n",
    "                   gridsize = 50, cmap = cmap) \n",
    "    axs[plotNum].xaxis.set_major_locator(ticker.MaxNLocator(3))\n",
    "    axs[plotNum].yaxis.set_major_locator(ticker.MaxNLocator(3))  \n",
    "    axs[plotNum].set_yticklabels(axs[plotNum].get_yticklabels(), \n",
    "                                 rotation = 45, ha=\"center\", \n",
    "                                 va = \"bottom\", rotation_mode=\"anchor\")\n",
    "    axs[plotNum].yaxis.set_label_coords(-0.4,0.5)\n",
    "    axs[plotNum].xaxis.set_label_coords(0.5,-0.3)\n",
    "    \n",
    "    if jj == 3:\n",
    "        axs[plotNum].set_xlabel(ylabs[jj] + \"\\n\\n\" + \"                      Predicted Value\")\n",
    "    else:\n",
    "        axs[plotNum].set_xlabel(ylabs[jj] + \"\\n\")\n",
    "    axs[plotNum].yaxis.set_major_formatter(MathTextSciFormatter(\"%1.0e\"))\n",
    "    axs[plotNum].xaxis.set_major_formatter(MathTextSciFormatter(\"%1.0e\"))\n",
    "\n",
    "    if(jj == 0):\n",
    "        axs[plotNum].set_ylabel(\"Actual - Predicted\\n\" + ylabs[jj])\n",
    "    else:\n",
    "        axs[plotNum].set_ylabel(ylabs[jj])\n",
    "        \n",
    "    axs[plotNum].set_title(fig_col_names[jj], fontdict = {'verticalalignment': 'bottom'})\n",
    "    ttl = axs[plotNum].title\n",
    "    ttl.set_position([.15, 0.62])\n",
    "\n",
    "    axs[plotNum].hlines(y = 0, xmin = np.min( df_c.loc[:,YpredDF.columns[jj]]), \n",
    "                   xmax = np.max( df_c.loc[:,YpredDF.columns[jj]]), \n",
    "                   linestyle =  \"--\", linewidth = 1)\n",
    "    axs[plotNum].set_ylim([-np.max(np.abs(df_c.loc[:,YtestDF.columns[jj]] - df_c.loc[:,YpredDF.columns[jj]])), \n",
    "                      np.max(np.abs(df_c.loc[:,YtestDF.columns[jj]]- df_c.loc[:,YpredDF.columns[jj]]))])\n",
    "    axs[plotNum].tick_params(axis=\"x\",direction=\"out\", pad=-0)\n",
    "#####\n",
    "#### Part 2\n",
    "#####\n",
    "\n",
    "#fig.subplots_adjust(hspace = 0.9, wspace=.9)\n",
    "\n",
    "# Plot y = actual, x = predicted\n",
    "for plotnum, dataColNum in zip(np.arange(8,12), np.arange(3, 7)):\n",
    "    axs[plotnum].hexbin(y = df_c.loc[:,YtestDF.columns[dataColNum]],\n",
    "                   x = df_c.loc[:,YpredDF.columns[dataColNum]], \n",
    "                   gridsize = 50, cmap = cmap)\n",
    "    axs[plotnum].xaxis.set_major_locator(ticker.MaxNLocator(3))\n",
    "    axs[plotnum].yaxis.set_major_locator(ticker.MaxNLocator(3))\n",
    "    axs[plotnum].set_yticklabels(axs[plotnum].get_yticklabels(),\n",
    "                                 rotation = 45, ha=\"center\",\n",
    "                                 va = \"bottom\", rotation_mode=\"anchor\")\n",
    "    axs[plotnum].yaxis.set_label_coords(-0.5,0.5)\n",
    "    axs[plotnum].set_xlabel(ylabs[dataColNum] + \"\\n\")\n",
    "    axs[plotnum].xaxis.set_label_coords(0.5,-0.3)\n",
    "\n",
    "    if(plotnum == 8):\n",
    "        axs[plotnum].set_ylabel(\"Actual Value\\n\" + ylabs[dataColNum])\n",
    "    else:\n",
    "        axs[plotnum].set_ylabel(ylabs[dataColNum])\n",
    "\n",
    "    #axs[ii].set_title(YtestDF.columns[ii])\n",
    "    axs[plotnum].set_title(fig_col_names[dataColNum], \n",
    "                           fontdict = {'verticalalignment': 'bottom'})\n",
    "    ttl = axs[plotnum].title\n",
    "    ttl.set_position([.15, 0.60])\n",
    "    axs[plotnum].plot(df_c.loc[:,YtestDF.columns[dataColNum]], \n",
    "                 df_c.loc[:,YtestDF.columns[dataColNum]], \n",
    "                 'grey', linewidth = 1, linestyle  = \"--\")\n",
    "    axs[plotnum].yaxis.set_major_formatter(MathTextSciFormatter(\"%1.0e\"))\n",
    "    axs[plotnum].xaxis.set_major_formatter(MathTextSciFormatter(\"%1.0e\"))\n",
    "    axs[plotnum].set_aspect('equal', 'box')\n",
    "\n",
    "    # annotate with R^2\n",
    "    axs[plotnum].text(np.max(df_c.loc[:,YtestDF.columns[dataColNum]])*-0.4, \n",
    "                 np.min(df_c.loc[:,YtestDF.columns[dataColNum]])*0.75, \n",
    "                 r'$r^2$ =' + \n",
    "                 str(np.round((r2_score(df_c.loc[:,YtestDF.columns[dataColNum]],  \n",
    "                                        df_c.loc[:,YpredDF.columns[dataColNum]])), 3)))\n",
    "    axs[plotnum].set_xlim([-np.max(np.abs(df_c.loc[:,YpredDF.columns[dataColNum]])), \n",
    "                      np.max(np.abs(df_c.loc[:,YpredDF.columns[dataColNum]]))])\n",
    "    axs[plotnum].set_ylim([-np.max(np.abs(df_c.loc[:,YpredDF.columns[dataColNum]])), \n",
    "                  np.max(np.abs(df_c.loc[:,YpredDF.columns[dataColNum]]))])\n",
    "    \n",
    "    axs[plotnum].tick_params(axis=\"x\",direction=\"out\", pad=-0)\n",
    "\n",
    "# residual plots x = predicted, y = actual - predicted\n",
    "# jj is column in dataset, plotNum is plot position\n",
    "# refref Here\n",
    "for jj, plotNum in zip(np.arange(3, 7), np.arange(12, 16)):\n",
    "\n",
    "    axs[plotNum].hexbin(y = df_c.loc[:,YtestDF.columns[jj]] - df_c.loc[:,YpredDF.columns[jj]],\n",
    "                   x = df_c.loc[:,YpredDF.columns[jj]], \n",
    "                   gridsize = 50, cmap = cmap) \n",
    "    axs[plotNum].xaxis.set_major_locator(ticker.MaxNLocator(3))\n",
    "    axs[plotNum].yaxis.set_major_locator(ticker.MaxNLocator(3))  \n",
    "    axs[plotNum].set_yticklabels(axs[plotNum].get_yticklabels(), \n",
    "                                 rotation = 45, ha=\"center\", \n",
    "                                 va = \"bottom\", rotation_mode=\"anchor\")\n",
    "    axs[plotNum].yaxis.set_label_coords(-0.4,0.5)\n",
    "    axs[plotNum].xaxis.set_label_coords(0.5,-0.3)############################\n",
    "    \n",
    "    if jj == 4:\n",
    "        axs[plotNum].set_xlabel(ylabs[jj] + \"\\n\\n\" + \"                                       Predicted Value\")\n",
    "    else:\n",
    "        axs[plotNum].set_xlabel(ylabs[jj] + \"\\n\")\n",
    "    axs[plotNum].yaxis.set_major_formatter(MathTextSciFormatter(\"%1.0e\"))\n",
    "    axs[plotNum].xaxis.set_major_formatter(MathTextSciFormatter(\"%1.0e\"))\n",
    "\n",
    "    if(jj == 3):\n",
    "        axs[plotNum].set_ylabel(\"Actual - Predicted\\n\" + ylabs[jj])\n",
    "    else:\n",
    "        axs[plotNum].set_ylabel(ylabs[jj])\n",
    "\n",
    "    axs[plotNum].hlines(y = 0, xmin = np.min( df_c.loc[:,YpredDF.columns[jj]]), \n",
    "                   xmax = np.max( df_c.loc[:,YpredDF.columns[jj]]), \n",
    "                   linestyle =  \"--\", linewidth = 1)\n",
    "    axs[plotNum].set_ylim([-np.max(np.abs(df_c.loc[:,YtestDF.columns[jj]] - df_c.loc[:,YpredDF.columns[jj]])), \n",
    "                      np.max(np.abs(df_c.loc[:,YtestDF.columns[jj]]- df_c.loc[:,YpredDF.columns[jj]]))])\n",
    "    \n",
    "    axs[plotNum].set_title(fig_col_names[jj], fontdict = {'verticalalignment': 'bottom'})\n",
    "    ttl = axs[plotNum].title\n",
    "    ttl.set_position([.15, 0.55])\n",
    "    axs[plotNum].tick_params(axis=\"x\",direction=\"out\", pad=-0)\n",
    "    \n",
    "axs[3].axis('off')\n",
    "axs[7].axis('off')\n",
    "\n",
    "# add black horizontal line\n",
    "ax3 = plt.figure(1).add_subplot(111)\n",
    "ax3.plot([-1,1],[0.47,0.47], '-', color = \"black\" )\n",
    "ax3.set_xlim([0,1])\n",
    "ax3.set_ylim([0,1])\n",
    "ax3.axis(\"off\")\n",
    "\n",
    "#plt.tight_layout()\n",
    "fig.savefig(os.path.join(figDir, \"PredVActual\" + modelName + \"PRUNED.pdf\"),)\n",
    "plt.show()\n",
    "# plt.close()"
   ]
  },
  {
   "cell_type": "code",
   "execution_count": 71,
   "metadata": {},
   "outputs": [
    {
     "data": {
      "text/plain": [
       "90125.91557855174"
      ]
     },
     "execution_count": 71,
     "metadata": {},
     "output_type": "execute_result"
    }
   ],
   "source": [
    "np.max(df_c.loc[:,\"Fy\"] - df_c.loc[:,\"Fy_pred\"])"
   ]
  },
  {
   "cell_type": "code",
   "execution_count": 72,
   "metadata": {},
   "outputs": [
    {
     "data": {
      "text/plain": [
       "68017.96"
      ]
     },
     "execution_count": 72,
     "metadata": {},
     "output_type": "execute_result"
    }
   ],
   "source": [
    "np.max( df_c.loc[:,\"Fy_pred\"])"
   ]
  },
  {
   "cell_type": "code",
   "execution_count": 73,
   "metadata": {},
   "outputs": [
    {
     "data": {
      "text/plain": [
       "44299.234220458886"
      ]
     },
     "execution_count": 73,
     "metadata": {},
     "output_type": "execute_result"
    }
   ],
   "source": [
    "np.max( df_c.loc[:,\"Fy\"])"
   ]
  },
  {
   "cell_type": "code",
   "execution_count": null,
   "metadata": {},
   "outputs": [],
   "source": []
  },
  {
   "cell_type": "code",
   "execution_count": null,
   "metadata": {},
   "outputs": [],
   "source": []
  },
  {
   "cell_type": "code",
   "execution_count": null,
   "metadata": {},
   "outputs": [],
   "source": []
  },
  {
   "cell_type": "code",
   "execution_count": null,
   "metadata": {},
   "outputs": [],
   "source": []
  },
  {
   "cell_type": "code",
   "execution_count": null,
   "metadata": {},
   "outputs": [],
   "source": []
  },
  {
   "cell_type": "code",
   "execution_count": null,
   "metadata": {},
   "outputs": [],
   "source": []
  },
  {
   "cell_type": "code",
   "execution_count": null,
   "metadata": {},
   "outputs": [],
   "source": []
  },
  {
   "cell_type": "code",
   "execution_count": null,
   "metadata": {},
   "outputs": [],
   "source": []
  },
  {
   "cell_type": "code",
   "execution_count": null,
   "metadata": {},
   "outputs": [],
   "source": []
  },
  {
   "cell_type": "code",
   "execution_count": null,
   "metadata": {},
   "outputs": [],
   "source": []
  },
  {
   "cell_type": "code",
   "execution_count": null,
   "metadata": {},
   "outputs": [],
   "source": []
  }
 ],
 "metadata": {
  "kernelspec": {
   "display_name": "deepLearn_V4",
   "language": "python",
   "name": "deeplearn_v4"
  },
  "language_info": {
   "codemirror_mode": {
    "name": "ipython",
    "version": 3
   },
   "file_extension": ".py",
   "mimetype": "text/x-python",
   "name": "python",
   "nbconvert_exporter": "python",
   "pygments_lexer": "ipython3",
   "version": "3.6.5"
  }
 },
 "nbformat": 4,
 "nbformat_minor": 2
}
